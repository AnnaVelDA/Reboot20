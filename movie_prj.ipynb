{
 "cells": [
  {
   "cell_type": "markdown",
   "id": "913f264e",
   "metadata": {},
   "source": [
    "# Фильмы с данными из википедии\n",
    "\n",
    "https://www.kaggle.com/jrobischon/wikipedia-movie-plots\n",
    "\n",
    "1. Подготовьте гистограммы по самым популярным жанрам, режиссерам, нац. принадлежностям фильмов, годам\n",
    "2. Подготовьте sentiment analysis по отзывам (используя  nltk.classify) и оцените, как распределяется sentiment по актерам, режиссерам и жанрам"
   ]
  },
  {
   "cell_type": "code",
   "execution_count": 270,
   "id": "e0502ad0",
   "metadata": {},
   "outputs": [],
   "source": [
    "# Эта команда позволяет вывыводить результаты друг за другом без вызова print\n",
    "from IPython.core.interactiveshell import InteractiveShell\n",
    "InteractiveShell.ast_node_interactivity = \"all\""
   ]
  },
  {
   "cell_type": "code",
   "execution_count": 271,
   "id": "279edc3b",
   "metadata": {},
   "outputs": [],
   "source": [
    "import pandas as pd\n",
    "import matplotlib.pyplot as plt\n",
    "import seaborn as sns\n",
    "import numpy as np\n",
    "from scipy import stats\n",
    "%matplotlib inline"
   ]
  },
  {
   "cell_type": "code",
   "execution_count": 272,
   "id": "9e121c4e",
   "metadata": {},
   "outputs": [],
   "source": [
    "df = pd.read_csv('data/wiki_movie_plots_deduped.csv')"
   ]
  },
  {
   "cell_type": "markdown",
   "id": "09460479",
   "metadata": {},
   "source": [
    "## 1.  Анализ исходных данных"
   ]
  },
  {
   "cell_type": "code",
   "execution_count": 216,
   "id": "1a60d924",
   "metadata": {},
   "outputs": [
    {
     "data": {
      "text/html": [
       "<div>\n",
       "<style scoped>\n",
       "    .dataframe tbody tr th:only-of-type {\n",
       "        vertical-align: middle;\n",
       "    }\n",
       "\n",
       "    .dataframe tbody tr th {\n",
       "        vertical-align: top;\n",
       "    }\n",
       "\n",
       "    .dataframe thead th {\n",
       "        text-align: right;\n",
       "    }\n",
       "</style>\n",
       "<table border=\"1\" class=\"dataframe\">\n",
       "  <thead>\n",
       "    <tr style=\"text-align: right;\">\n",
       "      <th></th>\n",
       "      <th>Release Year</th>\n",
       "      <th>Title</th>\n",
       "      <th>Origin/Ethnicity</th>\n",
       "      <th>Director</th>\n",
       "      <th>Cast</th>\n",
       "      <th>Genre</th>\n",
       "      <th>Wiki Page</th>\n",
       "      <th>Plot</th>\n",
       "    </tr>\n",
       "  </thead>\n",
       "  <tbody>\n",
       "    <tr>\n",
       "      <th>0</th>\n",
       "      <td>1901</td>\n",
       "      <td>Kansas Saloon Smashers</td>\n",
       "      <td>American</td>\n",
       "      <td>Unknown</td>\n",
       "      <td>NaN</td>\n",
       "      <td>unknown</td>\n",
       "      <td>https://en.wikipedia.org/wiki/Kansas_Saloon_Sm...</td>\n",
       "      <td>A bartender is working at a saloon, serving dr...</td>\n",
       "    </tr>\n",
       "    <tr>\n",
       "      <th>1</th>\n",
       "      <td>1901</td>\n",
       "      <td>Love by the Light of the Moon</td>\n",
       "      <td>American</td>\n",
       "      <td>Unknown</td>\n",
       "      <td>NaN</td>\n",
       "      <td>unknown</td>\n",
       "      <td>https://en.wikipedia.org/wiki/Love_by_the_Ligh...</td>\n",
       "      <td>The moon, painted with a smiling face hangs ov...</td>\n",
       "    </tr>\n",
       "    <tr>\n",
       "      <th>2</th>\n",
       "      <td>1901</td>\n",
       "      <td>The Martyred Presidents</td>\n",
       "      <td>American</td>\n",
       "      <td>Unknown</td>\n",
       "      <td>NaN</td>\n",
       "      <td>unknown</td>\n",
       "      <td>https://en.wikipedia.org/wiki/The_Martyred_Pre...</td>\n",
       "      <td>The film, just over a minute long, is composed...</td>\n",
       "    </tr>\n",
       "    <tr>\n",
       "      <th>3</th>\n",
       "      <td>1901</td>\n",
       "      <td>Terrible Teddy, the Grizzly King</td>\n",
       "      <td>American</td>\n",
       "      <td>Unknown</td>\n",
       "      <td>NaN</td>\n",
       "      <td>unknown</td>\n",
       "      <td>https://en.wikipedia.org/wiki/Terrible_Teddy,_...</td>\n",
       "      <td>Lasting just 61 seconds and consisting of two ...</td>\n",
       "    </tr>\n",
       "    <tr>\n",
       "      <th>4</th>\n",
       "      <td>1902</td>\n",
       "      <td>Jack and the Beanstalk</td>\n",
       "      <td>American</td>\n",
       "      <td>George S. Fleming, Edwin S. Porter</td>\n",
       "      <td>NaN</td>\n",
       "      <td>unknown</td>\n",
       "      <td>https://en.wikipedia.org/wiki/Jack_and_the_Bea...</td>\n",
       "      <td>The earliest known adaptation of the classic f...</td>\n",
       "    </tr>\n",
       "  </tbody>\n",
       "</table>\n",
       "</div>"
      ],
      "text/plain": [
       "   Release Year                             Title Origin/Ethnicity  \\\n",
       "0          1901            Kansas Saloon Smashers         American   \n",
       "1          1901     Love by the Light of the Moon         American   \n",
       "2          1901           The Martyred Presidents         American   \n",
       "3          1901  Terrible Teddy, the Grizzly King         American   \n",
       "4          1902            Jack and the Beanstalk         American   \n",
       "\n",
       "                             Director Cast    Genre  \\\n",
       "0                             Unknown  NaN  unknown   \n",
       "1                             Unknown  NaN  unknown   \n",
       "2                             Unknown  NaN  unknown   \n",
       "3                             Unknown  NaN  unknown   \n",
       "4  George S. Fleming, Edwin S. Porter  NaN  unknown   \n",
       "\n",
       "                                           Wiki Page  \\\n",
       "0  https://en.wikipedia.org/wiki/Kansas_Saloon_Sm...   \n",
       "1  https://en.wikipedia.org/wiki/Love_by_the_Ligh...   \n",
       "2  https://en.wikipedia.org/wiki/The_Martyred_Pre...   \n",
       "3  https://en.wikipedia.org/wiki/Terrible_Teddy,_...   \n",
       "4  https://en.wikipedia.org/wiki/Jack_and_the_Bea...   \n",
       "\n",
       "                                                Plot  \n",
       "0  A bartender is working at a saloon, serving dr...  \n",
       "1  The moon, painted with a smiling face hangs ov...  \n",
       "2  The film, just over a minute long, is composed...  \n",
       "3  Lasting just 61 seconds and consisting of two ...  \n",
       "4  The earliest known adaptation of the classic f...  "
      ]
     },
     "execution_count": 216,
     "metadata": {},
     "output_type": "execute_result"
    }
   ],
   "source": [
    "df.head()"
   ]
  },
  {
   "cell_type": "code",
   "execution_count": 217,
   "id": "c5d2fb1a",
   "metadata": {},
   "outputs": [
    {
     "name": "stdout",
     "output_type": "stream",
     "text": [
      "<class 'pandas.core.frame.DataFrame'>\n",
      "RangeIndex: 34886 entries, 0 to 34885\n",
      "Data columns (total 8 columns):\n",
      " #   Column            Non-Null Count  Dtype \n",
      "---  ------            --------------  ----- \n",
      " 0   Release Year      34886 non-null  int64 \n",
      " 1   Title             34886 non-null  object\n",
      " 2   Origin/Ethnicity  34886 non-null  object\n",
      " 3   Director          34886 non-null  object\n",
      " 4   Cast              33464 non-null  object\n",
      " 5   Genre             34886 non-null  object\n",
      " 6   Wiki Page         34886 non-null  object\n",
      " 7   Plot              34886 non-null  object\n",
      "dtypes: int64(1), object(7)\n",
      "memory usage: 2.1+ MB\n"
     ]
    }
   ],
   "source": [
    "df.info()"
   ]
  },
  {
   "cell_type": "markdown",
   "id": "985bf3ea",
   "metadata": {},
   "source": [
    "### Поле \"Genre\" (жанр)"
   ]
  },
  {
   "cell_type": "code",
   "execution_count": 342,
   "id": "f6ef7af8",
   "metadata": {},
   "outputs": [
    {
     "data": {
      "text/plain": [
       "count       34886\n",
       "unique       2265\n",
       "top       unknown\n",
       "freq         6083\n",
       "Name: Genre, dtype: object"
      ]
     },
     "execution_count": 342,
     "metadata": {},
     "output_type": "execute_result"
    }
   ],
   "source": [
    "df['Genre'].describe()"
   ]
  },
  {
   "cell_type": "code",
   "execution_count": 343,
   "id": "a3baa094",
   "metadata": {},
   "outputs": [
    {
     "name": "stdout",
     "output_type": "stream",
     "text": [
      "Кол-во NaN: 0\n"
     ]
    }
   ],
   "source": [
    "print(f\"Кол-во NaN: {df['Genre'].isna().sum()}\")"
   ]
  },
  {
   "cell_type": "code",
   "execution_count": 344,
   "id": "6d71d218",
   "metadata": {},
   "outputs": [
    {
     "data": {
      "text/plain": [
       "Genre\n",
       "family              217\n",
       "sci-fi              221\n",
       "comedy, drama       236\n",
       "animation           264\n",
       "war                 273\n",
       "mystery             310\n",
       "film noir           345\n",
       "science fiction     418\n",
       "romantic comedy     461\n",
       "crime drama         464\n",
       "musical             467\n",
       "adventure           526\n",
       "crime               568\n",
       "western             865\n",
       "romance             923\n",
       "thriller            966\n",
       "action             1098\n",
       "horror             1167\n",
       "comedy             4379\n",
       "drama              5964\n",
       "unknown            6083\n",
       "Name: g_cnt, dtype: int64"
      ]
     },
     "execution_count": 344,
     "metadata": {},
     "output_type": "execute_result"
    }
   ],
   "source": [
    "df['g_cnt'] = df['Genre']\n",
    "top_ganres = df.groupby(['Genre'])['g_cnt'].count().sort_values(ascending=True).tail(21)\n",
    "top_ganres"
   ]
  },
  {
   "cell_type": "code",
   "execution_count": 345,
   "id": "e298ccb4",
   "metadata": {},
   "outputs": [
    {
     "data": {
      "text/plain": [
       "<AxesSubplot:ylabel='Genre'>"
      ]
     },
     "execution_count": 345,
     "metadata": {},
     "output_type": "execute_result"
    },
    {
     "data": {
      "image/png": "[encoded data removed]",
      "text/plain": [
       "<Figure size 432x288 with 1 Axes>"
      ]
     },
     "metadata": {
      "needs_background": "light"
     },
     "output_type": "display_data"
    }
   ],
   "source": [
    "top_ganres.plot.barh()"
   ]
  },
  {
   "cell_type": "code",
   "execution_count": 346,
   "id": "7117ca2b",
   "metadata": {},
   "outputs": [
    {
     "name": "stdout",
     "output_type": "stream",
     "text": [
      "Доля top_ganres: 0.75\n",
      "Доля unknown: 0.17\n"
     ]
    }
   ],
   "source": [
    "print(f\"Доля top_ganres: {top_ganres.sum()/df['Genre'].count():2.2f}\")\n",
    "print(f\"Доля unknown: {top_ganres['unknown']/df['Genre'].count():2.2f}\")"
   ]
  },
  {
   "cell_type": "markdown",
   "id": "8b1aa3ee",
   "metadata": {},
   "source": [
    "### Поле \"Director\" (Режиссер)"
   ]
  },
  {
   "cell_type": "code",
   "execution_count": 347,
   "id": "c4f165d1",
   "metadata": {},
   "outputs": [
    {
     "data": {
      "text/plain": [
       "count       34886\n",
       "unique      12593\n",
       "top       Unknown\n",
       "freq         1124\n",
       "Name: Director, dtype: object"
      ]
     },
     "execution_count": 347,
     "metadata": {},
     "output_type": "execute_result"
    }
   ],
   "source": [
    "df['Director'].describe()"
   ]
  },
  {
   "cell_type": "code",
   "execution_count": 348,
   "id": "eb61324a",
   "metadata": {},
   "outputs": [
    {
     "data": {
      "text/plain": [
       "Director\n",
       "Richard Thorpe         55\n",
       "Norman Taurog          56\n",
       "William A. Seiter      56\n",
       "Allan Dwan             58\n",
       "John Ford              59\n",
       "Jules White            63\n",
       "Lloyd Bacon            66\n",
       "Hanna-Barbera          77\n",
       "Michael Curtiz         79\n",
       "Unknown              1124\n",
       "Name: d_cnt, dtype: int64"
      ]
     },
     "execution_count": 348,
     "metadata": {},
     "output_type": "execute_result"
    }
   ],
   "source": [
    "df['d_cnt'] = df['Director']\n",
    "top_dir = df.groupby(['Director'])['d_cnt'].count().sort_values(ascending=True).tail(10)\n",
    "top_dir"
   ]
  },
  {
   "cell_type": "code",
   "execution_count": 349,
   "id": "7b8786fe",
   "metadata": {},
   "outputs": [
    {
     "data": {
      "text/plain": [
       "<AxesSubplot:ylabel='Director'>"
      ]
     },
     "execution_count": 349,
     "metadata": {},
     "output_type": "execute_result"
    },
    {
     "data": {
      "image/png": "[encoded data removed]",
      "text/plain": [
       "<Figure size 432x288 with 1 Axes>"
      ]
     },
     "metadata": {
      "needs_background": "light"
     },
     "output_type": "display_data"
    }
   ],
   "source": [
    "top_dir.plot.barh()"
   ]
  },
  {
   "cell_type": "code",
   "execution_count": 350,
   "id": "b3483354",
   "metadata": {},
   "outputs": [
    {
     "name": "stdout",
     "output_type": "stream",
     "text": [
      "Доля top_directors: 0.05\n",
      "Доля unknown: 0.03\n"
     ]
    }
   ],
   "source": [
    "print(f\"Доля top_directors: {top_dir.sum()/df['Director'].count():2.2f}\")\n",
    "print(f\"Доля unknown: {top_dir['Unknown']/df['Director'].count():2.2f}\")"
   ]
  },
  {
   "cell_type": "markdown",
   "id": "f63f6e7b",
   "metadata": {},
   "source": [
    "### Поле \"Origin/Ethnicity\" (Нац.принадлежность)"
   ]
  },
  {
   "cell_type": "code",
   "execution_count": 351,
   "id": "f238138e",
   "metadata": {},
   "outputs": [
    {
     "data": {
      "text/plain": [
       "count        34886\n",
       "unique          24\n",
       "top       American\n",
       "freq         17377\n",
       "Name: Origin/Ethnicity, dtype: object"
      ]
     },
     "execution_count": 351,
     "metadata": {},
     "output_type": "execute_result"
    }
   ],
   "source": [
    "df['Origin/Ethnicity'].describe()"
   ]
  },
  {
   "cell_type": "code",
   "execution_count": 352,
   "id": "2148cb19",
   "metadata": {},
   "outputs": [
    {
     "data": {
      "text/plain": [
       "Origin/Ethnicity\n",
       "Maldivian           2\n",
       "Assamese            9\n",
       "Egyptian           67\n",
       "Turkish            70\n",
       "Malaysian          70\n",
       "Punjabi            84\n",
       "Bangladeshi        87\n",
       "Filipino          128\n",
       "Marathi           141\n",
       "Russian           232\n",
       "Bengali           306\n",
       "Kannada           444\n",
       "Chinese           463\n",
       "South_Korean      522\n",
       "Australian        576\n",
       "Canadian          723\n",
       "Hong Kong         791\n",
       "Malayalam        1095\n",
       "Japanese         1188\n",
       "Telugu           1311\n",
       "Tamil            2599\n",
       "Bollywood        2931\n",
       "British          3670\n",
       "American        17377\n",
       "Name: d_cnt, dtype: int64"
      ]
     },
     "execution_count": 352,
     "metadata": {},
     "output_type": "execute_result"
    }
   ],
   "source": [
    "df['d_cnt'] = df['Origin/Ethnicity']\n",
    "ethnic = df.groupby(['Origin/Ethnicity'])['d_cnt'].count().sort_values(ascending=True)\n",
    "ethnic"
   ]
  },
  {
   "cell_type": "code",
   "execution_count": 294,
   "id": "e3d9ec6e",
   "metadata": {},
   "outputs": [
    {
     "data": {
      "text/plain": [
       "<AxesSubplot:ylabel='Origin/Ethnicity'>"
      ]
     },
     "execution_count": 294,
     "metadata": {},
     "output_type": "execute_result"
    },
    {
     "data": {
      "image/png": "[encoded data removed]",
      "text/plain": [
       "<Figure size 432x288 with 1 Axes>"
      ]
     },
     "metadata": {
      "needs_background": "light"
     },
     "output_type": "display_data"
    }
   ],
   "source": [
    "ethnic.plot.barh()"
   ]
  },
  {
   "cell_type": "code",
   "execution_count": 296,
   "id": "3c49bb40",
   "metadata": {},
   "outputs": [
    {
     "name": "stdout",
     "output_type": "stream",
     "text": [
      "Доля American: 0.50\n"
     ]
    }
   ],
   "source": [
    "print(f\"Доля American: {ethnic['American']/df['Origin/Ethnicity'].count():2.2f}\")"
   ]
  },
  {
   "cell_type": "markdown",
   "id": "f8cf7514",
   "metadata": {},
   "source": [
    "### Поле \"Release Year\" (Год релиза)"
   ]
  },
  {
   "cell_type": "code",
   "execution_count": 300,
   "id": "d1e2f5ed",
   "metadata": {},
   "outputs": [
    {
     "data": {
      "text/plain": [
       "count     34886\n",
       "unique      117\n",
       "top        2013\n",
       "freq       1021\n",
       "Name: Release Year, dtype: object"
      ]
     },
     "execution_count": 300,
     "metadata": {},
     "output_type": "execute_result"
    }
   ],
   "source": [
    "df['Release Year'].astype(str).describe()"
   ]
  },
  {
   "cell_type": "code",
   "execution_count": 309,
   "id": "1424edab",
   "metadata": {},
   "outputs": [
    {
     "data": {
      "text/plain": [
       "Release Year\n",
       "1994     471\n",
       "1996     475\n",
       "1995     488\n",
       "2002     492\n",
       "1997     494\n",
       "2003     514\n",
       "2004     565\n",
       "2005     575\n",
       "2008     650\n",
       "2015     661\n",
       "2007     665\n",
       "2016     721\n",
       "2006     723\n",
       "2009     745\n",
       "2017     805\n",
       "2010     825\n",
       "2011     858\n",
       "2012     874\n",
       "2014     929\n",
       "2013    1021\n",
       "Name: d_cnt, dtype: int64"
      ]
     },
     "execution_count": 309,
     "metadata": {},
     "output_type": "execute_result"
    }
   ],
   "source": [
    "df['d_cnt'] = df['Release Year']\n",
    "top_years = df.groupby(['Release Year'])['d_cnt'].count().sort_values(ascending=True).tail(20)\n",
    "all_years = df.groupby(['Release Year'])['d_cnt'].count().sort_index(ascending=True)\n",
    "top_years"
   ]
  },
  {
   "cell_type": "code",
   "execution_count": 314,
   "id": "45ef5418",
   "metadata": {
    "scrolled": true
   },
   "outputs": [
    {
     "data": {
      "text/plain": [
       "<AxesSubplot:xlabel='Release Year'>"
      ]
     },
     "execution_count": 314,
     "metadata": {},
     "output_type": "execute_result"
    },
    {
     "data": {
      "image/png": "[encoded data removed]",
      "text/plain": [
       "<Figure size 432x288 with 1 Axes>"
      ]
     },
     "metadata": {
      "needs_background": "light"
     },
     "output_type": "display_data"
    }
   ],
   "source": [
    "top_years.plot.bar()"
   ]
  },
  {
   "cell_type": "code",
   "execution_count": 313,
   "id": "f6be04d1",
   "metadata": {},
   "outputs": [
    {
     "name": "stdout",
     "output_type": "stream",
     "text": [
      "Доля top_20_years: 0.39\n"
     ]
    }
   ],
   "source": [
    "print(f\"Доля top_20_years: {top_years.sum()/all_years.sum():2.2f}\")"
   ]
  },
  {
   "cell_type": "code",
   "execution_count": 333,
   "id": "63015c8a",
   "metadata": {
    "scrolled": false
   },
   "outputs": [
    {
     "data": {
      "text/plain": [
       "<AxesSubplot:xlabel='Release Year'>"
      ]
     },
     "execution_count": 333,
     "metadata": {},
     "output_type": "execute_result"
    },
    {
     "data": {
      "image/png": "[encoded data removed]",
      "text/plain": [
       "<Figure size 1440x576 with 1 Axes>"
      ]
     },
     "metadata": {
      "needs_background": "light"
     },
     "output_type": "display_data"
    }
   ],
   "source": [
    "all_years.plot(figsize=(20,8))"
   ]
  },
  {
   "cell_type": "markdown",
   "id": "878b4961",
   "metadata": {},
   "source": [
    "## 2. Предсказание жанра фильма на основе его описания"
   ]
  },
  {
   "cell_type": "markdown",
   "id": "9992f278",
   "metadata": {},
   "source": [
    "### Предобработка данных"
   ]
  },
  {
   "cell_type": "code",
   "execution_count": null,
   "id": "96b4bbb7",
   "metadata": {},
   "outputs": [],
   "source": []
  },
  {
   "cell_type": "markdown",
   "id": "3647eed3",
   "metadata": {},
   "source": [
    "### Обучение модели"
   ]
  },
  {
   "cell_type": "code",
   "execution_count": null,
   "id": "3b13dfc8",
   "metadata": {},
   "outputs": [],
   "source": []
  },
  {
   "cell_type": "markdown",
   "id": "ad950770",
   "metadata": {},
   "source": [
    "### Оценка качества модели"
   ]
  },
  {
   "cell_type": "code",
   "execution_count": null,
   "id": "94390c1c",
   "metadata": {},
   "outputs": [],
   "source": []
  },
  {
   "cell_type": "markdown",
   "id": "eb243a0f",
   "metadata": {},
   "source": [
    "### Предсказание для df.Genre == 'unknown'"
   ]
  },
  {
   "cell_type": "code",
   "execution_count": null,
   "id": "bba3e579",
   "metadata": {},
   "outputs": [],
   "source": [
    "применяем модель для набора df.Genre == 'unknown'"
   ]
  },
  {
   "cell_type": "markdown",
   "id": "bea5fd1e",
   "metadata": {},
   "source": [
    "## Sentiment analysis\n",
    "\n",
    "Где взять данные по отзывам? Представленные данные в Kaggle содержат только набор данных по фильмам без набора данных с отзывами по ним."
   ]
  },
  {
   "cell_type": "code",
   "execution_count": 334,
   "id": "2dc52d00",
   "metadata": {},
   "outputs": [],
   "source": [
    "import nltk"
   ]
  },
  {
   "cell_type": "code",
   "execution_count": null,
   "id": "48d02396",
   "metadata": {},
   "outputs": [],
   "source": []
  }
 ],
 "metadata": {
  "kernelspec": {
   "display_name": "Python 3",
   "language": "python",
   "name": "python3"
  },
  "language_info": {
   "codemirror_mode": {
    "name": "ipython",
    "version": 3
   },
   "file_extension": ".py",
   "mimetype": "text/x-python",
   "name": "python",
   "nbconvert_exporter": "python",
   "pygments_lexer": "ipython3",
   "version": "3.8.5"
  }
 },
 "nbformat": 4,
 "nbformat_minor": 5
}
