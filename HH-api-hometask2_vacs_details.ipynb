{
 "cells": [
  {
   "cell_type": "markdown",
   "metadata": {
    "toc": true
   },
   "source": [
    "<h1> Содержание<span class=\"tocSkip\"></span></h1>\n",
    "<div class=\"toc\"><ul class=\"toc-item\"><li><span><a href=\"#Именованные-аргументы\" data-toc-modified-id=\"Именованные-аргументы-1\">Именованные аргументы</a></span></li></ul></div>"
   ]
  },
  {
   "cell_type": "code",
   "execution_count": 7,
   "metadata": {},
   "outputs": [],
   "source": [
    "import requests\n",
    "import json\n",
    "from tqdm.auto import tqdm\n",
    "from collections import defaultdict\n",
    "import pickle \n",
    "import pandas as pd"
   ]
  },
  {
   "cell_type": "code",
   "execution_count": 8,
   "metadata": {},
   "outputs": [
    {
     "name": "stdout",
     "output_type": "stream",
     "text": [
      "id: 113 - Россия\n",
      "id: 5 - Украина\n",
      "id: 40 - Казахстан\n",
      "id: 9 - Азербайджан\n",
      "id: 16 - Беларусь\n",
      "id: 28 - Грузия\n",
      "id: 1001 - Другие регионы\n",
      "id: 48 - Кыргызстан\n",
      "id: 97 - Узбекистан\n"
     ]
    }
   ],
   "source": [
    "url = f'https://api.hh.ru/areas'\n",
    "res = requests.get(url)\n",
    "_all_countries = res.json()\n",
    "for _country in _all_countries:\n",
    "    print(f\"id: {_country.get('id')} - {_country.get('name')}\")"
   ]
  },
  {
   "cell_type": "code",
   "execution_count": 9,
   "metadata": {},
   "outputs": [
    {
     "data": {
      "application/vnd.jupyter.widget-view+json": {
       "model_id": "6ceedab7288d4332a71bfdce2b492df2",
       "version_major": 2,
       "version_minor": 0
      },
      "text/plain": [
       "  0%|          | 0/84 [00:00<?, ?it/s]"
      ]
     },
     "metadata": {},
     "output_type": "display_data"
    },
    {
     "data": {
      "application/vnd.jupyter.widget-view+json": {
       "model_id": "9509ec3222404d2cba46672e98909b2f",
       "version_major": 2,
       "version_minor": 0
      },
      "text/plain": [
       "  0%|          | 0/1 [00:00<?, ?it/s]"
      ]
     },
     "metadata": {},
     "output_type": "display_data"
    },
    {
     "data": {
      "application/vnd.jupyter.widget-view+json": {
       "model_id": "ae56593670524d3fa04c5789a6ca1dfd",
       "version_major": 2,
       "version_minor": 0
      },
      "text/plain": [
       "  0%|          | 0/1 [00:00<?, ?it/s]"
      ]
     },
     "metadata": {},
     "output_type": "display_data"
    },
    {
     "data": {
      "application/vnd.jupyter.widget-view+json": {
       "model_id": "93dfe24db05d4875808d0c506da49875",
       "version_major": 2,
       "version_minor": 0
      },
      "text/plain": [
       "  0%|          | 0/1 [00:00<?, ?it/s]"
      ]
     },
     "metadata": {},
     "output_type": "display_data"
    },
    {
     "data": {
      "application/vnd.jupyter.widget-view+json": {
       "model_id": "c68332acd644491cb9bede2f67416133",
       "version_major": 2,
       "version_minor": 0
      },
      "text/plain": [
       "  0%|          | 0/1 [00:00<?, ?it/s]"
      ]
     },
     "metadata": {},
     "output_type": "display_data"
    },
    {
     "data": {
      "application/vnd.jupyter.widget-view+json": {
       "model_id": "ef3bf5dd155b44e0867f15628152e7a0",
       "version_major": 2,
       "version_minor": 0
      },
      "text/plain": [
       "  0%|          | 0/1 [00:00<?, ?it/s]"
      ]
     },
     "metadata": {},
     "output_type": "display_data"
    },
    {
     "data": {
      "application/vnd.jupyter.widget-view+json": {
       "model_id": "b92123db86a04b829c715b9accc8e7ae",
       "version_major": 2,
       "version_minor": 0
      },
      "text/plain": [
       "  0%|          | 0/1 [00:00<?, ?it/s]"
      ]
     },
     "metadata": {},
     "output_type": "display_data"
    },
    {
     "data": {
      "application/vnd.jupyter.widget-view+json": {
       "model_id": "a2af279c489342d68348b81b2c64d063",
       "version_major": 2,
       "version_minor": 0
      },
      "text/plain": [
       "  0%|          | 0/1 [00:00<?, ?it/s]"
      ]
     },
     "metadata": {},
     "output_type": "display_data"
    },
    {
     "data": {
      "application/vnd.jupyter.widget-view+json": {
       "model_id": "e469a40dfaaf45489712ea8dfe9b403e",
       "version_major": 2,
       "version_minor": 0
      },
      "text/plain": [
       "  0%|          | 0/1 [00:00<?, ?it/s]"
      ]
     },
     "metadata": {},
     "output_type": "display_data"
    },
    {
     "data": {
      "application/vnd.jupyter.widget-view+json": {
       "model_id": "23dec44b3c8c45729f7f4c95bca71aec",
       "version_major": 2,
       "version_minor": 0
      },
      "text/plain": [
       "  0%|          | 0/1 [00:00<?, ?it/s]"
      ]
     },
     "metadata": {},
     "output_type": "display_data"
    },
    {
     "data": {
      "application/vnd.jupyter.widget-view+json": {
       "model_id": "5c1b57f5a008436f95f73642f8188e98",
       "version_major": 2,
       "version_minor": 0
      },
      "text/plain": [
       "  0%|          | 0/1 [00:00<?, ?it/s]"
      ]
     },
     "metadata": {},
     "output_type": "display_data"
    },
    {
     "data": {
      "application/vnd.jupyter.widget-view+json": {
       "model_id": "38b2109e312b49f9aebba8b6f3b8d2f3",
       "version_major": 2,
       "version_minor": 0
      },
      "text/plain": [
       "  0%|          | 0/1 [00:00<?, ?it/s]"
      ]
     },
     "metadata": {},
     "output_type": "display_data"
    },
    {
     "data": {
      "application/vnd.jupyter.widget-view+json": {
       "model_id": "aa52fbeb04aa458db462712a0034d099",
       "version_major": 2,
       "version_minor": 0
      },
      "text/plain": [
       "  0%|          | 0/1 [00:00<?, ?it/s]"
      ]
     },
     "metadata": {},
     "output_type": "display_data"
    },
    {
     "data": {
      "application/vnd.jupyter.widget-view+json": {
       "model_id": "cc4b8010997141ac86a6c4eb6aef3d58",
       "version_major": 2,
       "version_minor": 0
      },
      "text/plain": [
       "  0%|          | 0/1 [00:00<?, ?it/s]"
      ]
     },
     "metadata": {},
     "output_type": "display_data"
    },
    {
     "data": {
      "application/vnd.jupyter.widget-view+json": {
       "model_id": "a9008ddc00f5448286514779d2b5e598",
       "version_major": 2,
       "version_minor": 0
      },
      "text/plain": [
       "  0%|          | 0/1 [00:00<?, ?it/s]"
      ]
     },
     "metadata": {},
     "output_type": "display_data"
    },
    {
     "data": {
      "application/vnd.jupyter.widget-view+json": {
       "model_id": "fa78cd6e8037444eb950067362023685",
       "version_major": 2,
       "version_minor": 0
      },
      "text/plain": [
       "  0%|          | 0/1 [00:00<?, ?it/s]"
      ]
     },
     "metadata": {},
     "output_type": "display_data"
    },
    {
     "data": {
      "application/vnd.jupyter.widget-view+json": {
       "model_id": "c9bb258cf77a49e796249ebd06ee661c",
       "version_major": 2,
       "version_minor": 0
      },
      "text/plain": [
       "  0%|          | 0/1 [00:00<?, ?it/s]"
      ]
     },
     "metadata": {},
     "output_type": "display_data"
    },
    {
     "data": {
      "application/vnd.jupyter.widget-view+json": {
       "model_id": "5b7605c0e10045b1bd1d267b9c870e7b",
       "version_major": 2,
       "version_minor": 0
      },
      "text/plain": [
       "  0%|          | 0/2 [00:00<?, ?it/s]"
      ]
     },
     "metadata": {},
     "output_type": "display_data"
    },
    {
     "data": {
      "application/vnd.jupyter.widget-view+json": {
       "model_id": "8c0eb3460440492fafdc4cc7a0068103",
       "version_major": 2,
       "version_minor": 0
      },
      "text/plain": [
       "  0%|          | 0/1 [00:00<?, ?it/s]"
      ]
     },
     "metadata": {},
     "output_type": "display_data"
    },
    {
     "data": {
      "application/vnd.jupyter.widget-view+json": {
       "model_id": "fa3af686d5bb45ed9d6470198460c47c",
       "version_major": 2,
       "version_minor": 0
      },
      "text/plain": [
       "  0%|          | 0/1 [00:00<?, ?it/s]"
      ]
     },
     "metadata": {},
     "output_type": "display_data"
    },
    {
     "data": {
      "application/vnd.jupyter.widget-view+json": {
       "model_id": "66c21226e72c4372802ac7fd07bf869e",
       "version_major": 2,
       "version_minor": 0
      },
      "text/plain": [
       "  0%|          | 0/1 [00:00<?, ?it/s]"
      ]
     },
     "metadata": {},
     "output_type": "display_data"
    },
    {
     "data": {
      "application/vnd.jupyter.widget-view+json": {
       "model_id": "c76982af59fb449fbe099196c824d913",
       "version_major": 2,
       "version_minor": 0
      },
      "text/plain": [
       "  0%|          | 0/14 [00:00<?, ?it/s]"
      ]
     },
     "metadata": {},
     "output_type": "display_data"
    },
    {
     "data": {
      "application/vnd.jupyter.widget-view+json": {
       "model_id": "5225f4bc753e4b6b92b1cd7876da4fbb",
       "version_major": 2,
       "version_minor": 0
      },
      "text/plain": [
       "  0%|          | 0/4 [00:00<?, ?it/s]"
      ]
     },
     "metadata": {},
     "output_type": "display_data"
    },
    {
     "data": {
      "application/vnd.jupyter.widget-view+json": {
       "model_id": "ff02c81b420d4dd489336536843b6f0e",
       "version_major": 2,
       "version_minor": 0
      },
      "text/plain": [
       "  0%|          | 0/1 [00:00<?, ?it/s]"
      ]
     },
     "metadata": {},
     "output_type": "display_data"
    },
    {
     "data": {
      "application/vnd.jupyter.widget-view+json": {
       "model_id": "3d5c82e393084ebea9a14459a0b589a4",
       "version_major": 2,
       "version_minor": 0
      },
      "text/plain": [
       "  0%|          | 0/1 [00:00<?, ?it/s]"
      ]
     },
     "metadata": {},
     "output_type": "display_data"
    },
    {
     "data": {
      "application/vnd.jupyter.widget-view+json": {
       "model_id": "56d0c42af6c94aaea78b037b7f82c139",
       "version_major": 2,
       "version_minor": 0
      },
      "text/plain": [
       "  0%|          | 0/1 [00:00<?, ?it/s]"
      ]
     },
     "metadata": {},
     "output_type": "display_data"
    },
    {
     "data": {
      "application/vnd.jupyter.widget-view+json": {
       "model_id": "476afb62d39a4f43b401bf0a360d2a16",
       "version_major": 2,
       "version_minor": 0
      },
      "text/plain": [
       "  0%|          | 0/1 [00:00<?, ?it/s]"
      ]
     },
     "metadata": {},
     "output_type": "display_data"
    },
    {
     "data": {
      "application/vnd.jupyter.widget-view+json": {
       "model_id": "96a9b2cfb135444cba4d3dcbdf32959b",
       "version_major": 2,
       "version_minor": 0
      },
      "text/plain": [
       "  0%|          | 0/1 [00:00<?, ?it/s]"
      ]
     },
     "metadata": {},
     "output_type": "display_data"
    },
    {
     "data": {
      "application/vnd.jupyter.widget-view+json": {
       "model_id": "9246e262253247cc97a5cd9ebdf182c4",
       "version_major": 2,
       "version_minor": 0
      },
      "text/plain": [
       "  0%|          | 0/1 [00:00<?, ?it/s]"
      ]
     },
     "metadata": {},
     "output_type": "display_data"
    },
    {
     "data": {
      "application/vnd.jupyter.widget-view+json": {
       "model_id": "4e9255f1d733464a994a71dfcb49b3e1",
       "version_major": 2,
       "version_minor": 0
      },
      "text/plain": [
       "  0%|          | 0/1 [00:00<?, ?it/s]"
      ]
     },
     "metadata": {},
     "output_type": "display_data"
    },
    {
     "data": {
      "application/vnd.jupyter.widget-view+json": {
       "model_id": "6b21572486d44c0c99d83f0cc0e63200",
       "version_major": 2,
       "version_minor": 0
      },
      "text/plain": [
       "  0%|          | 0/1 [00:00<?, ?it/s]"
      ]
     },
     "metadata": {},
     "output_type": "display_data"
    },
    {
     "data": {
      "application/vnd.jupyter.widget-view+json": {
       "model_id": "6e36336a281846749916a628d41da2d9",
       "version_major": 2,
       "version_minor": 0
      },
      "text/plain": [
       "  0%|          | 0/1 [00:00<?, ?it/s]"
      ]
     },
     "metadata": {},
     "output_type": "display_data"
    },
    {
     "data": {
      "application/vnd.jupyter.widget-view+json": {
       "model_id": "224217ba22ab402fa5f1e7747eeed6f5",
       "version_major": 2,
       "version_minor": 0
      },
      "text/plain": [
       "  0%|          | 0/1 [00:00<?, ?it/s]"
      ]
     },
     "metadata": {},
     "output_type": "display_data"
    },
    {
     "data": {
      "application/vnd.jupyter.widget-view+json": {
       "model_id": "6bc2185cfcf4428883486bbf5cff2306",
       "version_major": 2,
       "version_minor": 0
      },
      "text/plain": [
       "  0%|          | 0/1 [00:00<?, ?it/s]"
      ]
     },
     "metadata": {},
     "output_type": "display_data"
    },
    {
     "data": {
      "application/vnd.jupyter.widget-view+json": {
       "model_id": "9792bdd11000497b8669c6d1decc7e89",
       "version_major": 2,
       "version_minor": 0
      },
      "text/plain": [
       "  0%|          | 0/1 [00:00<?, ?it/s]"
      ]
     },
     "metadata": {},
     "output_type": "display_data"
    },
    {
     "data": {
      "application/vnd.jupyter.widget-view+json": {
       "model_id": "1207c15250c64370a801857be625d803",
       "version_major": 2,
       "version_minor": 0
      },
      "text/plain": [
       "  0%|          | 0/1 [00:00<?, ?it/s]"
      ]
     },
     "metadata": {},
     "output_type": "display_data"
    },
    {
     "data": {
      "application/vnd.jupyter.widget-view+json": {
       "model_id": "e0aed524efc043639cae42c7a5bc074b",
       "version_major": 2,
       "version_minor": 0
      },
      "text/plain": [
       "  0%|          | 0/1 [00:00<?, ?it/s]"
      ]
     },
     "metadata": {},
     "output_type": "display_data"
    },
    {
     "data": {
      "application/vnd.jupyter.widget-view+json": {
       "model_id": "b3e82a6c483e42ddb06879f4fcbcc6b9",
       "version_major": 2,
       "version_minor": 0
      },
      "text/plain": [
       "  0%|          | 0/1 [00:00<?, ?it/s]"
      ]
     },
     "metadata": {},
     "output_type": "display_data"
    },
    {
     "data": {
      "application/vnd.jupyter.widget-view+json": {
       "model_id": "64d04a5a72e14fb6882f7a2227b919d5",
       "version_major": 2,
       "version_minor": 0
      },
      "text/plain": [
       "  0%|          | 0/1 [00:00<?, ?it/s]"
      ]
     },
     "metadata": {},
     "output_type": "display_data"
    },
    {
     "data": {
      "application/vnd.jupyter.widget-view+json": {
       "model_id": "9055201806b244c1a7de11a23be092c3",
       "version_major": 2,
       "version_minor": 0
      },
      "text/plain": [
       "  0%|          | 0/1 [00:00<?, ?it/s]"
      ]
     },
     "metadata": {},
     "output_type": "display_data"
    },
    {
     "data": {
      "application/vnd.jupyter.widget-view+json": {
       "model_id": "ebb85630324b46a3b8a28928abdb77d0",
       "version_major": 2,
       "version_minor": 0
      },
      "text/plain": [
       "  0%|          | 0/3 [00:00<?, ?it/s]"
      ]
     },
     "metadata": {},
     "output_type": "display_data"
    },
    {
     "data": {
      "application/vnd.jupyter.widget-view+json": {
       "model_id": "0bacc4f0600d4cf484cf7a69c2c2af5f",
       "version_major": 2,
       "version_minor": 0
      },
      "text/plain": [
       "  0%|          | 0/1 [00:00<?, ?it/s]"
      ]
     },
     "metadata": {},
     "output_type": "display_data"
    },
    {
     "data": {
      "application/vnd.jupyter.widget-view+json": {
       "model_id": "740d6ffc81a84151b69b38a74750a168",
       "version_major": 2,
       "version_minor": 0
      },
      "text/plain": [
       "  0%|          | 0/1 [00:00<?, ?it/s]"
      ]
     },
     "metadata": {},
     "output_type": "display_data"
    },
    {
     "data": {
      "application/vnd.jupyter.widget-view+json": {
       "model_id": "bb9e28d8c6b746089932a528cdab0791",
       "version_major": 2,
       "version_minor": 0
      },
      "text/plain": [
       "  0%|          | 0/1 [00:00<?, ?it/s]"
      ]
     },
     "metadata": {},
     "output_type": "display_data"
    },
    {
     "data": {
      "application/vnd.jupyter.widget-view+json": {
       "model_id": "0576ee52c5604e95aa1174da55813990",
       "version_major": 2,
       "version_minor": 0
      },
      "text/plain": [
       "  0%|          | 0/1 [00:00<?, ?it/s]"
      ]
     },
     "metadata": {},
     "output_type": "display_data"
    },
    {
     "data": {
      "application/vnd.jupyter.widget-view+json": {
       "model_id": "f4ee473e04ab4b1880397dd957f45e3a",
       "version_major": 2,
       "version_minor": 0
      },
      "text/plain": [
       "  0%|          | 0/1 [00:00<?, ?it/s]"
      ]
     },
     "metadata": {},
     "output_type": "display_data"
    },
    {
     "data": {
      "application/vnd.jupyter.widget-view+json": {
       "model_id": "427240a8d7a547258736bdab947d0910",
       "version_major": 2,
       "version_minor": 0
      },
      "text/plain": [
       "  0%|          | 0/1 [00:00<?, ?it/s]"
      ]
     },
     "metadata": {},
     "output_type": "display_data"
    },
    {
     "data": {
      "application/vnd.jupyter.widget-view+json": {
       "model_id": "e543793cb8b1457aaac316488252884b",
       "version_major": 2,
       "version_minor": 0
      },
      "text/plain": [
       "  0%|          | 0/1 [00:00<?, ?it/s]"
      ]
     },
     "metadata": {},
     "output_type": "display_data"
    },
    {
     "data": {
      "application/vnd.jupyter.widget-view+json": {
       "model_id": "7bd806d8da6f43e9953c52a90e37374e",
       "version_major": 2,
       "version_minor": 0
      },
      "text/plain": [
       "  0%|          | 0/1 [00:00<?, ?it/s]"
      ]
     },
     "metadata": {},
     "output_type": "display_data"
    },
    {
     "data": {
      "application/vnd.jupyter.widget-view+json": {
       "model_id": "748a6eac380646c4b62e08c76a38e073",
       "version_major": 2,
       "version_minor": 0
      },
      "text/plain": [
       "  0%|          | 0/1 [00:00<?, ?it/s]"
      ]
     },
     "metadata": {},
     "output_type": "display_data"
    },
    {
     "data": {
      "application/vnd.jupyter.widget-view+json": {
       "model_id": "852ac068aab84ce28067b7d94b937453",
       "version_major": 2,
       "version_minor": 0
      },
      "text/plain": [
       "  0%|          | 0/1 [00:00<?, ?it/s]"
      ]
     },
     "metadata": {},
     "output_type": "display_data"
    },
    {
     "data": {
      "application/vnd.jupyter.widget-view+json": {
       "model_id": "48b93cb33ea549cf8a93b0754e05d694",
       "version_major": 2,
       "version_minor": 0
      },
      "text/plain": [
       "  0%|          | 0/2 [00:00<?, ?it/s]"
      ]
     },
     "metadata": {},
     "output_type": "display_data"
    },
    {
     "data": {
      "application/vnd.jupyter.widget-view+json": {
       "model_id": "6f399b170a3d4559a3c95c5f92228421",
       "version_major": 2,
       "version_minor": 0
      },
      "text/plain": [
       "  0%|          | 0/1 [00:00<?, ?it/s]"
      ]
     },
     "metadata": {},
     "output_type": "display_data"
    },
    {
     "data": {
      "application/vnd.jupyter.widget-view+json": {
       "model_id": "becff4061c55428c8e2d4f68dbb15fbb",
       "version_major": 2,
       "version_minor": 0
      },
      "text/plain": [
       "  0%|          | 0/1 [00:00<?, ?it/s]"
      ]
     },
     "metadata": {},
     "output_type": "display_data"
    },
    {
     "data": {
      "application/vnd.jupyter.widget-view+json": {
       "model_id": "c3ac7590f5a54e69a3f7fb900deac3c4",
       "version_major": 2,
       "version_minor": 0
      },
      "text/plain": [
       "  0%|          | 0/1 [00:00<?, ?it/s]"
      ]
     },
     "metadata": {},
     "output_type": "display_data"
    },
    {
     "data": {
      "application/vnd.jupyter.widget-view+json": {
       "model_id": "0b10c9360fa34773809bdaeeaeb547ac",
       "version_major": 2,
       "version_minor": 0
      },
      "text/plain": [
       "  0%|          | 0/1 [00:00<?, ?it/s]"
      ]
     },
     "metadata": {},
     "output_type": "display_data"
    },
    {
     "data": {
      "application/vnd.jupyter.widget-view+json": {
       "model_id": "83184ee4197f4326a9e93bbb53c085f8",
       "version_major": 2,
       "version_minor": 0
      },
      "text/plain": [
       "  0%|          | 0/1 [00:00<?, ?it/s]"
      ]
     },
     "metadata": {},
     "output_type": "display_data"
    },
    {
     "data": {
      "application/vnd.jupyter.widget-view+json": {
       "model_id": "ed3fd06336944bc59223b2f262cb0554",
       "version_major": 2,
       "version_minor": 0
      },
      "text/plain": [
       "  0%|          | 0/2 [00:00<?, ?it/s]"
      ]
     },
     "metadata": {},
     "output_type": "display_data"
    },
    {
     "data": {
      "application/vnd.jupyter.widget-view+json": {
       "model_id": "ba72db4d900e4b02960a25962571025b",
       "version_major": 2,
       "version_minor": 0
      },
      "text/plain": [
       "  0%|          | 0/1 [00:00<?, ?it/s]"
      ]
     },
     "metadata": {},
     "output_type": "display_data"
    },
    {
     "data": {
      "application/vnd.jupyter.widget-view+json": {
       "model_id": "79e882c70b984dfe803a1907f3b19b87",
       "version_major": 2,
       "version_minor": 0
      },
      "text/plain": [
       "  0%|          | 0/1 [00:00<?, ?it/s]"
      ]
     },
     "metadata": {},
     "output_type": "display_data"
    },
    {
     "data": {
      "application/vnd.jupyter.widget-view+json": {
       "model_id": "dd3bfe32d535442da70feed6731e3f2c",
       "version_major": 2,
       "version_minor": 0
      },
      "text/plain": [
       "  0%|          | 0/1 [00:00<?, ?it/s]"
      ]
     },
     "metadata": {},
     "output_type": "display_data"
    },
    {
     "data": {
      "application/vnd.jupyter.widget-view+json": {
       "model_id": "010cd5b2cdc84394b5517acb450a78a6",
       "version_major": 2,
       "version_minor": 0
      },
      "text/plain": [
       "  0%|          | 0/1 [00:00<?, ?it/s]"
      ]
     },
     "metadata": {},
     "output_type": "display_data"
    },
    {
     "data": {
      "application/vnd.jupyter.widget-view+json": {
       "model_id": "2f9905d6b47e4d11aa5685ba6d8f9616",
       "version_major": 2,
       "version_minor": 0
      },
      "text/plain": [
       "  0%|          | 0/1 [00:00<?, ?it/s]"
      ]
     },
     "metadata": {},
     "output_type": "display_data"
    },
    {
     "data": {
      "application/vnd.jupyter.widget-view+json": {
       "model_id": "41e5e7ea87cf4a3d8f23ebb80f416878",
       "version_major": 2,
       "version_minor": 0
      },
      "text/plain": [
       "  0%|          | 0/1 [00:00<?, ?it/s]"
      ]
     },
     "metadata": {},
     "output_type": "display_data"
    },
    {
     "data": {
      "application/vnd.jupyter.widget-view+json": {
       "model_id": "af5a30b597e24ea497484d4da9370af5",
       "version_major": 2,
       "version_minor": 0
      },
      "text/plain": [
       "  0%|          | 0/2 [00:00<?, ?it/s]"
      ]
     },
     "metadata": {},
     "output_type": "display_data"
    },
    {
     "data": {
      "application/vnd.jupyter.widget-view+json": {
       "model_id": "a3e15971d8f34f98b337b6f4d979be25",
       "version_major": 2,
       "version_minor": 0
      },
      "text/plain": [
       "  0%|          | 0/1 [00:00<?, ?it/s]"
      ]
     },
     "metadata": {},
     "output_type": "display_data"
    },
    {
     "data": {
      "application/vnd.jupyter.widget-view+json": {
       "model_id": "578d07b85a274b5fa7de3b44707084d0",
       "version_major": 2,
       "version_minor": 0
      },
      "text/plain": [
       "  0%|          | 0/1 [00:00<?, ?it/s]"
      ]
     },
     "metadata": {},
     "output_type": "display_data"
    },
    {
     "data": {
      "application/vnd.jupyter.widget-view+json": {
       "model_id": "33a05d99d42a4891bf4d3aadd276e3e4",
       "version_major": 2,
       "version_minor": 0
      },
      "text/plain": [
       "  0%|          | 0/1 [00:00<?, ?it/s]"
      ]
     },
     "metadata": {},
     "output_type": "display_data"
    },
    {
     "data": {
      "application/vnd.jupyter.widget-view+json": {
       "model_id": "43cac0e0c0fc4665acef3f2e0673504f",
       "version_major": 2,
       "version_minor": 0
      },
      "text/plain": [
       "  0%|          | 0/1 [00:00<?, ?it/s]"
      ]
     },
     "metadata": {},
     "output_type": "display_data"
    },
    {
     "data": {
      "application/vnd.jupyter.widget-view+json": {
       "model_id": "27591fbce63f4daab2375b8c01f66afe",
       "version_major": 2,
       "version_minor": 0
      },
      "text/plain": [
       "  0%|          | 0/1 [00:00<?, ?it/s]"
      ]
     },
     "metadata": {},
     "output_type": "display_data"
    },
    {
     "data": {
      "application/vnd.jupyter.widget-view+json": {
       "model_id": "783e2325a79945e080cf8040633741d2",
       "version_major": 2,
       "version_minor": 0
      },
      "text/plain": [
       "  0%|          | 0/1 [00:00<?, ?it/s]"
      ]
     },
     "metadata": {},
     "output_type": "display_data"
    },
    {
     "data": {
      "application/vnd.jupyter.widget-view+json": {
       "model_id": "2c53aacd3d4e486eb5a70822e5f5cbc2",
       "version_major": 2,
       "version_minor": 0
      },
      "text/plain": [
       "  0%|          | 0/1 [00:00<?, ?it/s]"
      ]
     },
     "metadata": {},
     "output_type": "display_data"
    },
    {
     "data": {
      "application/vnd.jupyter.widget-view+json": {
       "model_id": "64b0206ef04b442f8278cf431d8bc1fb",
       "version_major": 2,
       "version_minor": 0
      },
      "text/plain": [
       "  0%|          | 0/1 [00:00<?, ?it/s]"
      ]
     },
     "metadata": {},
     "output_type": "display_data"
    },
    {
     "data": {
      "application/vnd.jupyter.widget-view+json": {
       "model_id": "94a40340e7f04a11b3dbcd57659fe309",
       "version_major": 2,
       "version_minor": 0
      },
      "text/plain": [
       "  0%|          | 0/1 [00:00<?, ?it/s]"
      ]
     },
     "metadata": {},
     "output_type": "display_data"
    },
    {
     "data": {
      "application/vnd.jupyter.widget-view+json": {
       "model_id": "e43811b4d2de4d7ab5ccb3f6e12b2419",
       "version_major": 2,
       "version_minor": 0
      },
      "text/plain": [
       "  0%|          | 0/1 [00:00<?, ?it/s]"
      ]
     },
     "metadata": {},
     "output_type": "display_data"
    },
    {
     "data": {
      "application/vnd.jupyter.widget-view+json": {
       "model_id": "bee9b01c3c4345aeade9d6099ad38673",
       "version_major": 2,
       "version_minor": 0
      },
      "text/plain": [
       "  0%|          | 0/1 [00:00<?, ?it/s]"
      ]
     },
     "metadata": {},
     "output_type": "display_data"
    },
    {
     "data": {
      "application/vnd.jupyter.widget-view+json": {
       "model_id": "6cf1aa52ef0647deafd6c95262c12be4",
       "version_major": 2,
       "version_minor": 0
      },
      "text/plain": [
       "  0%|          | 0/1 [00:00<?, ?it/s]"
      ]
     },
     "metadata": {},
     "output_type": "display_data"
    },
    {
     "data": {
      "application/vnd.jupyter.widget-view+json": {
       "model_id": "6684865690b6406ba86d9bd3dd690551",
       "version_major": 2,
       "version_minor": 0
      },
      "text/plain": [
       "  0%|          | 0/1 [00:00<?, ?it/s]"
      ]
     },
     "metadata": {},
     "output_type": "display_data"
    },
    {
     "data": {
      "application/vnd.jupyter.widget-view+json": {
       "model_id": "b3d49d81b518468e93d868a64062a7ee",
       "version_major": 2,
       "version_minor": 0
      },
      "text/plain": [
       "  0%|          | 0/1 [00:00<?, ?it/s]"
      ]
     },
     "metadata": {},
     "output_type": "display_data"
    },
    {
     "data": {
      "application/vnd.jupyter.widget-view+json": {
       "model_id": "796a3a877b364c3d9bfcf4179029972a",
       "version_major": 2,
       "version_minor": 0
      },
      "text/plain": [
       "  0%|          | 0/1 [00:00<?, ?it/s]"
      ]
     },
     "metadata": {},
     "output_type": "display_data"
    },
    {
     "data": {
      "application/vnd.jupyter.widget-view+json": {
       "model_id": "77e707b0efab4289888b5b220330a282",
       "version_major": 2,
       "version_minor": 0
      },
      "text/plain": [
       "  0%|          | 0/1 [00:00<?, ?it/s]"
      ]
     },
     "metadata": {},
     "output_type": "display_data"
    },
    {
     "data": {
      "application/vnd.jupyter.widget-view+json": {
       "model_id": "024636ee38b540ee828865d384656097",
       "version_major": 2,
       "version_minor": 0
      },
      "text/plain": [
       "  0%|          | 0/1 [00:00<?, ?it/s]"
      ]
     },
     "metadata": {},
     "output_type": "display_data"
    },
    {
     "data": {
      "application/vnd.jupyter.widget-view+json": {
       "model_id": "3592f86aa9d648f6bf54b4776cd93203",
       "version_major": 2,
       "version_minor": 0
      },
      "text/plain": [
       "  0%|          | 0/1 [00:00<?, ?it/s]"
      ]
     },
     "metadata": {},
     "output_type": "display_data"
    },
    {
     "data": {
      "application/vnd.jupyter.widget-view+json": {
       "model_id": "7cdb273c1afd4ac595fd0e25e21ebaf0",
       "version_major": 2,
       "version_minor": 0
      },
      "text/plain": [
       "  0%|          | 0/1 [00:00<?, ?it/s]"
      ]
     },
     "metadata": {},
     "output_type": "display_data"
    },
    {
     "data": {
      "application/vnd.jupyter.widget-view+json": {
       "model_id": "53920885c8454690a6b7bdc4fb42a91b",
       "version_major": 2,
       "version_minor": 0
      },
      "text/plain": [
       "  0%|          | 0/1 [00:00<?, ?it/s]"
      ]
     },
     "metadata": {},
     "output_type": "display_data"
    },
    {
     "data": {
      "text/plain": [
       "4106"
      ]
     },
     "execution_count": 9,
     "metadata": {},
     "output_type": "execute_result"
    }
   ],
   "source": [
    "# Задание вытащить все вакансии СБЕРа с ХХ (у апи есть ограничение в 2000, подумайте как его обойти)\n",
    "moscow = 1\n",
    "\n",
    "def get_all_russian_areas():\n",
    "    \"\"\"Получаем список регионов для России\"\"\"\n",
    "    \n",
    "    url = f'https://api.hh.ru/areas/113'\n",
    "    res = requests.get(url)\n",
    "    _country = res.json()\n",
    "    \n",
    "    _russian_areas_ids = []\n",
    "    for _region in _country.get(\"areas\"):\n",
    "        # print(f\"id:{_region.get('id')}{_region.get('name')}\")\n",
    "        _russian_areas_ids.append(_region.get('id'))\n",
    "                \n",
    "    return _russian_areas_ids\n",
    "                \n",
    "def get_page(page, area):\n",
    "    \"\"\"Получаем постраничные данные из api по региону \"\"\"\n",
    "    \n",
    "    sber = '3529'\n",
    "    num_per_page = 100\n",
    "\n",
    "    url = f'https://api.hh.ru/vacancies?employer_id={sber}&page={page}&per_page={num_per_page}&area={area}'\n",
    "    res = requests.get(url)\n",
    "    return res.json()\n",
    "\n",
    "def get_vacancis(area):\n",
    "    \"\"\"Получаем все вакансии по региону `area`\"\"\"\n",
    "    \n",
    "    num_pages = get_page(0, area).get(\"pages\")\n",
    "    vacs = []\n",
    "    for page in tqdm(range(num_pages)):\n",
    "        vacs += get_page(page, area).get('items')\n",
    "    \n",
    "    return vacs\n",
    "        \n",
    "\n",
    "_areas = get_all_russian_areas()\n",
    "vacs = []\n",
    "for area in tqdm(_areas):\n",
    "    #print(area)\n",
    "    vacs += get_vacancis(area)\n",
    "    \n",
    "len(vacs)\n"
   ]
  },
  {
   "cell_type": "code",
   "execution_count": 10,
   "metadata": {},
   "outputs": [
    {
     "data": {
      "text/plain": [
       "4106"
      ]
     },
     "execution_count": 10,
     "metadata": {},
     "output_type": "execute_result"
    }
   ],
   "source": [
    "# Вытащите все описания этих вакансий\n",
    "\n",
    "d = {'ids': [ el.get(\"id\") for el in vacs], \n",
    "     'name': [ el.get(\"name\") for el in vacs],\n",
    "     'discriptions': [ el.get(\"snippet\").get(\"responsibility\") for el in vacs]}\n",
    "vacancy = pd.DataFrame(data=d)\n",
    "len(vacancy)"
   ]
  },
  {
   "cell_type": "code",
   "execution_count": 11,
   "metadata": {
    "scrolled": true
   },
   "outputs": [
    {
     "name": "stdout",
     "output_type": "stream",
     "text": [
      "load details for vacancies\n"
     ]
    },
    {
     "data": {
      "application/vnd.jupyter.widget-view+json": {
       "model_id": "2aa72a3c51974b61984bca23066db5e3",
       "version_major": 2,
       "version_minor": 0
      },
      "text/plain": [
       "  0%|          | 0/4106 [00:00<?, ?it/s]"
      ]
     },
     "metadata": {},
     "output_type": "display_data"
    },
    {
     "data": {
      "text/html": [
       "<div>\n",
       "<style scoped>\n",
       "    .dataframe tbody tr th:only-of-type {\n",
       "        vertical-align: middle;\n",
       "    }\n",
       "\n",
       "    .dataframe tbody tr th {\n",
       "        vertical-align: top;\n",
       "    }\n",
       "\n",
       "    .dataframe thead th {\n",
       "        text-align: right;\n",
       "    }\n",
       "</style>\n",
       "<table border=\"1\" class=\"dataframe\">\n",
       "  <thead>\n",
       "    <tr style=\"text-align: right;\">\n",
       "      <th></th>\n",
       "      <th>ids</th>\n",
       "      <th>name</th>\n",
       "      <th>discriptions</th>\n",
       "      <th>skills</th>\n",
       "    </tr>\n",
       "  </thead>\n",
       "  <tbody>\n",
       "    <tr>\n",
       "      <th>0</th>\n",
       "      <td>43120418</td>\n",
       "      <td>Кассир</td>\n",
       "      <td>&lt;p&gt;&lt;strong&gt;Обязанности:&lt;/strong&gt;&lt;/p&gt; &lt;ul&gt; &lt;li&gt;...</td>\n",
       "      <td>[]</td>\n",
       "    </tr>\n",
       "    <tr>\n",
       "      <th>1</th>\n",
       "      <td>43181202</td>\n",
       "      <td>Мобильный менеджер по продажам</td>\n",
       "      <td>&lt;p&gt;Задача мобильного менеджера ― продавать про...</td>\n",
       "      <td>[Активные продажи, Холодные продажи]</td>\n",
       "    </tr>\n",
       "    <tr>\n",
       "      <th>2</th>\n",
       "      <td>43281570</td>\n",
       "      <td>Специалист по прямым продажам</td>\n",
       "      <td>&lt;p&gt;У каждого зарплатного клиента Сбера есть св...</td>\n",
       "      <td>[Прямые продажи, Активные продажи, Холодные пр...</td>\n",
       "    </tr>\n",
       "    <tr>\n",
       "      <th>3</th>\n",
       "      <td>43298141</td>\n",
       "      <td>Мобильный менеджер по продажам</td>\n",
       "      <td>&lt;p&gt;Задача мобильного менеджера ― продавать про...</td>\n",
       "      <td>[Активные продажи, Холодные продажи, Навыки пр...</td>\n",
       "    </tr>\n",
       "    <tr>\n",
       "      <th>4</th>\n",
       "      <td>43696733</td>\n",
       "      <td>Мобильный менеджер по продажам</td>\n",
       "      <td>&lt;p&gt;Задача мобильного менеджера ― продавать про...</td>\n",
       "      <td>[]</td>\n",
       "    </tr>\n",
       "    <tr>\n",
       "      <th>...</th>\n",
       "      <td>...</td>\n",
       "      <td>...</td>\n",
       "      <td>...</td>\n",
       "      <td>...</td>\n",
       "    </tr>\n",
       "    <tr>\n",
       "      <th>4101</th>\n",
       "      <td>43751804</td>\n",
       "      <td>Ведущий специалист по оценке залогового имущества</td>\n",
       "      <td>&lt;p&gt;&lt;strong&gt;Обязанности:&lt;/strong&gt;&lt;/p&gt; &lt;p&gt; &lt;/p&gt; ...</td>\n",
       "      <td>[]</td>\n",
       "    </tr>\n",
       "    <tr>\n",
       "      <th>4102</th>\n",
       "      <td>43764191</td>\n",
       "      <td>Специалист по прямым продажам</td>\n",
       "      <td>&lt;p&gt;У каждого зарплатного клиента Сбера есть св...</td>\n",
       "      <td>[Прямые продажи, Продажа страховых продуктов, ...</td>\n",
       "    </tr>\n",
       "    <tr>\n",
       "      <th>4103</th>\n",
       "      <td>43767297</td>\n",
       "      <td>Руководитель направления центра залоговой эксп...</td>\n",
       "      <td>&lt;p&gt;&lt;strong&gt;Обязанности:&lt;/strong&gt;&lt;/p&gt; &lt;p&gt; &lt;/p&gt; ...</td>\n",
       "      <td>[]</td>\n",
       "    </tr>\n",
       "    <tr>\n",
       "      <th>4104</th>\n",
       "      <td>43767299</td>\n",
       "      <td>Главный специалист по оценке залогового имущества</td>\n",
       "      <td>&lt;p&gt;&lt;strong&gt;Обязанности:&lt;/strong&gt;&lt;/p&gt; &lt;p&gt; &lt;/p&gt; ...</td>\n",
       "      <td>[]</td>\n",
       "    </tr>\n",
       "    <tr>\n",
       "      <th>4105</th>\n",
       "      <td>43769021</td>\n",
       "      <td>Главный инженер</td>\n",
       "      <td>&lt;p&gt;&lt;strong&gt;Обязанности:&lt;/strong&gt;&lt;/p&gt; &lt;p&gt;Осущес...</td>\n",
       "      <td>[]</td>\n",
       "    </tr>\n",
       "  </tbody>\n",
       "</table>\n",
       "<p>4106 rows × 4 columns</p>\n",
       "</div>"
      ],
      "text/plain": [
       "           ids                                               name  \\\n",
       "0     43120418                                             Кассир   \n",
       "1     43181202                     Мобильный менеджер по продажам   \n",
       "2     43281570                      Специалист по прямым продажам   \n",
       "3     43298141                     Мобильный менеджер по продажам   \n",
       "4     43696733                     Мобильный менеджер по продажам   \n",
       "...        ...                                                ...   \n",
       "4101  43751804  Ведущий специалист по оценке залогового имущества   \n",
       "4102  43764191                      Специалист по прямым продажам   \n",
       "4103  43767297  Руководитель направления центра залоговой эксп...   \n",
       "4104  43767299  Главный специалист по оценке залогового имущества   \n",
       "4105  43769021                                    Главный инженер   \n",
       "\n",
       "                                           discriptions  \\\n",
       "0     <p><strong>Обязанности:</strong></p> <ul> <li>...   \n",
       "1     <p>Задача мобильного менеджера ― продавать про...   \n",
       "2     <p>У каждого зарплатного клиента Сбера есть св...   \n",
       "3     <p>Задача мобильного менеджера ― продавать про...   \n",
       "4     <p>Задача мобильного менеджера ― продавать про...   \n",
       "...                                                 ...   \n",
       "4101  <p><strong>Обязанности:</strong></p> <p> </p> ...   \n",
       "4102  <p>У каждого зарплатного клиента Сбера есть св...   \n",
       "4103  <p><strong>Обязанности:</strong></p> <p> </p> ...   \n",
       "4104  <p><strong>Обязанности:</strong></p> <p> </p> ...   \n",
       "4105  <p><strong>Обязанности:</strong></p> <p>Осущес...   \n",
       "\n",
       "                                                 skills  \n",
       "0                                                    []  \n",
       "1                  [Активные продажи, Холодные продажи]  \n",
       "2     [Прямые продажи, Активные продажи, Холодные пр...  \n",
       "3     [Активные продажи, Холодные продажи, Навыки пр...  \n",
       "4                                                    []  \n",
       "...                                                 ...  \n",
       "4101                                                 []  \n",
       "4102  [Прямые продажи, Продажа страховых продуктов, ...  \n",
       "4103                                                 []  \n",
       "4104                                                 []  \n",
       "4105                                                 []  \n",
       "\n",
       "[4106 rows x 4 columns]"
      ]
     },
     "execution_count": 11,
     "metadata": {},
     "output_type": "execute_result"
    }
   ],
   "source": [
    "#  Создайте аналогичный vacancy DataFrame только добавьте поле skills\n",
    "\n",
    "def get_vacancy_details(vac_id):\n",
    "    \"\"\"Получаем подробную информацию по вакансии\"\"\"\n",
    "\n",
    "    url = f'https://api.hh.ru/vacancies/{vac_id}'\n",
    "    res = requests.get(url)\n",
    "    return res.json()\n",
    "\n",
    "print(\"load details for vacancies\")\n",
    "for _key in tqdm(range(len(vacs))):\n",
    "    vacs[_key] = get_vacancy_details(vacs[_key].get('id'))"
   ]
  },
  {
   "cell_type": "code",
   "execution_count": 12,
   "metadata": {},
   "outputs": [],
   "source": [
    "with open('vacs.pyc', mode='wb') as fh:\n",
    "    pickle.dump(vacs, fh)"
   ]
  },
  {
   "cell_type": "code",
   "execution_count": 13,
   "metadata": {},
   "outputs": [],
   "source": [
    "with open('vacs.pyc', 'rb') as fh:\n",
    "    vacs = pickle.load(fh)\n",
    "    \n",
    "d = {'ids': [ el.get(\"id\") for el in vacs], \n",
    "     'name': [ el.get(\"name\") for el in vacs],\n",
    "     'discriptions': [ el.get(\"description\") for el in vacs],\n",
    "     'skills': [ [skill.get(\"name\") for skill in vac.get(\"key_skills\", [])] for vac in vacs],\n",
    "    }\n",
    "vacancy = pd.DataFrame(data=d)    "
   ]
  },
  {
   "cell_type": "code",
   "execution_count": 14,
   "metadata": {},
   "outputs": [
    {
     "name": "stdout",
     "output_type": "stream",
     "text": [
      "<class 'pandas.core.frame.DataFrame'>\n",
      "RangeIndex: 4106 entries, 0 to 4105\n",
      "Data columns (total 5 columns):\n",
      " #   Column        Non-Null Count  Dtype                                \n",
      "---  ------        --------------  -----                                \n",
      " 0   ids           4106 non-null   object                               \n",
      " 1   name          4106 non-null   object                               \n",
      " 2   discriptions  4106 non-null   object                               \n",
      " 3   skills        4106 non-null   object                               \n",
      " 4   published_at  4106 non-null   datetime64[ns, pytz.FixedOffset(180)]\n",
      "dtypes: datetime64[ns, pytz.FixedOffset(180)](1), object(4)\n",
      "memory usage: 160.5+ KB\n"
     ]
    }
   ],
   "source": [
    "# Переведите даты публикаций в datetime\n",
    "vacancy[\"published_at\"] = [ el.get(\"published_at\") for el in vacs]\n",
    "vacancy[\"published_at\"] = pd.to_datetime(vacancy[\"published_at\"])\n",
    "vacancy.info()"
   ]
  },
  {
   "cell_type": "code",
   "execution_count": 15,
   "metadata": {},
   "outputs": [
    {
     "data": {
      "text/plain": [
       "pb_date\n",
       "2021-03-12     19\n",
       "2021-03-13     16\n",
       "2021-03-14     13\n",
       "2021-03-15    137\n",
       "2021-03-16    116\n",
       "2021-03-17     98\n",
       "2021-03-18    146\n",
       "2021-03-19     90\n",
       "2021-03-20     38\n",
       "2021-03-21     17\n",
       "2021-03-22    185\n",
       "2021-03-23    149\n",
       "2021-03-24    148\n",
       "2021-03-25    138\n",
       "2021-03-26    114\n",
       "2021-03-27     17\n",
       "2021-03-28     15\n",
       "2021-03-29    217\n",
       "2021-03-30    142\n",
       "2021-03-31    422\n",
       "2021-04-01    239\n",
       "2021-04-02    231\n",
       "2021-04-03     43\n",
       "2021-04-04     26\n",
       "2021-04-05    310\n",
       "2021-04-06    257\n",
       "2021-04-07    184\n",
       "2021-04-08    244\n",
       "2021-04-09    259\n",
       "2021-04-10     38\n",
       "2021-04-11     38\n",
       "Name: ids, dtype: int64"
      ]
     },
     "execution_count": 15,
     "metadata": {},
     "output_type": "execute_result"
    }
   ],
   "source": [
    "# Постройте график опубликованных вакансий по датам\n",
    "import matplotlib.pyplot as plt\n",
    "vacancy[\"pb_date\"] = vacancy[\"published_at\"].dt.date\n",
    "vacancy.groupby(\"pb_date\")[\"ids\"].count()"
   ]
  },
  {
   "cell_type": "code",
   "execution_count": 16,
   "metadata": {},
   "outputs": [
    {
     "data": {
      "text/plain": [
       "pb_wd\n",
       "ср    852\n",
       "пн    849\n",
       "чт    767\n",
       "пт    713\n",
       "вт    664\n",
       "сб    152\n",
       "вс    109\n",
       "Name: ids, dtype: int64"
      ]
     },
     "execution_count": 16,
     "metadata": {},
     "output_type": "execute_result"
    }
   ],
   "source": [
    "# Переведите даты в дни недели, и определите день недели, в который больше всего публикуют вакансий\n",
    "vacancy[\"pb_wd\"] = vacancy[\"published_at\"].apply(lambda x:(\"пн\", \"вт\", \"ср\", \"чт\", \"пт\", \"сб\", \"вс\")[x.weekday()])\n",
    "vacancy.groupby(\"pb_wd\")[\"ids\"].count().sort_values(ascending=False)"
   ]
  },
  {
   "cell_type": "code",
   "execution_count": 17,
   "metadata": {},
   "outputs": [
    {
     "data": {
      "text/html": [
       "<div>\n",
       "<style scoped>\n",
       "    .dataframe tbody tr th:only-of-type {\n",
       "        vertical-align: middle;\n",
       "    }\n",
       "\n",
       "    .dataframe tbody tr th {\n",
       "        vertical-align: top;\n",
       "    }\n",
       "\n",
       "    .dataframe thead th {\n",
       "        text-align: right;\n",
       "    }\n",
       "</style>\n",
       "<table border=\"1\" class=\"dataframe\">\n",
       "  <thead>\n",
       "    <tr style=\"text-align: right;\">\n",
       "      <th></th>\n",
       "      <th>ids</th>\n",
       "      <th>name</th>\n",
       "      <th>discriptions</th>\n",
       "      <th>skills</th>\n",
       "      <th>published_at</th>\n",
       "      <th>pb_date</th>\n",
       "      <th>pb_wd</th>\n",
       "    </tr>\n",
       "  </thead>\n",
       "  <tbody>\n",
       "    <tr>\n",
       "      <th>744</th>\n",
       "      <td>42171232</td>\n",
       "      <td>Data Analyst</td>\n",
       "      <td>&lt;p&gt;Мы ищем специалистов в работе с данными. Пр...</td>\n",
       "      <td>[SQL, Python]</td>\n",
       "      <td>2021-03-15 11:10:36+03:00</td>\n",
       "      <td>2021-03-15</td>\n",
       "      <td>пн</td>\n",
       "    </tr>\n",
       "    <tr>\n",
       "      <th>1256</th>\n",
       "      <td>43249310</td>\n",
       "      <td>Аналитик данных</td>\n",
       "      <td>&lt;p&gt;&lt;strong&gt;Функции (до конца 2021):&lt;/strong&gt;&lt;/...</td>\n",
       "      <td>[Oracle Pl/SQL, MS SQL, SQL, PostgreSQL, Базы ...</td>\n",
       "      <td>2021-04-09 11:11:03+03:00</td>\n",
       "      <td>2021-04-09</td>\n",
       "      <td>пт</td>\n",
       "    </tr>\n",
       "    <tr>\n",
       "      <th>1464</th>\n",
       "      <td>43429001</td>\n",
       "      <td>Junior Data Analyst (SberDevices)</td>\n",
       "      <td>&lt;p&gt;В SberDevices в команду Вопросно-ответных с...</td>\n",
       "      <td>[Python, SQL, Обучение и развитие, Управление ...</td>\n",
       "      <td>2021-04-05 11:07:28+03:00</td>\n",
       "      <td>2021-04-05</td>\n",
       "      <td>пн</td>\n",
       "    </tr>\n",
       "    <tr>\n",
       "      <th>1726</th>\n",
       "      <td>43617621</td>\n",
       "      <td>Data Analyst ассистентов Салют (SberDevices)</td>\n",
       "      <td>SberDevices – инновационное направление компан...</td>\n",
       "      <td>[Python, SQL]</td>\n",
       "      <td>2021-04-05 15:38:36+03:00</td>\n",
       "      <td>2021-04-05</td>\n",
       "      <td>пн</td>\n",
       "    </tr>\n",
       "    <tr>\n",
       "      <th>1762</th>\n",
       "      <td>43643834</td>\n",
       "      <td>Аналитик данных (Развитие внешнеэкономического...</td>\n",
       "      <td>&lt;strong&gt;Обязанности:&lt;/strong&gt; &lt;ul&gt; &lt;li&gt;Формиро...</td>\n",
       "      <td>[PostgreSQL, Oracle Pl/SQL, Python, SQL, ORACLE]</td>\n",
       "      <td>2021-04-06 12:03:20+03:00</td>\n",
       "      <td>2021-04-06</td>\n",
       "      <td>вт</td>\n",
       "    </tr>\n",
       "    <tr>\n",
       "      <th>2977</th>\n",
       "      <td>37789843</td>\n",
       "      <td>Аналитик данных (Data Analyst)</td>\n",
       "      <td>&lt;strong&gt;Обязанности:&lt;/strong&gt; &lt;p&gt;-Ad hoc анали...</td>\n",
       "      <td>[SQL, MS SQL, Анализ данных, Работа с базами д...</td>\n",
       "      <td>2021-04-09 18:09:48+03:00</td>\n",
       "      <td>2021-04-09</td>\n",
       "      <td>пт</td>\n",
       "    </tr>\n",
       "  </tbody>\n",
       "</table>\n",
       "</div>"
      ],
      "text/plain": [
       "           ids                                               name  \\\n",
       "744   42171232                                       Data Analyst   \n",
       "1256  43249310                                    Аналитик данных   \n",
       "1464  43429001                  Junior Data Analyst (SberDevices)   \n",
       "1726  43617621       Data Analyst ассистентов Салют (SberDevices)   \n",
       "1762  43643834  Аналитик данных (Развитие внешнеэкономического...   \n",
       "2977  37789843                     Аналитик данных (Data Analyst)   \n",
       "\n",
       "                                           discriptions  \\\n",
       "744   <p>Мы ищем специалистов в работе с данными. Пр...   \n",
       "1256  <p><strong>Функции (до конца 2021):</strong></...   \n",
       "1464  <p>В SberDevices в команду Вопросно-ответных с...   \n",
       "1726  SberDevices – инновационное направление компан...   \n",
       "1762  <strong>Обязанности:</strong> <ul> <li>Формиро...   \n",
       "2977  <strong>Обязанности:</strong> <p>-Ad hoc анали...   \n",
       "\n",
       "                                                 skills  \\\n",
       "744                                       [SQL, Python]   \n",
       "1256  [Oracle Pl/SQL, MS SQL, SQL, PostgreSQL, Базы ...   \n",
       "1464  [Python, SQL, Обучение и развитие, Управление ...   \n",
       "1726                                      [Python, SQL]   \n",
       "1762   [PostgreSQL, Oracle Pl/SQL, Python, SQL, ORACLE]   \n",
       "2977  [SQL, MS SQL, Анализ данных, Работа с базами д...   \n",
       "\n",
       "                  published_at     pb_date pb_wd  \n",
       "744  2021-03-15 11:10:36+03:00  2021-03-15    пн  \n",
       "1256 2021-04-09 11:11:03+03:00  2021-04-09    пт  \n",
       "1464 2021-04-05 11:07:28+03:00  2021-04-05    пн  \n",
       "1726 2021-04-05 15:38:36+03:00  2021-04-05    пн  \n",
       "1762 2021-04-06 12:03:20+03:00  2021-04-06    вт  \n",
       "2977 2021-04-09 18:09:48+03:00  2021-04-09    пт  "
      ]
     },
     "execution_count": 17,
     "metadata": {},
     "output_type": "execute_result"
    }
   ],
   "source": [
    "# Найдите те вакансии с использованием python, которые вам интересны?\n",
    "# Find vacancy 'name' == 'Бизнес аналитик', 'Аналитик данных', 'Data analyst' and 'skills' == 'Python'\n",
    "tmp_name = 'Бизнес аналитик|Аналитик данных|Data analyst'.upper()\n",
    "tmp_da = vacancy[vacancy.name.str.upper().str.contains(tmp_name)]\n",
    "tmp_py = 'Python'.upper()\n",
    "tmp_sk_py = vacancy[vacancy.skills.astype(str).str.upper().str.contains(tmp_py)]\n",
    "vacancy_da_py = tmp_da[tmp_da.ids.isin(tmp_sk_py.ids)]\n",
    "vacancy_da_py"
   ]
  },
  {
   "cell_type": "code",
   "execution_count": 18,
   "metadata": {},
   "outputs": [
    {
     "data": {
      "text/plain": [
       "SQL                                 6\n",
       "Python                              6\n",
       "MS SQL                              2\n",
       "Анализ данных                       2\n",
       "Oracle Pl/SQL                       2\n",
       "PostgreSQL                          2\n",
       "Teradata                            1\n",
       "ORACLE                              1\n",
       "SCALA                               1\n",
       "Тайм-менеджмент                     1\n",
       "Hadoop                              1\n",
       "База данных: Oracle                 1\n",
       "Базы данных                         1\n",
       "Github                              1\n",
       "Обучение и развитие                 1\n",
       "Bitbucket                           1\n",
       "Git                                 1\n",
       "Управление временем                 1\n",
       "MySQL                               1\n",
       "Cистемы управления базами данных    1\n",
       "ETL                                 1\n",
       "Работа с базами данных              1\n",
       "dtype: int64"
      ]
     },
     "execution_count": 18,
     "metadata": {},
     "output_type": "execute_result"
    }
   ],
   "source": [
    "# Объединяем значение всех ячеек колонки 'skills' в одну строку\n",
    "skills = []\n",
    "for i in vacancy_da_py['skills']:\n",
    "    skills += i\n",
    "    \n",
    "pd.Series(skills).value_counts()"
   ]
  },
  {
   "cell_type": "code",
   "execution_count": 19,
   "metadata": {},
   "outputs": [
    {
     "data": {
      "text/plain": [
       "744                                         [SQL, Python]\n",
       "1256    [Oracle Pl/SQL, MS SQL, SQL, PostgreSQL, Базы ...\n",
       "1464    [Python, SQL, Обучение и развитие, Управление ...\n",
       "1726                                        [Python, SQL]\n",
       "1762     [PostgreSQL, Oracle Pl/SQL, Python, SQL, ORACLE]\n",
       "2977    [SQL, MS SQL, Анализ данных, Работа с базами д...\n",
       "Name: skills, dtype: object"
      ]
     },
     "execution_count": 19,
     "metadata": {},
     "output_type": "execute_result"
    }
   ],
   "source": [
    "vacancy_da_py['skills']"
   ]
  },
  {
   "cell_type": "code",
   "execution_count": 22,
   "metadata": {},
   "outputs": [
    {
     "data": {
      "text/plain": [
       "МЕНЕДЖЕР               1243\n",
       "ПРОДАЖАМ                902\n",
       "СПЕЦИАЛИСТ              511\n",
       "МОБИЛЬНЫЙ               425\n",
       "СТАРШИЙ                 382\n",
       "АНАЛИТИК                293\n",
       "ИНЖЕНЕР                 287\n",
       "РАЗРАБОТЧИК             278\n",
       "ВОДИТЕЛЬ-ИНКАССАТОР     266\n",
       "JAVA                    208\n",
       "dtype: int64"
      ]
     },
     "execution_count": 22,
     "metadata": {},
     "output_type": "execute_result"
    }
   ],
   "source": [
    "# Постройте график наиболее востребованных вакансий\n",
    "# Выбираем наиболее часто встречающие вакансии из колонки 'name'\n",
    "_str2 = ' '.join(vacancy['name'])\n",
    "exclude_chars2 = [',', '...', '.', \"(\", \")\", '/', '(', ')']\n",
    "for _ch in exclude_chars2:\n",
    "    _str2 =_str2.replace(_ch, \" \")\n",
    "exclude_words2 = ['и', ' ', '', 'в', 'или', 'с', 'для', 'на', 'от', 'по']\n",
    "words2 = [_.upper() for _ in _str2.split(\" \") if _ not in exclude_words2]\n",
    "pd.Series(words2).value_counts().head(10)"
   ]
  },
  {
   "cell_type": "code",
   "execution_count": 23,
   "metadata": {},
   "outputs": [
    {
     "data": {
      "image/png": "[encoded data removed]",
      "text/plain": [
       "<Figure size 432x288 with 1 Axes>"
      ]
     },
     "metadata": {
      "needs_background": "light"
     },
     "output_type": "display_data"
    }
   ],
   "source": [
    "# Строим график выбранных вакансий\n",
    "import matplotlib.pyplot as plt\n",
    "%matplotlib inline\n",
    "popular_vacs = pd.Series(words2).value_counts().head(10)\n",
    "popular_vacs.plot(kind='bar')\n",
    "plt.title('График востребованных вакансий', fontsize=16, fontweight='bold', color='DarkRed')\n",
    "plt.show()"
   ]
  },
  {
   "cell_type": "code",
   "execution_count": 24,
   "metadata": {},
   "outputs": [
    {
     "data": {
      "image/png": "[encoded data removed]",
      "text/plain": [
       "<Figure size 648x432 with 1 Axes>"
      ]
     },
     "metadata": {
      "needs_background": "light"
     },
     "output_type": "display_data"
    }
   ],
   "source": [
    "from pylab import rcParams\n",
    "rcParams['figure.figsize'] = 9,6\n",
    "popular_vacs.plot(kind='barh')\n",
    "plt.title('График востребованных вакансий', fontsize=10, fontweight='bold', color='DarkRed')\n",
    "plt.show()"
   ]
  },
  {
   "cell_type": "code",
   "execution_count": null,
   "metadata": {},
   "outputs": [],
   "source": []
  }
 ],
 "metadata": {
  "kernelspec": {
   "display_name": "Python 3",
   "language": "python",
   "name": "python3"
  },
  "toc": {
   "base_numbering": 1,
   "nav_menu": {},
   "number_sections": false,
   "sideBar": true,
   "skip_h1_title": false,
   "title_cell": " Содержание",
   "title_sidebar": "Contents",
   "toc_cell": true,
   "toc_position": {},
   "toc_section_display": true,
   "toc_window_display": false
  }
 },
 "nbformat": 4,
 "nbformat_minor": 4
}
