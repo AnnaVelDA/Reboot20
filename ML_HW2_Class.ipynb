{
 "cells": [
  {
   "cell_type": "code",
   "execution_count": 158,
   "id": "66c83cf4",
   "metadata": {},
   "outputs": [],
   "source": [
    "import pandas as pd\n",
    "from sklearn.ensemble import RandomForestClassifier\n",
    "from sklearn.model_selection import train_test_split, cross_val_score, ShuffleSplit\n",
    "from sklearn.metrics import mean_squared_error, accuracy_score, precision_score, recall_score, f1_score, roc_auc_score, roc_curve,auc, fbeta_score\n",
    "import matplotlib.pyplot as plt\n",
    "from sklearn import tree\n",
    "from sklearn.preprocessing import LabelEncoder\n",
    "from sklearn.model_selection import GridSearchCV"
   ]
  },
  {
   "cell_type": "code",
   "execution_count": 159,
   "id": "414c2e3f",
   "metadata": {},
   "outputs": [],
   "source": [
    "df = pd.read_csv('data/titanicdf.csv')"
   ]
  },
  {
   "cell_type": "markdown",
   "id": "a0dca9ab",
   "metadata": {},
   "source": [
    "## Файл titanicdf.csv, задачи:\n",
    "1. Предобработать данные (пропуски, замена текста, дубликаты и т.д)\n",
    "2. Использовать для классификации sklearn.ensemble.RandomForestClassifier\n",
    "3. Подобрать лучшие гиперпараметры (n_estimators, criterion, max_depth)\n",
    "4. Провести кроссвалидацию модели\n",
    "5. Оценить метрики бинарной классификации (Precision, recall, f1)\n",
    "6. Построить ROC-кривую для оценки качества классификатора"
   ]
  },
  {
   "cell_type": "markdown",
   "id": "e9cfcdc5",
   "metadata": {},
   "source": [
    "### 1. Предобработать данные (пропуски, замена текста, дубликаты и т.д)"
   ]
  },
  {
   "cell_type": "code",
   "execution_count": 160,
   "id": "afbcbb6e",
   "metadata": {},
   "outputs": [
    {
     "name": "stdout",
     "output_type": "stream",
     "text": [
      "<class 'pandas.core.frame.DataFrame'>\n",
      "RangeIndex: 891 entries, 0 to 890\n",
      "Data columns (total 12 columns):\n",
      " #   Column       Non-Null Count  Dtype  \n",
      "---  ------       --------------  -----  \n",
      " 0   PassengerId  891 non-null    int64  \n",
      " 1   Survived     891 non-null    int64  \n",
      " 2   Pclass       891 non-null    int64  \n",
      " 3   Name         891 non-null    object \n",
      " 4   Sex          891 non-null    object \n",
      " 5   Age          714 non-null    float64\n",
      " 6   SibSp        891 non-null    int64  \n",
      " 7   Parch        891 non-null    int64  \n",
      " 8   Ticket       891 non-null    object \n",
      " 9   Fare         891 non-null    float64\n",
      " 10  Cabin        204 non-null    object \n",
      " 11  Embarked     889 non-null    object \n",
      "dtypes: float64(2), int64(5), object(5)\n",
      "memory usage: 83.7+ KB\n"
     ]
    }
   ],
   "source": [
    "df.info()"
   ]
  },
  {
   "cell_type": "code",
   "execution_count": 161,
   "id": "b9232d31",
   "metadata": {},
   "outputs": [
    {
     "data": {
      "text/plain": [
       "0    0.616162\n",
       "1    0.383838\n",
       "Name: Survived, dtype: float64"
      ]
     },
     "execution_count": 161,
     "metadata": {},
     "output_type": "execute_result"
    }
   ],
   "source": [
    "df.Survived.value_counts(normalize=True)"
   ]
  },
  {
   "cell_type": "code",
   "execution_count": 162,
   "id": "58e77d00",
   "metadata": {},
   "outputs": [
    {
     "data": {
      "text/plain": [
       "3    0.551066\n",
       "1    0.242424\n",
       "2    0.206510\n",
       "Name: Pclass, dtype: float64"
      ]
     },
     "execution_count": 162,
     "metadata": {},
     "output_type": "execute_result"
    }
   ],
   "source": [
    "df.Pclass.value_counts(normalize=True)"
   ]
  },
  {
   "cell_type": "code",
   "execution_count": 163,
   "id": "34799fa5",
   "metadata": {},
   "outputs": [
    {
     "data": {
      "text/plain": [
       "male      0.647587\n",
       "female    0.352413\n",
       "Name: Sex, dtype: float64"
      ]
     },
     "execution_count": 163,
     "metadata": {},
     "output_type": "execute_result"
    }
   ],
   "source": [
    "df.Sex.value_counts(normalize=True)"
   ]
  },
  {
   "cell_type": "code",
   "execution_count": 164,
   "id": "36b4b570",
   "metadata": {},
   "outputs": [
    {
     "data": {
      "text/plain": [
       "24.00    0.042017\n",
       "22.00    0.037815\n",
       "18.00    0.036415\n",
       "28.00    0.035014\n",
       "19.00    0.035014\n",
       "           ...   \n",
       "55.50    0.001401\n",
       "74.00    0.001401\n",
       "0.92     0.001401\n",
       "70.50    0.001401\n",
       "12.00    0.001401\n",
       "Name: Age, Length: 88, dtype: float64"
      ]
     },
     "execution_count": 164,
     "metadata": {},
     "output_type": "execute_result"
    }
   ],
   "source": [
    "df.Age.value_counts(normalize=True)"
   ]
  },
  {
   "cell_type": "code",
   "execution_count": 166,
   "id": "941b4bc8",
   "metadata": {},
   "outputs": [
    {
     "data": {
      "text/plain": [
       "0"
      ]
     },
     "execution_count": 166,
     "metadata": {},
     "output_type": "execute_result"
    }
   ],
   "source": [
    "# Находиим дубликаты\n",
    "df.duplicated().sum()"
   ]
  },
  {
   "cell_type": "code",
   "execution_count": 167,
   "id": "25aca029",
   "metadata": {},
   "outputs": [],
   "source": [
    "df = df[['Survived','Pclass','Sex','Age','Fare']]"
   ]
  },
  {
   "cell_type": "code",
   "execution_count": 168,
   "id": "9ef8e2b7",
   "metadata": {},
   "outputs": [],
   "source": [
    "df.fillna(df.Age.median(),inplace = True)"
   ]
  },
  {
   "cell_type": "code",
   "execution_count": 169,
   "id": "2c2aef07",
   "metadata": {},
   "outputs": [],
   "source": [
    "le = LabelEncoder()"
   ]
  },
  {
   "cell_type": "code",
   "execution_count": 170,
   "id": "288a4962",
   "metadata": {},
   "outputs": [
    {
     "data": {
      "text/plain": [
       "0      1\n",
       "1      0\n",
       "2      0\n",
       "3      0\n",
       "4      1\n",
       "      ..\n",
       "886    1\n",
       "887    0\n",
       "888    0\n",
       "889    1\n",
       "890    1\n",
       "Name: Sex, Length: 891, dtype: int64"
      ]
     },
     "execution_count": 170,
     "metadata": {},
     "output_type": "execute_result"
    }
   ],
   "source": [
    "df['Sex'] = le.fit_transform(df['Sex'])\n",
    "df['Sex'] "
   ]
  },
  {
   "cell_type": "markdown",
   "id": "3db4c747",
   "metadata": {},
   "source": [
    "### 2. Использовать для классификации sklearn.ensemble.RandomForestClassifier"
   ]
  },
  {
   "cell_type": "code",
   "execution_count": 171,
   "id": "f368276e",
   "metadata": {},
   "outputs": [],
   "source": [
    "X_train, X_test, y_train, y_test = train_test_split(df.drop('Survived',axis=1), df['Survived'], test_size=0.25, random_state=2)"
   ]
  },
  {
   "cell_type": "code",
   "execution_count": 172,
   "id": "77ee06f0",
   "metadata": {},
   "outputs": [
    {
     "data": {
      "text/html": [
       "<div>\n",
       "<style scoped>\n",
       "    .dataframe tbody tr th:only-of-type {\n",
       "        vertical-align: middle;\n",
       "    }\n",
       "\n",
       "    .dataframe tbody tr th {\n",
       "        vertical-align: top;\n",
       "    }\n",
       "\n",
       "    .dataframe thead th {\n",
       "        text-align: right;\n",
       "    }\n",
       "</style>\n",
       "<table border=\"1\" class=\"dataframe\">\n",
       "  <thead>\n",
       "    <tr style=\"text-align: right;\">\n",
       "      <th></th>\n",
       "      <th>Pclass</th>\n",
       "      <th>Sex</th>\n",
       "      <th>Age</th>\n",
       "      <th>Fare</th>\n",
       "    </tr>\n",
       "  </thead>\n",
       "  <tbody>\n",
       "    <tr>\n",
       "      <th>199</th>\n",
       "      <td>2</td>\n",
       "      <td>0</td>\n",
       "      <td>24.0</td>\n",
       "      <td>13.000</td>\n",
       "    </tr>\n",
       "    <tr>\n",
       "      <th>129</th>\n",
       "      <td>3</td>\n",
       "      <td>1</td>\n",
       "      <td>45.0</td>\n",
       "      <td>6.975</td>\n",
       "    </tr>\n",
       "    <tr>\n",
       "      <th>90</th>\n",
       "      <td>3</td>\n",
       "      <td>1</td>\n",
       "      <td>29.0</td>\n",
       "      <td>8.050</td>\n",
       "    </tr>\n",
       "    <tr>\n",
       "      <th>230</th>\n",
       "      <td>1</td>\n",
       "      <td>0</td>\n",
       "      <td>35.0</td>\n",
       "      <td>83.475</td>\n",
       "    </tr>\n",
       "    <tr>\n",
       "      <th>126</th>\n",
       "      <td>3</td>\n",
       "      <td>1</td>\n",
       "      <td>28.0</td>\n",
       "      <td>7.750</td>\n",
       "    </tr>\n",
       "  </tbody>\n",
       "</table>\n",
       "</div>"
      ],
      "text/plain": [
       "     Pclass  Sex   Age    Fare\n",
       "199       2    0  24.0  13.000\n",
       "129       3    1  45.0   6.975\n",
       "90        3    1  29.0   8.050\n",
       "230       1    0  35.0  83.475\n",
       "126       3    1  28.0   7.750"
      ]
     },
     "execution_count": 172,
     "metadata": {},
     "output_type": "execute_result"
    }
   ],
   "source": [
    "X_train.head()"
   ]
  },
  {
   "cell_type": "code",
   "execution_count": 175,
   "id": "0ee63b70",
   "metadata": {},
   "outputs": [],
   "source": [
    "clf = RandomForestClassifier()"
   ]
  },
  {
   "cell_type": "code",
   "execution_count": 176,
   "id": "2cb78ab6",
   "metadata": {},
   "outputs": [],
   "source": [
    "model = clf.fit(X_train, y_train)\n",
    "pred = model.predict(X_test)"
   ]
  },
  {
   "cell_type": "markdown",
   "id": "325a79e9",
   "metadata": {},
   "source": [
    "### 3. Подобрать лучшие гиперпараметры (n_estimators, criterion, max_depth)"
   ]
  },
  {
   "cell_type": "code",
   "execution_count": 177,
   "id": "6aed7557",
   "metadata": {},
   "outputs": [],
   "source": [
    "tree_para = {'criterion':['gini','entropy'],\n",
    "             'max_depth':[4,5,6,7,8,9,10,11,12,15,20,30,40,50,70,90,120,150],\n",
    "             'n_estimators':[1,5,10,15,20,30,50]}"
   ]
  },
  {
   "cell_type": "code",
   "execution_count": 178,
   "id": "1680ae58",
   "metadata": {},
   "outputs": [
    {
     "data": {
      "text/plain": [
       "{'criterion': ['gini', 'entropy'],\n",
       " 'max_depth': [4,\n",
       "  5,\n",
       "  6,\n",
       "  7,\n",
       "  8,\n",
       "  9,\n",
       "  10,\n",
       "  11,\n",
       "  12,\n",
       "  15,\n",
       "  20,\n",
       "  30,\n",
       "  40,\n",
       "  50,\n",
       "  70,\n",
       "  90,\n",
       "  120,\n",
       "  150],\n",
       " 'n_estimators': [1, 5, 10, 15, 20, 30, 50]}"
      ]
     },
     "execution_count": 178,
     "metadata": {},
     "output_type": "execute_result"
    }
   ],
   "source": [
    "tree_para"
   ]
  },
  {
   "cell_type": "code",
   "execution_count": 179,
   "id": "d9891274",
   "metadata": {},
   "outputs": [
    {
     "data": {
      "text/plain": [
       "GridSearchCV(cv=10, estimator=RandomForestClassifier(),\n",
       "             param_grid={'criterion': ['gini', 'entropy'],\n",
       "                         'max_depth': [4, 5, 6, 7, 8, 9, 10, 11, 12, 15, 20, 30,\n",
       "                                       40, 50, 70, 90, 120, 150],\n",
       "                         'n_estimators': [1, 5, 10, 15, 20, 30, 50]},\n",
       "             scoring='recall')"
      ]
     },
     "execution_count": 179,
     "metadata": {},
     "output_type": "execute_result"
    }
   ],
   "source": [
    "clf_gs = GridSearchCV(RandomForestClassifier(), tree_para, cv=10, scoring = 'recall')\n",
    "clf_gs.fit(X_train, y_train)"
   ]
  },
  {
   "cell_type": "code",
   "execution_count": 180,
   "id": "bd29c2fb",
   "metadata": {},
   "outputs": [
    {
     "data": {
      "text/plain": [
       "{'criterion': 'gini', 'max_depth': 30, 'n_estimators': 15}"
      ]
     },
     "execution_count": 180,
     "metadata": {},
     "output_type": "execute_result"
    }
   ],
   "source": [
    "clf_gs.best_params_"
   ]
  },
  {
   "cell_type": "code",
   "execution_count": 181,
   "id": "7e505971",
   "metadata": {},
   "outputs": [],
   "source": [
    "model_new = RandomForestClassifier(**clf_gs.best_params_)"
   ]
  },
  {
   "cell_type": "code",
   "execution_count": 182,
   "id": "92199f0c",
   "metadata": {},
   "outputs": [
    {
     "data": {
      "text/plain": [
       "RandomForestClassifier(max_depth=30, n_estimators=15)"
      ]
     },
     "execution_count": 182,
     "metadata": {},
     "output_type": "execute_result"
    }
   ],
   "source": [
    "model_new.fit(X_train,y_train)"
   ]
  },
  {
   "cell_type": "code",
   "execution_count": 216,
   "id": "e40b1645",
   "metadata": {},
   "outputs": [],
   "source": [
    "new_pred = model_new.predict(X_test)"
   ]
  },
  {
   "cell_type": "code",
   "execution_count": 217,
   "id": "1d6f5bdf",
   "metadata": {},
   "outputs": [
    {
     "name": "stdout",
     "output_type": "stream",
     "text": [
      "Accuracy: 0.7982062780269058\n",
      "Precision: 0.7582417582417582\n",
      "Recall: 0.75\n",
      "F1: 0.7540983606557377\n"
     ]
    }
   ],
   "source": [
    "print('Accuracy:',accuracy_score(y_test,new_pred))\n",
    "print('Precision:',precision_score(y_test,new_pred))\n",
    "print('Recall:',recall_score(y_test,new_pred))\n",
    "print('F1:',f1_score(y_test,new_pred))"
   ]
  },
  {
   "cell_type": "markdown",
   "id": "add6dcc8",
   "metadata": {},
   "source": [
    "### 4. Провести кроссвалидацию модели"
   ]
  },
  {
   "cell_type": "code",
   "execution_count": 234,
   "id": "11f8d04d",
   "metadata": {},
   "outputs": [],
   "source": [
    "cv = ShuffleSplit(n_splits=10, test_size=0.25, random_state=0)\n",
    "scores = cross_val_score(model_new, X_train, y_train, cv=cv, scoring='recall')"
   ]
  },
  {
   "cell_type": "code",
   "execution_count": 235,
   "id": "079505df",
   "metadata": {},
   "outputs": [
    {
     "data": {
      "text/plain": [
       "0.6960999269740953"
      ]
     },
     "execution_count": 235,
     "metadata": {},
     "output_type": "execute_result"
    }
   ],
   "source": [
    "scores.mean()"
   ]
  },
  {
   "cell_type": "code",
   "execution_count": 236,
   "id": "a16913f6",
   "metadata": {},
   "outputs": [
    {
     "data": {
      "text/plain": [
       "array([0.68965517, 0.70175439, 0.81481481, 0.77966102, 0.58064516,\n",
       "       0.71428571, 0.65333333, 0.57377049, 0.72580645, 0.72727273])"
      ]
     },
     "execution_count": 236,
     "metadata": {},
     "output_type": "execute_result"
    }
   ],
   "source": [
    "scores"
   ]
  },
  {
   "cell_type": "markdown",
   "id": "3eb56f28",
   "metadata": {},
   "source": [
    "### 5. Оценить метрики бинарной классификации (Precision, recall, f1)"
   ]
  },
  {
   "cell_type": "code",
   "execution_count": 221,
   "id": "dc7e9829",
   "metadata": {},
   "outputs": [
    {
     "name": "stdout",
     "output_type": "stream",
     "text": [
      "Accuracy: 0.7847533632286996\n",
      "Precision: 0.75\n",
      "Recall: 0.717391304347826\n",
      "F1: 0.7333333333333332\n"
     ]
    }
   ],
   "source": [
    "print('Accuracy:',accuracy_score(y_test,pred))\n",
    "print('Precision:',precision_score(y_test,pred))\n",
    "print('Recall:',recall_score(y_test,pred))\n",
    "print('F1:',f1_score(y_test,pred))"
   ]
  },
  {
   "cell_type": "markdown",
   "id": "6d8d6732",
   "metadata": {},
   "source": [
    "### 6. Построить ROC-кривую для оценки качества классификатора"
   ]
  },
  {
   "cell_type": "code",
   "execution_count": 226,
   "id": "76e9dea8",
   "metadata": {},
   "outputs": [
    {
     "data": {
      "text/plain": [
       "array([1, 0, 1, 0, 0, 0, 0, 0, 0, 0, 0, 1, 1, 0, 0, 1, 1, 0, 0, 0, 1, 1,\n",
       "       0, 0, 0, 1, 1, 1, 0, 0, 1, 0, 1, 0, 0, 1, 1, 1, 0, 0, 0, 0, 1, 0,\n",
       "       0, 0, 1, 0, 0, 1, 0, 1, 0, 0, 0, 0, 0, 0, 0, 1, 1, 1, 0, 0, 1, 0,\n",
       "       1, 1, 1, 0, 1, 0, 0, 0, 1, 1, 0, 1, 1, 1, 1, 0, 0, 0, 1, 1, 0, 0,\n",
       "       1, 1, 0, 1, 0, 0, 0, 1, 0, 1, 0, 1, 1, 0, 1, 1, 0, 1, 1, 1, 0, 1,\n",
       "       1, 0, 0, 0, 1, 1, 0, 1, 0, 1, 1, 0, 0, 0, 0, 0, 0, 1, 0, 0, 0, 1,\n",
       "       0, 1, 0, 0, 0, 0, 0, 0, 0, 1, 1, 1, 1, 1, 0, 0, 0, 1, 0, 1, 0, 0,\n",
       "       1, 0, 1, 1, 0, 0, 1, 0, 1, 0, 1, 1, 0, 0, 1, 0, 0, 1, 1, 1, 0, 0,\n",
       "       0, 0, 0, 0, 1, 0, 0, 0, 0, 0, 1, 1, 0, 0, 1, 0, 0, 0, 1, 0, 0, 0,\n",
       "       0, 0, 0, 1, 0, 0, 1, 0, 0, 0, 0, 0, 1, 0, 0, 1, 0, 1, 0, 0, 1, 0,\n",
       "       0, 0, 1])"
      ]
     },
     "execution_count": 226,
     "metadata": {},
     "output_type": "execute_result"
    }
   ],
   "source": [
    "model.predict(X_test)"
   ]
  },
  {
   "cell_type": "code",
   "execution_count": 227,
   "id": "5f91afbc",
   "metadata": {},
   "outputs": [
    {
     "data": {
      "text/plain": [
       "array([0.54666667, 0.        , 0.99      , 0.09      , 0.5       ,\n",
       "       0.07      , 0.02      , 0.01      , 0.1       , 0.03      ,\n",
       "       0.1       , 1.        , 0.83      , 0.09      , 0.09      ,\n",
       "       0.61      , 0.66      , 0.19      , 0.11      , 0.08      ,\n",
       "       0.63      , 0.73      , 0.175     , 0.05      , 0.1       ,\n",
       "       1.        , 0.85      , 0.54      , 0.16      , 0.2325    ,\n",
       "       0.62      , 0.2       , 0.54      , 0.05      , 0.33666667,\n",
       "       0.95      , 1.        , 0.57      , 0.        , 0.06166667,\n",
       "       0.        , 0.03      , 0.87271429, 0.07      , 0.02      ,\n",
       "       0.02      , 0.99      , 0.24      , 0.03      , 0.84166667,\n",
       "       0.        , 0.57833333, 0.03      , 0.07      , 0.25      ,\n",
       "       0.13      , 0.03      , 0.01      , 0.        , 0.567     ,\n",
       "       0.83      , 0.7       , 0.02      , 0.00291667, 0.84      ,\n",
       "       0.27      , 0.98      , 0.54      , 0.57      , 0.        ,\n",
       "       0.89      , 0.08      , 0.02      , 0.00394444, 0.69      ,\n",
       "       0.82      , 0.46683333, 0.8       , 0.98      , 0.63      ,\n",
       "       1.        , 0.11      , 0.24      , 0.3       , 0.99      ,\n",
       "       0.92666667, 0.02      , 0.        , 0.87      , 0.66      ,\n",
       "       0.        , 0.7025    , 0.0743788 , 0.        , 0.0375    ,\n",
       "       0.99      , 0.11      , 0.94      , 0.        , 0.66      ,\n",
       "       0.81      , 0.02666667, 0.97      , 1.        , 0.03      ,\n",
       "       0.98      , 0.96      , 0.99      , 0.04      , 0.66      ,\n",
       "       0.68      , 0.02385354, 0.1       , 0.28      , 1.        ,\n",
       "       0.99      , 0.09      , 1.        , 0.44      , 0.78      ,\n",
       "       0.97      , 0.15147035, 0.        , 0.        , 0.41      ,\n",
       "       0.        , 0.2       , 0.97      , 0.        , 0.        ,\n",
       "       0.        , 0.7       , 0.16      , 1.        , 0.0692381 ,\n",
       "       0.02      , 0.035     , 0.        , 0.0175    , 0.09      ,\n",
       "       0.48      , 1.        , 1.        , 0.91816667, 0.92      ,\n",
       "       1.        , 0.        , 0.06      , 0.2       , 0.80185714,\n",
       "       0.06      , 0.67      , 0.11      , 0.01      , 0.74599226,\n",
       "       0.        , 0.92      , 1.        , 0.34      , 0.001     ,\n",
       "       0.78      , 0.        , 0.7025    , 0.        , 1.        ,\n",
       "       1.        , 0.03      , 0.00937175, 1.        , 0.        ,\n",
       "       0.01      , 0.56      , 0.98      , 0.91      , 0.        ,\n",
       "       0.        , 0.        , 0.        , 0.41      , 0.39833333,\n",
       "       0.96      , 0.35      , 0.18      , 0.04      , 0.094     ,\n",
       "       0.07      , 0.65      , 0.895     , 0.        , 0.26      ,\n",
       "       0.98      , 0.        , 0.16      , 0.26      , 0.56      ,\n",
       "       0.41      , 0.02      , 0.04      , 0.08      , 0.19      ,\n",
       "       0.0992381 , 1.        , 0.47      , 0.        , 0.99      ,\n",
       "       0.13      , 0.02      , 0.32      , 0.02      , 0.46      ,\n",
       "       0.98      , 0.1       , 0.03      , 0.76      , 0.04      ,\n",
       "       1.        , 0.03      , 0.26      , 0.675     , 0.        ,\n",
       "       0.01      , 0.15      , 0.74599226])"
      ]
     },
     "execution_count": 227,
     "metadata": {},
     "output_type": "execute_result"
    }
   ],
   "source": [
    "model.predict_proba(X_test)[:,1]"
   ]
  },
  {
   "cell_type": "code",
   "execution_count": 229,
   "id": "fc99aefc",
   "metadata": {},
   "outputs": [],
   "source": [
    "pred_proba = model.predict_proba(X_test)[:,1]"
   ]
  },
  {
   "cell_type": "code",
   "execution_count": 230,
   "id": "9130da49",
   "metadata": {},
   "outputs": [
    {
     "name": "stdout",
     "output_type": "stream",
     "text": [
      "RandomForestClassifier: ROC AUC=0.843\n"
     ]
    }
   ],
   "source": [
    "fpr, tpr, treshold = roc_curve(y_test, pred_proba)\n",
    "tree_auc = roc_auc_score(y_test, pred_proba)\n",
    "print('RandomForestClassifier: ROC AUC=%.3f' % (tree_auc))"
   ]
  },
  {
   "cell_type": "code",
   "execution_count": 231,
   "id": "0edb67c3",
   "metadata": {},
   "outputs": [
    {
     "data": {
      "image/png": "[encoded data removed]",
      "text/plain": [
       "<Figure size 432x288 with 1 Axes>"
      ]
     },
     "metadata": {
      "needs_background": "light"
     },
     "output_type": "display_data"
    }
   ],
   "source": [
    "roc_auc = auc(fpr, tpr)\n",
    "# строим график\n",
    "plt.plot(fpr, tpr,  color='darkorange',\n",
    "         label='ROC кривая (area = %0.2f)' % roc_auc)\n",
    "plt.plot([0, 1], [0, 1], color='navy', linestyle='--')\n",
    "plt.xlim([0.0, 1.0])\n",
    "plt.ylim([0.0, 1.05])\n",
    "plt.xlabel('False Positive Rate')\n",
    "plt.ylabel('True Positive Rate')\n",
    "plt.title('Пример ROC-кривой')\n",
    "plt.legend(loc=\"lower right\")\n",
    "plt.show()"
   ]
  },
  {
   "cell_type": "code",
   "execution_count": 233,
   "id": "fb44903d",
   "metadata": {
    "scrolled": true
   },
   "outputs": [
    {
     "data": {
      "text/plain": [
       "array([2.00000000e+00, 1.00000000e+00, 9.90000000e-01, 9.80000000e-01,\n",
       "       9.70000000e-01, 9.60000000e-01, 9.50000000e-01, 9.26666667e-01,\n",
       "       9.20000000e-01, 8.41666667e-01, 8.40000000e-01, 8.30000000e-01,\n",
       "       8.00000000e-01, 7.80000000e-01, 7.60000000e-01, 7.45992258e-01,\n",
       "       7.30000000e-01, 7.02500000e-01, 7.00000000e-01, 6.80000000e-01,\n",
       "       6.70000000e-01, 6.60000000e-01, 6.50000000e-01, 6.30000000e-01,\n",
       "       6.20000000e-01, 5.78333333e-01, 5.70000000e-01, 5.67000000e-01,\n",
       "       5.60000000e-01, 5.46666667e-01, 5.40000000e-01, 5.00000000e-01,\n",
       "       4.70000000e-01, 4.66833333e-01, 4.60000000e-01, 4.40000000e-01,\n",
       "       4.10000000e-01, 3.50000000e-01, 3.36666667e-01, 2.70000000e-01,\n",
       "       2.60000000e-01, 2.50000000e-01, 2.40000000e-01, 2.32500000e-01,\n",
       "       2.00000000e-01, 1.90000000e-01, 1.75000000e-01, 1.60000000e-01,\n",
       "       1.50000000e-01, 1.30000000e-01, 1.10000000e-01, 1.00000000e-01,\n",
       "       9.40000000e-02, 9.00000000e-02, 8.00000000e-02, 7.43787972e-02,\n",
       "       7.00000000e-02, 6.16666667e-02, 5.00000000e-02, 4.00000000e-02,\n",
       "       3.75000000e-02, 3.50000000e-02, 3.00000000e-02, 2.38535354e-02,\n",
       "       2.00000000e-02, 1.75000000e-02, 1.00000000e-02, 9.37175325e-03,\n",
       "       2.91666667e-03, 1.00000000e-03, 0.00000000e+00])"
      ]
     },
     "execution_count": 233,
     "metadata": {},
     "output_type": "execute_result"
    }
   ],
   "source": [
    "treshold"
   ]
  }
 ],
 "metadata": {
  "kernelspec": {
   "display_name": "Python 3",
   "language": "python",
   "name": "python3"
  },
  "language_info": {
   "codemirror_mode": {
    "name": "ipython",
    "version": 3
   },
   "file_extension": ".py",
   "mimetype": "text/x-python",
   "name": "python",
   "nbconvert_exporter": "python",
   "pygments_lexer": "ipython3",
   "version": "3.8.2"
  }
 },
 "nbformat": 4,
 "nbformat_minor": 5
}
