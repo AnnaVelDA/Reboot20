{
 "cells": [
  {
   "cell_type": "code",
   "execution_count": 1,
   "id": "f0859ccc",
   "metadata": {},
   "outputs": [],
   "source": [
    "#task1  (lesson8)\n",
    "#oracle: https://leetcode.com/problems/department-top-three-salaries/\n",
    "request = \"\"\"\n",
    "select d.name as Department, t1.name as Employee, t1.Salary as Salary \n",
    "FROM (\n",
    "    SELECT e.*, DENSE_RANK() OVER(PARTITION BY DepartmentId ORDER BY Salary DESC) AS rank\n",
    "    FROM Employee e) t1\n",
    "LEFT JOIN Department d\n",
    "ON t1.DepartmentId = d.Id\n",
    "WHERE t1.rank <= 3\n",
    "ORDER BY Salary DESC;\n",
    "\"\"\""
   ]
  },
  {
   "cell_type": "code",
   "execution_count": null,
   "id": "e819f714",
   "metadata": {},
   "outputs": [],
   "source": [
    "#task2  (lesson8)\n",
    "#https://sql-academy.org/ru/trainer/tasks/17\n",
    "request = \"\"\"\n",
    "SELECT member_name, status, sum(amount*unit_price) as costs\n",
    "from FamilyMembers f\n",
    "join Payments p\n",
    "on f.member_id=p.family_member\n",
    "where p.date like '2005%'\n",
    "GROUP BY f.member_name, f.status;\n",
    "\"\"\""
   ]
  },
  {
   "cell_type": "code",
   "execution_count": null,
   "id": "70cbcb9c",
   "metadata": {},
   "outputs": [],
   "source": [
    "#task3  (lesson8)\n",
    "#https://sql-academy.org/ru/trainer/tasks/13\n",
    "request = \"\"\"\n",
    "select name\n",
    "from Passenger\n",
    "group by name\n",
    "having count(name)>1;\n",
    "\"\"\""
   ]
  },
  {
   "cell_type": "code",
   "execution_count": null,
   "id": "4c8ff833",
   "metadata": {},
   "outputs": [],
   "source": [
    "#task4  (lesson8)\n",
    "#https://sql-academy.org/ru/trainer/tasks/38\n",
    "request = \"\"\"\n",
    "select count(first_name) AS COUNT \n",
    "FROM Student\n",
    "where first_name = 'Anna';\n",
    "\"\"\""
   ]
  },
  {
   "cell_type": "code",
   "execution_count": null,
   "id": "ff8ac1fb",
   "metadata": {},
   "outputs": [],
   "source": [
    "#task5  (lesson8)\n",
    "#https://sql-academy.org/ru/trainer/tasks/35\n",
    "request = \"\"\"\n",
    "select count(classroom) as count\n",
    "from Schedule\n",
    "where date like '2019-09-02%';\n",
    "\"\"\"  "
   ]
  },
  {
   "cell_type": "code",
   "execution_count": null,
   "id": "f43c8da3",
   "metadata": {},
   "outputs": [],
   "source": [
    "#task6  (lesson8)\n",
    "#https://sql-academy.org/ru/trainer/tasks/38\n",
    "request = \"\"\"\n",
    "select count(first_name) as count\n",
    "from Student\n",
    "where first_name = 'Anna';\n",
    "\"\"\" "
   ]
  },
  {
   "cell_type": "code",
   "execution_count": null,
   "id": "fc7accd4",
   "metadata": {},
   "outputs": [],
   "source": [
    "#task7  (lesson8)\n",
    "#https://sql-academy.org/ru/trainer/tasks/32\n",
    "request = \"\"\"\n",
    "SELECT floor(avg(year(curdate()) - year(birthday)- (DATE_FORMAT(curdate(), '%m%d') < DATE_FORMAT(birthday, '%m%d')))) as age\n",
    "from FamilyMembers;\n",
    "\"\"\" "
   ]
  },
  {
   "cell_type": "code",
   "execution_count": null,
   "id": "1ce8ef82",
   "metadata": {},
   "outputs": [],
   "source": [
    "#task8  (lesson8)\n",
    "#https://sql-academy.org/ru/trainer/tasks/27\n",
    "request = \"\"\"\n",
    "SELECT gt.good_type_name, sum(p.amount*p.unit_price) as costs\n",
    "from Payments p\n",
    "left join Goods g\n",
    "on p.good = g.good_id\n",
    "left join GoodTypes gt\n",
    "on g.type = gt.good_type_id\n",
    "where p.date like '2005%'\n",
    "GROUP BY gt.good_type_name;\n",
    "\"\"\" "
   ]
  },
  {
   "cell_type": "code",
   "execution_count": null,
   "id": "2c8620d2",
   "metadata": {},
   "outputs": [],
   "source": [
    "#task9  (lesson8)\n",
    "#https://sql-academy.org/ru/trainer/tasks/37\n",
    "request = \"\"\"\n",
    "SELECT min(year(curdate()) - year(birthday)- (DATE_FORMAT(curdate(), '%m%d') < DATE_FORMAT(birthday, '%m%d'))) as year\n",
    "from Student;\n",
    "\"\"\"   "
   ]
  },
  {
   "cell_type": "code",
   "execution_count": null,
   "id": "1116f409",
   "metadata": {},
   "outputs": [],
   "source": [
    "#task10  (lesson8)\n",
    "#https://sql-academy.org/ru/trainer/tasks/44\n",
    "request = \"\"\"\n",
    "SELECT max(year(curdate())-year(birthday)) as max_year\n",
    "FROM Student s\n",
    "left join Student_in_class sc\n",
    "on s.id=sc.student\n",
    "left join Class cls\n",
    "on sc.class = cls.id \n",
    "where cls.name like'10%';\n",
    "\"\"\"  "
   ]
  },
  {
   "cell_type": "code",
   "execution_count": null,
   "id": "2161fd6c",
   "metadata": {},
   "outputs": [],
   "source": [
    "#task11 (lesson8)\n",
    "#https://sql-academy.org/ru/trainer/tasks/20\n",
    "request = \"\"\"\n",
    "select status, member_name, sum(p.amount*p.unit_price) as costs\n",
    "from FamilyMembers f\n",
    "left join Payments p\n",
    "on f.member_id=p.family_member\n",
    "left join Goods g\n",
    "on g.good_id = p.good\n",
    "left join GoodTypes gt\n",
    "on gt.good_type_id=g.type\n",
    "where gt.good_type_name = 'entertainment'\n",
    "GROUP BY status, member_name;\n",
    "\"\"\" "
   ]
  },
  {
   "cell_type": "code",
   "execution_count": null,
   "id": "9cd38185",
   "metadata": {},
   "outputs": [],
   "source": [
    "#task12  (lesson8)\n",
    "#https://sql-academy.org/ru/trainer/tasks/55\n",
    "request = \"\"\"\n",
    "DELETE FROM Company\n",
    "WHERE id in (\n",
    "    SELECT t2.Company from (\n",
    "        SELECT Company, count(id) as cnt FROM Trip\n",
    "        GROUP BY Company\n",
    "        HAVING cnt = (SELECT min(cnt) from (\n",
    "            SELECT Company, count(id) as cnt FROM Trip\n",
    "            GROUP BY Company) t1)\n",
    "    ) t2\n",
    ");\n",
    "\"\"\" "
   ]
  },
  {
   "cell_type": "code",
   "execution_count": null,
   "id": "fad3b2b9",
   "metadata": {},
   "outputs": [],
   "source": [
    "#task13  (lesson8)\n",
    "#https://sql-academy.org/ru/trainer/tasks/45\n",
    "request = \"\"\"\n",
    "  SELECT classroom\n",
    "    FROM Schedule\n",
    "GROUP BY classroom\n",
    "ORDER BY COUNT(*) DESC \n",
    "LIMIT 2;\n",
    "\"\"\" "
   ]
  },
  {
   "cell_type": "code",
   "execution_count": null,
   "id": "4c2fdd8f",
   "metadata": {},
   "outputs": [],
   "source": [
    "#task14  (lesson8)\n",
    "#https://sql-academy.org/ru/trainer/tasks/43\n",
    "request = \"\"\"\n",
    "select  last_name\n",
    "from Teacher t\n",
    "LEFT JOIN Schedule s\n",
    "on t.id=s.teacher\n",
    "LEFT JOIN Subject st\n",
    "on st.id=s.subject\n",
    "where name = 'Physical Culture'\n",
    "ORDER BY last_name;\n",
    "\"\"\" "
   ]
  },
  {
   "cell_type": "code",
   "execution_count": null,
   "id": "15fa91e6",
   "metadata": {},
   "outputs": [],
   "source": [
    "#task15  (lesson8)\n",
    "#https://sql-academy.org/ru/trainer/tasks/63\n",
    "request = \"\"\"\n",
    "select concat(last_name,'.',substr(first_name, 1, 1),'.',substr(middle_name, 1, 1),'.') as name\n",
    "FROM Student \n",
    "ORDER BY concat(last_name,'.',substr(first_name, 1, 1),'.',substr(middle_name, 1, 1)); \n",
    "\"\"\" "
   ]
  }
 ],
 "metadata": {
  "kernelspec": {
   "display_name": "Python 3",
   "language": "python",
   "name": "python3"
  },
  "language_info": {
   "codemirror_mode": {
    "name": "ipython",
    "version": 3
   },
   "file_extension": ".py",
   "mimetype": "text/x-python",
   "name": "python",
   "nbconvert_exporter": "python",
   "pygments_lexer": "ipython3",
   "version": "3.8.5"
  }
 },
 "nbformat": 4,
 "nbformat_minor": 5
}
