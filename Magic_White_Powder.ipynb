{
 "cells": [
  {
   "cell_type": "code",
   "execution_count": null,
   "metadata": {},
   "outputs": [],
   "source": [
    "%matplotlib inline\n",
    "import yfinance as yf\n",
    "import pandas as pd\n",
    "import matplotlib.pyplot as plt\n",
    "#import seaborn; seaborn.set()\n",
    "#from pandas_datareader import data as pdr\n",
    "from bs4 import BeautifulSoup"
   ]
  },
  {
   "cell_type": "markdown",
   "metadata": {},
   "source": [
    "# Задание 1.\n",
    "\n",
    "Вы - менеджер по продажам в нефтехимической компании. Вы ведете несколько ключевых клиентов, которые закупают продукты вашей компании. Ваша компания запускает новый продукт - \"Волшебный белый порошок\" (ВБП), который по своим свойствам похож на тот, что уже есть на рынке. Ваши клиенты предпочитают формульный подход к ценообразованию. Вам нужно предложить клиентам формулу расчета цены на ВБП. В зависимости от объемов, которые покупают клиенты, им может быть предложена скидка.\n",
    "\n",
    "### Дополнительные вводные:\n",
    "\n",
    "Так как продукт Б новый, возможно стоит предложить дисконт от цены Продукта А. Продукт производиться из нефти. Один из известных способов производства предполагает что из 16 баррелей нефти сделают одну тонну ВБП, а затраты на производство в районе 400 евро."
   ]
  },
  {
   "cell_type": "code",
   "execution_count": null,
   "metadata": {},
   "outputs": [],
   "source": [
    "# Из данных есть:\n",
    "# Цены на продукт А, который уже есть на рынке Европы\n",
    "# ----- октябрь 2018 - \n",
    "# ----- ноябрь 2018 - \n",
    "# ----- февраль 2019 -\n",
    "\n",
    "# Котировки нефти, курс eur/usd\n",
    "dbc = pd.read_excel('cur_oil.xlsx')\n",
    "\n",
    "# Затраты на производство\n",
    "PRODUCTION_COST = 400 # (EUR)\n",
    "\n",
    "# Расходы на логистику\n",
    "EU_LOGISTIC_COST_EUR = 30 # в Европу в евро\n",
    "CN_LOGISTIC_COST_USD = 130 # в Китай в долларах\n",
    "\n",
    "# * Справочная информация по клиентам(объемы, локации, комментарии) \n",
    "customers = {\n",
    "    'Monty':{\n",
    "        'location':'EU',\n",
    "        'volumes':200,\n",
    "        'comment':'moving_average'\n",
    "    },\n",
    "    \n",
    "    'Triangle':{\n",
    "        'location':'CN',\n",
    "        'volumes': 30,\n",
    "        'comment': 'monthly'\n",
    "    },\n",
    "    'Stone':{\n",
    "        'location':'EU',\n",
    "        'volumes': 150,\n",
    "        'comment': 'moving_average'\n",
    "    },\n",
    "    'Poly':{\n",
    "        'location':'EU',\n",
    "        'volumes': 70,\n",
    "        'comment': 'monthly'\n",
    "    }\n",
    "}\n",
    "# Скидки\n",
    "discounts = {'up to 100': 0.01, # 1%\n",
    "             'up to 300': 0.05, # 5%\n",
    "             '300 plus': 0.1}   #10%\n"
   ]
  },
  {
   "cell_type": "markdown",
   "metadata": {},
   "source": [
    "### Что нужно сделать?\n",
    "\n",
    "1. Проанализировать имеющиеся данные.\n",
    "2. Определить базовую формулу цены на условиях FCA (цена на заводе). То есть как бы выглядела цена на исторических данных.\n",
    "3. Отобразить на графике.\n",
    "4. Сделать расчет возможной цены по формуле для каждого из клиентов на условиях DDP (цена с доставкой). Записать все в один эксель файл, на разных листах. Каждый лист - название клиента.\n",
    "5. Предложить формулу цены каждому из клиентов на условиях DDP (цена с доставкой).\n",
    "- Создать директорию «для клиентов» и в ней сложить  файлы с расчетами.\n",
    "- Каждый клиент - отдельный файл (любой из docx, xlsx, pptx, pdf)  с именем клиента… \n",
    "\n",
    "### В результате должно быть 3 файла:\n",
    "1. Ноутбук с расчетами и графиками. \n",
    "2. Скрипт, который делает расчет цены для каждого клиента в одном файле\n",
    "2. Скрипт, который делает расчет цены для каждого клиента в отельном файле"
   ]
  },
  {
   "cell_type": "markdown",
   "metadata": {},
   "source": [
    "#### Задание 1.\n",
    "1. Проанализировать имеющиеся данные.\n",
    "2. Определить базовую формулу цены на условиях FCA (цена на заводе). То есть как бы выглядела цена на исторических данных.\n",
    "3. Отобразить на графике.\n",
    "4. Сделать расчет возможной цены по формуле для каждого из клиентов на условиях DDP (цена с доставкой). Записать все в один эксель файл, на разных листах. Каждый лист - название клиента.\n",
    "5. Предложить формулу цены каждому из клиентов на условиях DDP (цена с доставкой).\n",
    " - Создать директорию «для клиентов» и в ней сложить файлы с расчетами.\n",
    " - Каждый клиент - отдельный файл (любой из docx, xlsx, pptx, pdf) с именем клиента…"
   ]
  },
  {
   "cell_type": "code",
   "execution_count": null,
   "metadata": {},
   "outputs": [],
   "source": [
    "#1.Проанализировать имеющиеся данные.\n",
    "#2.Определить базовую формулу цены на условиях FCA (цена на заводе). То есть как бы выглядела цена на исторических\n",
    "#данных.\n",
    "\n",
    "class MagicWhitePowder:\n",
    "        \"\"\"Формула расчета цены на продукт\"\"\"\n",
    "        \n",
    "        def __init__(self):\n",
    "            self.PRODUCTION_COST = 400\n",
    "            self.EU_LOGISTIC_COST_EUR = 30 # в Европу в евро\n",
    "            self.CN_LOGISTIC_COST_USD = 130 # в Китай в долларах\n",
    "        \n",
    "        def logistic_cost (self, region, EUR_USD):\n",
    "            assert region in [\"EU\", \"CN\"], f\"Не известный регион {region}\"\n",
    "            if region == 'EU':\n",
    "                cost = self.EU_LOGISTIC_COST_EUR\n",
    "            elif  region == 'CN':\n",
    "                cost = self.CN_LOGISTIC_COST_USD / EUR_USD\n",
    "            return cost\n",
    "        \n",
    "        def fca(self, oil_price, EUR_USD):\n",
    "            \"\"\"Расчет цены на заводе\"\"\"\n",
    "            return  16 * oil_price / EUR_USD + self.PRODUCTION_COST    \n",
    "        \n",
    "        def ddp(self, oil_price, EUR_USD, region):\n",
    "            \"\"\"Расчет цены c доставкой для клиента\"\"\"\n",
    "            return self.fca(oil_price, EUR_USD) +  self.logistic_cost(region, EUR_USD)"
   ]
  },
  {
   "cell_type": "code",
   "execution_count": null,
   "metadata": {},
   "outputs": [],
   "source": [
    "#3.Отобразить на графике.\n",
    "#4.Сделать расчет возможной цены по формуле для каждого из клиентов на условиях DDP (цена с доставкой). \n",
    "#Записать все в один эксель файл, на разных листах. Каждый лист - название клиента.\n",
    "\n",
    "dbc = pd.read_excel('cur_oil.xlsx')\n",
    "dbc.dropna(inplace=True)\n",
    "mwp = MagicWhitePowder()\n",
    "\n",
    "writer = pd.ExcelWriter('MWP_prices.xlsx', engine = 'xlsxwriter')\n",
    "\n",
    "for key, value in customers.items():\n",
    "    region = value['location']\n",
    "    dbc['FCA'] = mwp.fca(dbc['OIL'], dbc['EURUSD=X'])\n",
    "    dbc['DDP'] = mwp.ddp(dbc['OIL'], dbc['EURUSD=X'], region)\n",
    "    \n",
    "    dbc.to_excel(writer, sheet_name = key)\n",
    "\n",
    "writer.save()\n",
    "\n",
    "#Отобразить цену FCA на графике.\n",
    "dbc.plot(x='Date', y='FCA')\n",
    "dbc.head(5)"
   ]
  },
  {
   "cell_type": "markdown",
   "metadata": {},
   "source": [
    "### Расчет цены для подхода Moving Avarage\n",
    "\n",
    "FCA = MA(Oil_price, window=5) * MA(EURUSD, window=5) * 16 + PRODUCTION_COST \n",
    "\n",
    "DDP = FCA + LOGISTIC_COST"
   ]
  },
  {
   "cell_type": "code",
   "execution_count": null,
   "metadata": {},
   "outputs": [],
   "source": [
    "#5. Предложить формулу цены каждому из клиентов на условиях DDP (цена с доставкой).\n",
    "# - Создать директорию «для клиентов» и в ней сложить файлы с расчетами.\n",
    "# - Каждый клиент - отдельный файл (любой из docx, xlsx, pptx, pdf) с именем клиента…\n",
    "dbc_ma = dbc.copy()\n",
    "\n",
    "dbc_ma['EURUSD=X'] = dbc_ma['EURUSD=X'].rolling(window=5).mean()\n",
    "dbc_ma['OIL']= dbc_ma['OIL'].rolling(window=5).mean()\n",
    "\n",
    "dbc_mtha = dbc.copy()\n",
    "dbc_mtha = dbc_mtha.set_index('Date').groupby(pd.Grouper(freq='M')).mean()  \n",
    "\n",
    "for key, value in customers.items():\n",
    "    writer = pd.ExcelWriter(f'{key}.xlsx', engine = 'xlsxwriter')\n",
    "    region = value['location']\n",
    "    meaning = value['comment']\n",
    "    \n",
    "    if meaning == 'moving_average':\n",
    "        dbc_ma['FCA'] = mwp.fca(dbc_ma['OIL'], dbc_ma['EURUSD=X'])\n",
    "        dbc_ma['DDP'] = mwp.ddp(dbc_ma['OIL'], dbc_ma['EURUSD=X'], region)\n",
    "        dbc_ma.to_excel(writer, sheet_name = key)\n",
    "    elif meaning == 'monthly':\n",
    "        dbc_mtha['FCA'] = mwp.fca(dbc_mtha['OIL'], dbc_mtha['EURUSD=X'])\n",
    "        dbc_mtha['DDP'] = mwp.ddp(dbc_mtha['OIL'], dbc_mtha['EURUSD=X'], region)\n",
    "        dbc_mtha.to_excel(writer, sheet_name = key)\n",
    "\n",
    "    writer.save()\n",
    "#writer.close()"
   ]
  },
  {
   "cell_type": "markdown",
   "metadata": {},
   "source": [
    "# Задание 2. Продолжение"
   ]
  },
  {
   "cell_type": "markdown",
   "metadata": {},
   "source": [
    "Клиенты согласились на ваше предложение. \n",
    "Вам нужно сделать написать скрипт, с помощью которого можно автоматом рассчитывать цены для всех клиентов одновременно. \n",
    "Важный момент: данные для расчета скрипт должен подтягивать сам.\n",
    "\n",
    "В результате должно быть 3 файла\n",
    "1. Ноутбук с расчетами и графиками (чтобы данные подтягивались туда)\n",
    "2. Скрипт, который делает расчет цены для клиента (чтобы данные подтягивались туда сами)"
   ]
  },
  {
   "cell_type": "code",
   "execution_count": null,
   "metadata": {},
   "outputs": [],
   "source": [
    "eurusd = yf.Ticker(\"EURUSD=X\").history(period=\"1mo\")\n",
    "oil = yf.Ticker(\"CL=F\").history(period=\"1mo\")\n",
    "dbc_ma = pd.DataFrame([])\n",
    "dbc_ma['FCA'] = mwp.fca(oil['Close'], eurusd['Close'])\n",
    "dbc_ma.dropna()\n",
    "dbc_ma.plot()\n",
    "\n",
    "prices = {'FCA': {}, 'DDP': {}}\n",
    "\n",
    "for key, value in customers.items():\n",
    "    region = value['location']\n",
    "    prices['FCA'][key]= mwp.fca(oil.tail(1)['Close'][0], eurusd.tail(1)['Close'][0])\n",
    "    prices['DDP'][key]= mwp.ddp(oil.tail(1)['Close'][0], eurusd.tail(1)['Close'][0], region)\n",
    "\n",
    "df_prices = pd.DataFrame(prices)\n",
    "df_prices\n"
   ]
  },
  {
   "cell_type": "markdown",
   "metadata": {},
   "source": [
    "# Задание 3. Back to Russia\n",
    "\n",
    "К вам пришел новый клиент из России. Который использует продукт А и готов регулярно закупать ВБП для того, чтобы не быть привязанным к одному поставщику. Клиент готов забирать ВБП с завода самостоятельно.\n",
    "1. На основе тех данных, которые уже есть предложите цену новому клиенту. \n",
    "2. Подготовьте скрипт, который будет использовать курс публикуемый на <a href='http://www.cbr.ru/currency_base/dynamics/'> сайте ЦБ РФ</a>.\n"
   ]
  },
  {
   "cell_type": "code",
   "execution_count": null,
   "metadata": {},
   "outputs": [],
   "source": [
    "from urllib.request import urlopen\n",
    "\n",
    "mwp = MagicWhitePowder()\n",
    "\n",
    "webpage = urlopen('http://www.cbr.ru/currency_base/daily/').read().decode('utf-8')\n",
    "soup = BeautifulSoup(webpage)\n",
    "#print(webpage)\n",
    "for tr in soup.findAll('tr'):\n",
    "    if len(tr.findAll('td')) < 5:\n",
    "        continue\n",
    "    tdl = tr.findAll('td')\n",
    "    #print(tdl)\n",
    "    #for td in tr.findAll('td'):\n",
    "    if tdl[1].text == \"EUR\":\n",
    "        #print(tdl[4].text)\n",
    "        EURRUB = float(tdl[4].text.replace(',', '.'))\n",
    "\n",
    "eurusd = yf.Ticker(\"EURUSD=X\").history(period=\"1mo\")\n",
    "oil = yf.Ticker(\"CL=F\").history(period=\"1mo\")\n",
    "\n",
    "prices_FCA = mwp.fca(oil.tail(1)['Close'][0], eurusd.tail(1)['Close'][0]) * EURRUB\n",
    "prices_FCA"
   ]
  },
  {
   "cell_type": "markdown",
   "metadata": {},
   "source": [
    "# Задание 4. Check it"
   ]
  },
  {
   "cell_type": "markdown",
   "metadata": {},
   "source": [
    "* Подумайте, как можно проверить корректность работы алгоритма? \n",
    "* Какие возможны ошибки?\n",
    "* Придумайте тесты для проверки возможных ошибок алгоритма\n",
    "* Интергрируйте их в свои скрипты в виде исключений\n"
   ]
  },
  {
   "cell_type": "code",
   "execution_count": null,
   "metadata": {},
   "outputs": [],
   "source": [
    "mwp = MagicWhitePowder()\n",
    "\n",
    "assert mwp.fca(10, 1) == 560, \"Не правильная формула FCA\"\n",
    "assert mwp.ddp(10, 1, \"EU\") == 590, \"Не правильная формула DDP для региона 'EU' \"\n",
    "assert mwp.ddp(10, 1, \"CN\") == 690, \"Не правильная формула DDP для региона 'CN' \"\n",
    "assert mwp.ddp(10, 1, \"RU\") == 690"
   ]
  },
  {
   "cell_type": "markdown",
   "metadata": {},
   "source": [
    "# Задание 5. Поделись с ближним"
   ]
  },
  {
   "cell_type": "markdown",
   "metadata": {},
   "source": [
    "Вы решили пойти в отпуск на время вашего отсутствия вас будет заменять коллега. Он будет заниматься рассчетом цен для клиентов. Чтобы ему было проще вам нужно завернуть ваши скрипты в модуль, который будет запускать у себя коллега."
   ]
  },
  {
   "cell_type": "markdown",
   "metadata": {},
   "source": [
    "* Создайте модуль, который можно запускать в ноутбуке подкладывая в ту же директорию\n",
    "* Хорошенько задокументируйте ВСЁ, но помните о PEP8"
   ]
  },
  {
   "cell_type": "code",
   "execution_count": null,
   "metadata": {},
   "outputs": [],
   "source": [
    "import mwp\n",
    "mwp.customers\n",
    "m = mwp.MagicWhitePowder()\n",
    "m.fca(oil_price=10, EUR_USD=1)\n"
   ]
  },
  {
   "cell_type": "markdown",
   "metadata": {},
   "source": [
    "# Задание 6. Поделись пакетом"
   ]
  },
  {
   "cell_type": "markdown",
   "metadata": {},
   "source": [
    "Ваши коллеги узнали, что вы быстро рассчитываете цены для формульных контрактов, и решили использовать такую же практику для своих продуктов и клиентов. Вам нужно создать пакет, чтобы его было проще устанавливать и использовать."
   ]
  },
  {
   "cell_type": "markdown",
   "metadata": {},
   "source": [
    "* Создайте отдельный пакет, который можно устанавливать с помощью pip \n",
    "* В пакете должны быть реализованы функции для рассчета цен по формульным контрактам\n",
    "* Выложите пакет в репозиторий"
   ]
  },
  {
   "cell_type": "code",
   "execution_count": 20,
   "metadata": {},
   "outputs": [
    {
     "name": "stdout",
     "output_type": "stream",
     "text": [
      "Processing ./mwp-1.1.tar.gz\n",
      "Requirement already satisfied: pandas>=0.24 in /Users/annavelikobratova/miniconda3/lib/python3.8/site-packages (from mwp==1.1) (1.2.4)\n",
      "Requirement already satisfied: numpy>=1.15 in /Users/annavelikobratova/miniconda3/lib/python3.8/site-packages (from mwp==1.1) (1.19.2)\n",
      "Requirement already satisfied: yfinance in /Users/annavelikobratova/miniconda3/lib/python3.8/site-packages (from mwp==1.1) (0.1.59)\n",
      "Requirement already satisfied: bs4 in /Users/annavelikobratova/miniconda3/lib/python3.8/site-packages (from mwp==1.1) (0.0.1)\n",
      "Requirement already satisfied: matplotlib in /Users/annavelikobratova/miniconda3/lib/python3.8/site-packages (from mwp==1.1) (3.3.4)\n",
      "Requirement already satisfied: python-dateutil>=2.7.3 in /Users/annavelikobratova/miniconda3/lib/python3.8/site-packages (from pandas>=0.24->mwp==1.1) (2.8.1)\n",
      "Requirement already satisfied: pytz>=2017.3 in /Users/annavelikobratova/miniconda3/lib/python3.8/site-packages (from pandas>=0.24->mwp==1.1) (2021.1)\n",
      "Requirement already satisfied: six>=1.5 in /Users/annavelikobratova/miniconda3/lib/python3.8/site-packages (from python-dateutil>=2.7.3->pandas>=0.24->mwp==1.1) (1.15.0)\n",
      "Requirement already satisfied: beautifulsoup4 in /Users/annavelikobratova/miniconda3/lib/python3.8/site-packages (from bs4->mwp==1.1) (4.9.3)\n",
      "Requirement already satisfied: soupsieve>1.2 in /Users/annavelikobratova/miniconda3/lib/python3.8/site-packages (from beautifulsoup4->bs4->mwp==1.1) (2.2.1)\n",
      "Requirement already satisfied: cycler>=0.10 in /Users/annavelikobratova/miniconda3/lib/python3.8/site-packages (from matplotlib->mwp==1.1) (0.10.0)\n",
      "Requirement already satisfied: pillow>=6.2.0 in /Users/annavelikobratova/miniconda3/lib/python3.8/site-packages (from matplotlib->mwp==1.1) (8.2.0)\n",
      "Requirement already satisfied: kiwisolver>=1.0.1 in /Users/annavelikobratova/miniconda3/lib/python3.8/site-packages (from matplotlib->mwp==1.1) (1.3.1)\n",
      "Requirement already satisfied: pyparsing!=2.0.4,!=2.1.2,!=2.1.6,>=2.0.3 in /Users/annavelikobratova/miniconda3/lib/python3.8/site-packages (from matplotlib->mwp==1.1) (2.4.7)\n",
      "Requirement already satisfied: multitasking>=0.0.7 in /Users/annavelikobratova/miniconda3/lib/python3.8/site-packages (from yfinance->mwp==1.1) (0.0.9)\n",
      "Requirement already satisfied: lxml>=4.5.1 in /Users/annavelikobratova/miniconda3/lib/python3.8/site-packages (from yfinance->mwp==1.1) (4.6.3)\n",
      "Requirement already satisfied: requests>=2.20 in /Users/annavelikobratova/miniconda3/lib/python3.8/site-packages (from yfinance->mwp==1.1) (2.24.0)\n",
      "Requirement already satisfied: urllib3!=1.25.0,!=1.25.1,<1.26,>=1.21.1 in /Users/annavelikobratova/miniconda3/lib/python3.8/site-packages (from requests>=2.20->yfinance->mwp==1.1) (1.25.11)\n",
      "Requirement already satisfied: certifi>=2017.4.17 in /Users/annavelikobratova/miniconda3/lib/python3.8/site-packages (from requests>=2.20->yfinance->mwp==1.1) (2020.12.5)\n",
      "Requirement already satisfied: chardet<4,>=3.0.2 in /Users/annavelikobratova/miniconda3/lib/python3.8/site-packages (from requests>=2.20->yfinance->mwp==1.1) (3.0.4)\n",
      "Requirement already satisfied: idna<3,>=2.5 in /Users/annavelikobratova/miniconda3/lib/python3.8/site-packages (from requests>=2.20->yfinance->mwp==1.1) (2.10)\n",
      "\u001b[33mDEPRECATION: Source distribution is being reinstalled despite an installed package having the same name and version as the installed package. pip 21.1 will remove support for this functionality. A possible replacement is use --force-reinstall. You can find discussion regarding this at https://github.com/pypa/pip/issues/8711.\u001b[0m\n",
      "Building wheels for collected packages: mwp\n",
      "  Building wheel for mwp (setup.py) ... \u001b[?25ldone\n",
      "\u001b[?25h  Created wheel for mwp: filename=mwp-1.1-py3-none-any.whl size=2502 sha256=29dd7b8128f1980c3ae0d62cb53bd7135c06a4c8831046f47f6d6741cdfbafbc\n",
      "  Stored in directory: /Users/annavelikobratova/Library/Caches/pip/wheels/99/4f/dd/9f83ef7f214412f9f09169acea435ba9f47ce0a3ce4e37fba8\n",
      "Successfully built mwp\n",
      "Installing collected packages: mwp\n",
      "  Attempting uninstall: mwp\n",
      "    Found existing installation: mwp 1.1\n",
      "    Uninstalling mwp-1.1:\n",
      "      Successfully uninstalled mwp-1.1\n",
      "Successfully installed mwp-1.1\n"
     ]
    }
   ],
   "source": [
    "!pip install mwp-1.1.tar.gz\n",
    "from mwp import mwp"
   ]
  },
  {
   "cell_type": "code",
   "execution_count": 24,
   "metadata": {},
   "outputs": [
    {
     "data": {
      "text/html": [
       "<div>\n",
       "<style scoped>\n",
       "    .dataframe tbody tr th:only-of-type {\n",
       "        vertical-align: middle;\n",
       "    }\n",
       "\n",
       "    .dataframe tbody tr th {\n",
       "        vertical-align: top;\n",
       "    }\n",
       "\n",
       "    .dataframe thead th {\n",
       "        text-align: right;\n",
       "    }\n",
       "</style>\n",
       "<table border=\"1\" class=\"dataframe\">\n",
       "  <thead>\n",
       "    <tr style=\"text-align: right;\">\n",
       "      <th></th>\n",
       "      <th>Date</th>\n",
       "      <th>EURUSD=X</th>\n",
       "      <th>OIL</th>\n",
       "    </tr>\n",
       "  </thead>\n",
       "  <tbody>\n",
       "    <tr>\n",
       "      <th>0</th>\n",
       "      <td>2018-01-01</td>\n",
       "      <td>1.2005</td>\n",
       "      <td>NaN</td>\n",
       "    </tr>\n",
       "    <tr>\n",
       "      <th>1</th>\n",
       "      <td>2018-01-02</td>\n",
       "      <td>1.2012</td>\n",
       "      <td>59.15</td>\n",
       "    </tr>\n",
       "    <tr>\n",
       "      <th>2</th>\n",
       "      <td>2018-01-03</td>\n",
       "      <td>1.2063</td>\n",
       "      <td>59.15</td>\n",
       "    </tr>\n",
       "    <tr>\n",
       "      <th>3</th>\n",
       "      <td>2018-01-04</td>\n",
       "      <td>1.2010</td>\n",
       "      <td>59.15</td>\n",
       "    </tr>\n",
       "    <tr>\n",
       "      <th>4</th>\n",
       "      <td>2018-01-05</td>\n",
       "      <td>1.2069</td>\n",
       "      <td>60.44</td>\n",
       "    </tr>\n",
       "    <tr>\n",
       "      <th>...</th>\n",
       "      <td>...</td>\n",
       "      <td>...</td>\n",
       "      <td>...</td>\n",
       "    </tr>\n",
       "    <tr>\n",
       "      <th>341</th>\n",
       "      <td>2019-04-23</td>\n",
       "      <td>1.1259</td>\n",
       "      <td>67.72</td>\n",
       "    </tr>\n",
       "    <tr>\n",
       "      <th>342</th>\n",
       "      <td>2019-04-24</td>\n",
       "      <td>1.1224</td>\n",
       "      <td>67.14</td>\n",
       "    </tr>\n",
       "    <tr>\n",
       "      <th>343</th>\n",
       "      <td>2019-04-25</td>\n",
       "      <td>1.1153</td>\n",
       "      <td>66.37</td>\n",
       "    </tr>\n",
       "    <tr>\n",
       "      <th>344</th>\n",
       "      <td>2019-04-26</td>\n",
       "      <td>1.1137</td>\n",
       "      <td>64.27</td>\n",
       "    </tr>\n",
       "    <tr>\n",
       "      <th>345</th>\n",
       "      <td>2019-04-29</td>\n",
       "      <td>1.1150</td>\n",
       "      <td>64.94</td>\n",
       "    </tr>\n",
       "  </tbody>\n",
       "</table>\n",
       "<p>346 rows × 3 columns</p>\n",
       "</div>"
      ],
      "text/plain": [
       "          Date  EURUSD=X    OIL\n",
       "0   2018-01-01    1.2005    NaN\n",
       "1   2018-01-02    1.2012  59.15\n",
       "2   2018-01-03    1.2063  59.15\n",
       "3   2018-01-04    1.2010  59.15\n",
       "4   2018-01-05    1.2069  60.44\n",
       "..         ...       ...    ...\n",
       "341 2019-04-23    1.1259  67.72\n",
       "342 2019-04-24    1.1224  67.14\n",
       "343 2019-04-25    1.1153  66.37\n",
       "344 2019-04-26    1.1137  64.27\n",
       "345 2019-04-29    1.1150  64.94\n",
       "\n",
       "[346 rows x 3 columns]"
      ]
     },
     "execution_count": 24,
     "metadata": {},
     "output_type": "execute_result"
    }
   ],
   "source": [
    "m = mwp.MagicWhitePowder()\n",
    "m.fca(10, 1)\n",
    "\n",
    "mwp.dbc"
   ]
  },
  {
   "cell_type": "code",
   "execution_count": null,
   "metadata": {},
   "outputs": [],
   "source": []
  }
 ],
 "metadata": {
  "kernelspec": {
   "display_name": "Python 3",
   "language": "python",
   "name": "python3"
  },
  "language_info": {
   "codemirror_mode": {
    "name": "ipython",
    "version": 3
   },
   "file_extension": ".py",
   "mimetype": "text/x-python",
   "name": "python",
   "nbconvert_exporter": "python",
   "pygments_lexer": "ipython3",
   "version": "3.8.5"
  }
 },
 "nbformat": 4,
 "nbformat_minor": 2
}
