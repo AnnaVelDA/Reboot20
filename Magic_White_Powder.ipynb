{
 "cells": [
  {
   "cell_type": "code",
   "execution_count": 249,
   "metadata": {},
   "outputs": [],
   "source": [
    "%matplotlib inline\n",
    "#import yfinance as yf\n",
    "import pandas as pd\n",
    "import matplotlib.pyplot as plt\n",
    "#import seaborn; seaborn.set()\n",
    "#from pandas_datareader import data as pdr\n",
    "#from bs4 import BeautifulSoup"
   ]
  },
  {
   "cell_type": "markdown",
   "metadata": {},
   "source": [
    "# Задание 1.\n",
    "\n",
    "Вы - менеджер по продажам в нефтехимической компании. Вы ведете несколько ключевых клиентов, которые закупают продукты вашей компании. Ваша компания запускает новый продукт - \"Волшебный белый порошок\" (ВБП), который по своим свойствам похож на тот, что уже есть на рынке. Ваши клиенты предпочитают формульный подход к ценообразованию. Вам нужно предложить клиентам формулу расчета цены на ВБП. В зависимости от объемов, которые покупают клиенты, им может быть предложена скидка.\n",
    "\n",
    "### Дополнительные вводные:\n",
    "\n",
    "Так как продукт Б новый, возможно стоит предложить дисконт от цены Продукта А. Продукт производиться из нефти. Один из известных способов производства предполагает что из 16 баррелей нефти сделают одну тонну ВБП, а затраты на производство в районе 400 евро."
   ]
  },
  {
   "cell_type": "code",
   "execution_count": 250,
   "metadata": {},
   "outputs": [],
   "source": [
    "# Из данных есть:\n",
    "# Цены на продукт А, который уже есть на рынке Европы\n",
    "# ----- октябрь 2018 - \n",
    "# ----- ноябрь 2018 - \n",
    "# ----- февраль 2019 -\n",
    "\n",
    "# Котировки нефти, курс eur/usd\n",
    "dbc = pd.read_excel('cur_oil.xlsx')\n",
    "\n",
    "# Затраты на производство\n",
    "PRODUCTION_COST = 400 # (EUR)\n",
    "\n",
    "# Расходы на логистику\n",
    "EU_LOGISTIC_COST_EUR = 30 # в Европу в евро\n",
    "CN_LOGISTIC_COST_USD = 130 # в Китай в долларах\n",
    "\n",
    "# * Справочная информация по клиентам(объемы, локации, комментарии) \n",
    "customers = {\n",
    "    'Monty':{\n",
    "        'location':'EU',\n",
    "        'volumes':200,\n",
    "        'comment':'moving_average'\n",
    "    },\n",
    "    \n",
    "    'Triangle':{\n",
    "        'location':'CN',\n",
    "        'volumes': 30,\n",
    "        'comment': 'monthly'\n",
    "    },\n",
    "    'Stone':{\n",
    "        'location':'EU',\n",
    "        'volumes': 150,\n",
    "        'comment': 'moving_average'\n",
    "    },\n",
    "    'Poly':{\n",
    "        'location':'EU',\n",
    "        'volumes': 70,\n",
    "        'comment': 'monthly'\n",
    "    }\n",
    "}\n",
    "# Скидки\n",
    "discounts = {'up to 100': 0.01, # 1%\n",
    "             'up to 300': 0.05, # 5%\n",
    "             '300 plus': 0.1}   #10%\n"
   ]
  },
  {
   "cell_type": "markdown",
   "metadata": {},
   "source": [
    "### Что нужно сделать?\n",
    "\n",
    "1. Проанализировать имеющиеся данные.\n",
    "2. Определить базовую формулу цены на условиях FCA (цена на заводе). То есть как бы выглядела цена на исторических данных.\n",
    "3. Отобразить на графике.\n",
    "4. Сделать расчет возможной цены по формуле для каждого из клиентов на условиях DDP (цена с доставкой). Записать все в один эксель файл, на разных листах. Каждый лист - название клиента.\n",
    "5. Предложить формулу цены каждому из клиентов на условиях DDP (цена с доставкой).\n",
    "- Создать директорию «для клиентов» и в ней сложить  файлы с расчетами.\n",
    "- Каждый клиент - отдельный файл (любой из docx, xlsx, pptx, pdf)  с именем клиента… \n",
    "\n",
    "### В результате должно быть 3 файла:\n",
    "1. Ноутбук с расчетами и графиками. \n",
    "2. Скрипт, который делает расчет цены для каждого клиента в одном файле\n",
    "2. Скрипт, который делает расчет цены для каждого клиента в отельном файле"
   ]
  },
  {
   "cell_type": "markdown",
   "metadata": {},
   "source": [
    "#### Задание 1.\n",
    "1. Проанализировать имеющиеся данные.\n",
    "2. Определить базовую формулу цены на условиях FCA (цена на заводе). То есть как бы выглядела цена на исторических данных.\n",
    "3. Отобразить на графике.\n",
    "4. Сделать расчет возможной цены по формуле для каждого из клиентов на условиях DDP (цена с доставкой). Записать все в один эксель файл, на разных листах. Каждый лист - название клиента.\n",
    "5. Предложить формулу цены каждому из клиентов на условиях DDP (цена с доставкой).\n",
    " - Создать директорию «для клиентов» и в ней сложить файлы с расчетами.\n",
    " - Каждый клиент - отдельный файл (любой из docx, xlsx, pptx, pdf) с именем клиента…"
   ]
  },
  {
   "cell_type": "code",
   "execution_count": 251,
   "metadata": {},
   "outputs": [],
   "source": [
    "#1.Проанализировать имеющиеся данные.\n",
    "#2.Определить базовую формулу цены на условиях FCA (цена на заводе). То есть как бы выглядела цена на исторических\n",
    "#данных.\n",
    "\n",
    "\n",
    "class MagicWhitePowder:\n",
    "        \"\"\"Формула расчета цены на продукт\"\"\"\n",
    "        \n",
    "        def __init__(self):\n",
    "            self.PRODUCTION_COST = 400\n",
    "            self.EU_LOGISTIC_COST_EUR = 30 # в Европу в евро\n",
    "            self.CN_LOGISTIC_COST_USD = 130 # в Китай в долларах\n",
    "        \n",
    "        def logistic_cost (self, region, EUR_USD):\n",
    "            if region == 'EU':\n",
    "                cost = self.EU_LOGISTIC_COST_EUR\n",
    "            elif  region == 'CN':\n",
    "                cost = self.CN_LOGISTIC_COST_USD / EUR_USD\n",
    "            return cost\n",
    "        \n",
    "        def FCA(self, oil_price, EUR_USD):\n",
    "            \"\"\"Расчет цены на заводе\"\"\"\n",
    "            FCA = 16 * oil_price / EUR_USD + self.PRODUCTION_COST  \n",
    "            return FCA    \n",
    "        \n",
    "        def DDP(self, oil_price, EUR_USD, region):\n",
    "            \"\"\"Расчет цены c доставкой для клиента\"\"\"\n",
    "            DDP = self.FCA(oil_price, EUR_USD) +  self.logistic_cost(region, EUR_USD)\n",
    "            return DDP"
   ]
  },
  {
   "cell_type": "code",
   "execution_count": 286,
   "metadata": {},
   "outputs": [
    {
     "data": {
      "text/html": [
       "<div>\n",
       "<style scoped>\n",
       "    .dataframe tbody tr th:only-of-type {\n",
       "        vertical-align: middle;\n",
       "    }\n",
       "\n",
       "    .dataframe tbody tr th {\n",
       "        vertical-align: top;\n",
       "    }\n",
       "\n",
       "    .dataframe thead th {\n",
       "        text-align: right;\n",
       "    }\n",
       "</style>\n",
       "<table border=\"1\" class=\"dataframe\">\n",
       "  <thead>\n",
       "    <tr style=\"text-align: right;\">\n",
       "      <th></th>\n",
       "      <th>Date</th>\n",
       "      <th>EURUSD=X</th>\n",
       "      <th>OIL</th>\n",
       "      <th>FCA</th>\n",
       "      <th>DDP</th>\n",
       "    </tr>\n",
       "  </thead>\n",
       "  <tbody>\n",
       "    <tr>\n",
       "      <th>1</th>\n",
       "      <td>2018-01-02</td>\n",
       "      <td>1.2012</td>\n",
       "      <td>59.15</td>\n",
       "      <td>1187.878788</td>\n",
       "      <td>1217.878788</td>\n",
       "    </tr>\n",
       "    <tr>\n",
       "      <th>2</th>\n",
       "      <td>2018-01-03</td>\n",
       "      <td>1.2063</td>\n",
       "      <td>59.15</td>\n",
       "      <td>1184.547791</td>\n",
       "      <td>1214.547791</td>\n",
       "    </tr>\n",
       "    <tr>\n",
       "      <th>3</th>\n",
       "      <td>2018-01-04</td>\n",
       "      <td>1.2010</td>\n",
       "      <td>59.15</td>\n",
       "      <td>1188.009992</td>\n",
       "      <td>1218.009992</td>\n",
       "    </tr>\n",
       "    <tr>\n",
       "      <th>4</th>\n",
       "      <td>2018-01-05</td>\n",
       "      <td>1.2069</td>\n",
       "      <td>60.44</td>\n",
       "      <td>1201.259425</td>\n",
       "      <td>1231.259425</td>\n",
       "    </tr>\n",
       "    <tr>\n",
       "      <th>5</th>\n",
       "      <td>2018-01-08</td>\n",
       "      <td>1.2037</td>\n",
       "      <td>60.44</td>\n",
       "      <td>1203.389549</td>\n",
       "      <td>1233.389549</td>\n",
       "    </tr>\n",
       "  </tbody>\n",
       "</table>\n",
       "</div>"
      ],
      "text/plain": [
       "        Date  EURUSD=X    OIL          FCA          DDP\n",
       "1 2018-01-02    1.2012  59.15  1187.878788  1217.878788\n",
       "2 2018-01-03    1.2063  59.15  1184.547791  1214.547791\n",
       "3 2018-01-04    1.2010  59.15  1188.009992  1218.009992\n",
       "4 2018-01-05    1.2069  60.44  1201.259425  1231.259425\n",
       "5 2018-01-08    1.2037  60.44  1203.389549  1233.389549"
      ]
     },
     "execution_count": 286,
     "metadata": {},
     "output_type": "execute_result"
    },
    {
     "data": {
      "image/png": "[encoded data removed]",
      "text/plain": [
       "<Figure size 432x288 with 1 Axes>"
      ]
     },
     "metadata": {
      "needs_background": "light"
     },
     "output_type": "display_data"
    }
   ],
   "source": [
    "#3.Отобразить на графике.\n",
    "#4.Сделать расчет возможной цены по формуле для каждого из клиентов на условиях DDP (цена с доставкой). \n",
    "#Записать все в один эксель файл, на разных листах. Каждый лист - название клиента.\n",
    "\n",
    "dbc = pd.read_excel('cur_oil.xlsx')\n",
    "dbc.dropna(inplace=True)\n",
    "mwp = MagicWhitePowder()\n",
    "\n",
    "writer = pd.ExcelWriter('MWP_prices.xlsx', engine = 'xlsxwriter')\n",
    "\n",
    "for key, value in customers.items():\n",
    "    region = value['location']\n",
    "    dbc['FCA'] = mwp.FCA(dbc['OIL'], dbc['EURUSD=X'])\n",
    "    dbc['DDP'] = mwp.DDP(dbc['OIL'], dbc['EURUSD=X'], region)\n",
    "    \n",
    "    dbc.to_excel(writer, sheet_name = key)\n",
    "\n",
    "writer.save()\n",
    "\n",
    "#Отобразить цену FCA на графике.\n",
    "dbc.plot(x='Date', y='FCA')\n",
    "dbc.head(5)"
   ]
  },
  {
   "cell_type": "markdown",
   "metadata": {},
   "source": [
    "### Расчет цены для подхода Moving Avarage\n",
    "\n",
    "FCA = MA(Oil_price, window=5) * MA(EURUSD, window=5) * 16 + PRODUCTION_COST \n",
    "\n",
    "DDP = FCA + LOGISTIC_COST"
   ]
  },
  {
   "cell_type": "code",
   "execution_count": 289,
   "metadata": {},
   "outputs": [],
   "source": [
    "#5. Предложить формулу цены каждому из клиентов на условиях DDP (цена с доставкой).\n",
    "# - Создать директорию «для клиентов» и в ней сложить файлы с расчетами.\n",
    "# - Каждый клиент - отдельный файл (любой из docx, xlsx, pptx, pdf) с именем клиента…\n",
    "dbc_ma = dbc.copy()\n",
    "\n",
    "dbc_ma['EURUSD=X'] = dbc_ma['EURUSD=X'].rolling(window=5).mean()\n",
    "dbc_ma['OIL']= dbc_ma['OIL'].rolling(window=5).mean()\n",
    "\n",
    "dbc_mtha = dbc.copy()\n",
    "dbc_mtha = dbc_mtha.set_index('Date').groupby(pd.Grouper(freq='M')).mean()  \n",
    "\n",
    "for key, value in customers.items():\n",
    "    writer = pd.ExcelWriter(f'{key}.xlsx', engine = 'xlsxwriter')\n",
    "    region = value['location']\n",
    "    meaning = value['comment']\n",
    "    \n",
    "    if meaning == 'moving_average':\n",
    "        dbc_ma['FCA'] = mwp.FCA(dbc_ma['OIL'], dbc_ma['EURUSD=X'])\n",
    "        dbc_ma['DDP'] = mwp.DDP(dbc_ma['OIL'], dbc_ma['EURUSD=X'], region)\n",
    "        dbc_ma.to_excel(writer, sheet_name = key)\n",
    "    elif meaning == 'monthly':\n",
    "        dbc_mtha['FCA'] = mwp.FCA(dbc_mtha['OIL'], dbc_mtha['EURUSD=X'])\n",
    "        dbc_mtha['DDP'] = mwp.DDP(dbc_mtha['OIL'], dbc_mtha['EURUSD=X'], region)\n",
    "        dbc_mtha.to_excel(writer, sheet_name = key)\n",
    "\n",
    "    writer.save()\n",
    "#writer.close()"
   ]
  },
  {
   "cell_type": "code",
   "execution_count": 282,
   "metadata": {},
   "outputs": [
    {
     "data": {
      "text/html": [
       "<div>\n",
       "<style scoped>\n",
       "    .dataframe tbody tr th:only-of-type {\n",
       "        vertical-align: middle;\n",
       "    }\n",
       "\n",
       "    .dataframe tbody tr th {\n",
       "        vertical-align: top;\n",
       "    }\n",
       "\n",
       "    .dataframe thead th {\n",
       "        text-align: right;\n",
       "    }\n",
       "</style>\n",
       "<table border=\"1\" class=\"dataframe\">\n",
       "  <thead>\n",
       "    <tr style=\"text-align: right;\">\n",
       "      <th></th>\n",
       "      <th>Date</th>\n",
       "      <th>EURUSD=X</th>\n",
       "      <th>OIL</th>\n",
       "      <th>FCA</th>\n",
       "      <th>DDP</th>\n",
       "    </tr>\n",
       "  </thead>\n",
       "  <tbody>\n",
       "    <tr>\n",
       "      <th>1</th>\n",
       "      <td>2018-01-02</td>\n",
       "      <td>NaN</td>\n",
       "      <td>NaN</td>\n",
       "      <td>NaN</td>\n",
       "      <td>NaN</td>\n",
       "    </tr>\n",
       "    <tr>\n",
       "      <th>2</th>\n",
       "      <td>2018-01-03</td>\n",
       "      <td>NaN</td>\n",
       "      <td>NaN</td>\n",
       "      <td>NaN</td>\n",
       "      <td>NaN</td>\n",
       "    </tr>\n",
       "    <tr>\n",
       "      <th>3</th>\n",
       "      <td>2018-01-04</td>\n",
       "      <td>NaN</td>\n",
       "      <td>NaN</td>\n",
       "      <td>NaN</td>\n",
       "      <td>NaN</td>\n",
       "    </tr>\n",
       "    <tr>\n",
       "      <th>4</th>\n",
       "      <td>2018-01-05</td>\n",
       "      <td>NaN</td>\n",
       "      <td>NaN</td>\n",
       "      <td>NaN</td>\n",
       "      <td>NaN</td>\n",
       "    </tr>\n",
       "    <tr>\n",
       "      <th>5</th>\n",
       "      <td>2018-01-08</td>\n",
       "      <td>1.20382</td>\n",
       "      <td>59.666</td>\n",
       "      <td>1193.022213</td>\n",
       "      <td>1223.022213</td>\n",
       "    </tr>\n",
       "    <tr>\n",
       "      <th>...</th>\n",
       "      <td>...</td>\n",
       "      <td>...</td>\n",
       "      <td>...</td>\n",
       "      <td>...</td>\n",
       "      <td>...</td>\n",
       "    </tr>\n",
       "    <tr>\n",
       "      <th>341</th>\n",
       "      <td>2019-04-23</td>\n",
       "      <td>1.12782</td>\n",
       "      <td>66.228</td>\n",
       "      <td>1339.554184</td>\n",
       "      <td>1369.554184</td>\n",
       "    </tr>\n",
       "    <tr>\n",
       "      <th>342</th>\n",
       "      <td>2019-04-24</td>\n",
       "      <td>1.12620</td>\n",
       "      <td>66.524</td>\n",
       "      <td>1345.110993</td>\n",
       "      <td>1375.110993</td>\n",
       "    </tr>\n",
       "    <tr>\n",
       "      <th>343</th>\n",
       "      <td>2019-04-25</td>\n",
       "      <td>1.12356</td>\n",
       "      <td>66.760</td>\n",
       "      <td>1350.692442</td>\n",
       "      <td>1380.692442</td>\n",
       "    </tr>\n",
       "    <tr>\n",
       "      <th>344</th>\n",
       "      <td>2019-04-26</td>\n",
       "      <td>1.12036</td>\n",
       "      <td>66.530</td>\n",
       "      <td>1350.123175</td>\n",
       "      <td>1380.123175</td>\n",
       "    </tr>\n",
       "    <tr>\n",
       "      <th>345</th>\n",
       "      <td>2019-04-29</td>\n",
       "      <td>1.11846</td>\n",
       "      <td>66.088</td>\n",
       "      <td>1345.414230</td>\n",
       "      <td>1375.414230</td>\n",
       "    </tr>\n",
       "  </tbody>\n",
       "</table>\n",
       "<p>332 rows × 5 columns</p>\n",
       "</div>"
      ],
      "text/plain": [
       "          Date  EURUSD=X     OIL          FCA          DDP\n",
       "1   2018-01-02       NaN     NaN          NaN          NaN\n",
       "2   2018-01-03       NaN     NaN          NaN          NaN\n",
       "3   2018-01-04       NaN     NaN          NaN          NaN\n",
       "4   2018-01-05       NaN     NaN          NaN          NaN\n",
       "5   2018-01-08   1.20382  59.666  1193.022213  1223.022213\n",
       "..         ...       ...     ...          ...          ...\n",
       "341 2019-04-23   1.12782  66.228  1339.554184  1369.554184\n",
       "342 2019-04-24   1.12620  66.524  1345.110993  1375.110993\n",
       "343 2019-04-25   1.12356  66.760  1350.692442  1380.692442\n",
       "344 2019-04-26   1.12036  66.530  1350.123175  1380.123175\n",
       "345 2019-04-29   1.11846  66.088  1345.414230  1375.414230\n",
       "\n",
       "[332 rows x 5 columns]"
      ]
     },
     "execution_count": 282,
     "metadata": {},
     "output_type": "execute_result"
    }
   ],
   "source": [
    "dbc_ma"
   ]
  },
  {
   "cell_type": "code",
   "execution_count": null,
   "metadata": {},
   "outputs": [],
   "source": []
  },
  {
   "cell_type": "code",
   "execution_count": 174,
   "metadata": {},
   "outputs": [
    {
     "data": {
      "text/html": [
       "<div>\n",
       "<style scoped>\n",
       "    .dataframe tbody tr th:only-of-type {\n",
       "        vertical-align: middle;\n",
       "    }\n",
       "\n",
       "    .dataframe tbody tr th {\n",
       "        vertical-align: top;\n",
       "    }\n",
       "\n",
       "    .dataframe thead th {\n",
       "        text-align: right;\n",
       "    }\n",
       "</style>\n",
       "<table border=\"1\" class=\"dataframe\">\n",
       "  <thead>\n",
       "    <tr style=\"text-align: right;\">\n",
       "      <th></th>\n",
       "      <th>Date</th>\n",
       "      <th>EURUSD=X</th>\n",
       "      <th>OIL</th>\n",
       "    </tr>\n",
       "  </thead>\n",
       "  <tbody>\n",
       "    <tr>\n",
       "      <th>0</th>\n",
       "      <td>2018-01-01</td>\n",
       "      <td>1.2005</td>\n",
       "      <td>NaN</td>\n",
       "    </tr>\n",
       "    <tr>\n",
       "      <th>1</th>\n",
       "      <td>2018-01-02</td>\n",
       "      <td>1.2012</td>\n",
       "      <td>59.15</td>\n",
       "    </tr>\n",
       "    <tr>\n",
       "      <th>2</th>\n",
       "      <td>2018-01-03</td>\n",
       "      <td>1.2063</td>\n",
       "      <td>59.15</td>\n",
       "    </tr>\n",
       "    <tr>\n",
       "      <th>3</th>\n",
       "      <td>2018-01-04</td>\n",
       "      <td>1.2010</td>\n",
       "      <td>59.15</td>\n",
       "    </tr>\n",
       "    <tr>\n",
       "      <th>4</th>\n",
       "      <td>2018-01-05</td>\n",
       "      <td>1.2069</td>\n",
       "      <td>60.44</td>\n",
       "    </tr>\n",
       "    <tr>\n",
       "      <th>...</th>\n",
       "      <td>...</td>\n",
       "      <td>...</td>\n",
       "      <td>...</td>\n",
       "    </tr>\n",
       "    <tr>\n",
       "      <th>341</th>\n",
       "      <td>2019-04-23</td>\n",
       "      <td>1.1259</td>\n",
       "      <td>67.72</td>\n",
       "    </tr>\n",
       "    <tr>\n",
       "      <th>342</th>\n",
       "      <td>2019-04-24</td>\n",
       "      <td>1.1224</td>\n",
       "      <td>67.14</td>\n",
       "    </tr>\n",
       "    <tr>\n",
       "      <th>343</th>\n",
       "      <td>2019-04-25</td>\n",
       "      <td>1.1153</td>\n",
       "      <td>66.37</td>\n",
       "    </tr>\n",
       "    <tr>\n",
       "      <th>344</th>\n",
       "      <td>2019-04-26</td>\n",
       "      <td>1.1137</td>\n",
       "      <td>64.27</td>\n",
       "    </tr>\n",
       "    <tr>\n",
       "      <th>345</th>\n",
       "      <td>2019-04-29</td>\n",
       "      <td>1.1150</td>\n",
       "      <td>64.94</td>\n",
       "    </tr>\n",
       "  </tbody>\n",
       "</table>\n",
       "<p>346 rows × 3 columns</p>\n",
       "</div>"
      ],
      "text/plain": [
       "          Date  EURUSD=X    OIL\n",
       "0   2018-01-01    1.2005    NaN\n",
       "1   2018-01-02    1.2012  59.15\n",
       "2   2018-01-03    1.2063  59.15\n",
       "3   2018-01-04    1.2010  59.15\n",
       "4   2018-01-05    1.2069  60.44\n",
       "..         ...       ...    ...\n",
       "341 2019-04-23    1.1259  67.72\n",
       "342 2019-04-24    1.1224  67.14\n",
       "343 2019-04-25    1.1153  66.37\n",
       "344 2019-04-26    1.1137  64.27\n",
       "345 2019-04-29    1.1150  64.94\n",
       "\n",
       "[346 rows x 3 columns]"
      ]
     },
     "execution_count": 174,
     "metadata": {},
     "output_type": "execute_result"
    }
   ],
   "source": [
    "excel_data_dbc= pd.read_excel('cur_oil.xlsx')\n",
    "excel_data_dbc"
   ]
  },
  {
   "cell_type": "code",
   "execution_count": null,
   "metadata": {},
   "outputs": [],
   "source": []
  },
  {
   "cell_type": "markdown",
   "metadata": {},
   "source": [
    "# Задание 2. Продолжение"
   ]
  },
  {
   "cell_type": "markdown",
   "metadata": {},
   "source": [
    "Клиенты согласились на ваше предложение. \n",
    "Вам нужно сделать написать скрипт, с помощью которого можно автоматом рассчитывать цены для всех клиентов одновременно. \n",
    "Важный момент: данные для расчета скрипт должен подтягивать сам.\n",
    "\n",
    "В результате должно быть 3 файла\n",
    "1. Ноутбук с расчетами и графиками (чтобы данные подтягивались туда)\n",
    "2. Скрипт, который делает расчет цены для клиента (чтобы данные подтягивались туда сами)"
   ]
  },
  {
   "cell_type": "code",
   "execution_count": null,
   "metadata": {},
   "outputs": [],
   "source": [
    "# "
   ]
  },
  {
   "cell_type": "markdown",
   "metadata": {},
   "source": [
    "# Задание 3. Back to Russia\n",
    "\n",
    "К вам пришел новый клиент из России. Который использует продукт А и готов регулярно закупать ВБП для того, чтобы не быть привязанным к одному поставщику. Клиент готов забирать ВБП с завода самостоятельно.\n",
    "1. На основе тех данных, которые уже есть предложите цену новому клиенту. \n",
    "2. Подготовьте скрипт, который будет использовать курс публикуемый на <a href='http://www.cbr.ru/currency_base/dynamics/'> сайте ЦБ РФ</a>.\n"
   ]
  },
  {
   "cell_type": "code",
   "execution_count": null,
   "metadata": {},
   "outputs": [],
   "source": [
    "# "
   ]
  },
  {
   "cell_type": "markdown",
   "metadata": {},
   "source": [
    "# Задание 4. Check it"
   ]
  },
  {
   "cell_type": "markdown",
   "metadata": {},
   "source": [
    "* Подумайте, как можно проверить корректность работы алгоритма? \n",
    "* Какие возможны ошибки?\n",
    "* Придумайте тесты для проверки возможных ошибок алгоритма\n",
    "* Интергрируйте их в свои скрипты в виде исключений\n"
   ]
  },
  {
   "cell_type": "code",
   "execution_count": null,
   "metadata": {},
   "outputs": [],
   "source": [
    "# "
   ]
  },
  {
   "cell_type": "markdown",
   "metadata": {},
   "source": [
    "# Задание 5. Поделись с ближним"
   ]
  },
  {
   "cell_type": "markdown",
   "metadata": {},
   "source": [
    "Вы решили пойти в отпуск на время вашего отсутствия вас будет заменять коллега. Он будет заниматься рассчетом цен для клиентов. Чтобы ему было проще вам нужно завернуть ваши скрипты в модуль, который будет запускать у себя коллега."
   ]
  },
  {
   "cell_type": "markdown",
   "metadata": {},
   "source": [
    "* Создайте модуль, который можно запускать в ноутбуке подкладывая в ту же директорию\n",
    "* Хорошенько задокументируйте ВСЁ, но помните о PEP8"
   ]
  },
  {
   "cell_type": "code",
   "execution_count": null,
   "metadata": {},
   "outputs": [],
   "source": [
    "# import yourpackage"
   ]
  },
  {
   "cell_type": "markdown",
   "metadata": {},
   "source": [
    "# Задание 6. Поделись пакетом"
   ]
  },
  {
   "cell_type": "markdown",
   "metadata": {},
   "source": [
    "Ваши коллеги узнали, что вы быстро рассчитываете цены для формульных контрактов, и решили использовать такую же практику для своих продуктов и клиентов. Вам нужно создать пакет, чтобы его было проще устанавливать и использовать."
   ]
  },
  {
   "cell_type": "markdown",
   "metadata": {},
   "source": [
    "* Создайте отдельный пакет, который можно устанавливать с помощью pip \n",
    "* В пакете должны быть реализованы функции для рассчета цен по формульным контрактам\n",
    "* Выложите пакет в репозиторий"
   ]
  },
  {
   "cell_type": "code",
   "execution_count": null,
   "metadata": {},
   "outputs": [],
   "source": [
    "# !pip install yourpackage\n",
    "# import yourpackage"
   ]
  }
 ],
 "metadata": {
  "kernelspec": {
   "display_name": "Python 3",
   "language": "python",
   "name": "python3"
  },
  "language_info": {
   "codemirror_mode": {
    "name": "ipython",
    "version": 3
   },
   "file_extension": ".py",
   "mimetype": "text/x-python",
   "name": "python",
   "nbconvert_exporter": "python",
   "pygments_lexer": "ipython3",
   "version": "3.8.5"
  }
 },
 "nbformat": 4,
 "nbformat_minor": 2
}
