{
 "cells": [
  {
   "cell_type": "code",
   "execution_count": null,
   "id": "29ecaf35",
   "metadata": {},
   "outputs": [],
   "source": [
    "#task1  (lesson9)\n",
    "#oracle: https://www.hackerrank.com/challenges/the-report/problem\n",
    "request = \"\"\"\n",
    "SELECT \n",
    "    CASE\n",
    "        WHEN Grades.Grade > 7\n",
    "        THEN Students.Name\n",
    "        WHEN Grades.Grade <= 7\n",
    "        THEN NULL\n",
    "    END, \n",
    "    Grades.Grade, Students.Marks\n",
    "    FROM Students\n",
    "    INNER JOIN Grades \n",
    "    ON Students.Marks \n",
    "    BETWEEN Grades.Min_Mark AND Max_Mark \n",
    "    ORDER BY Grades.Grade DESC, Students.Name ASC, Students.Marks ASC;\n",
    "\"\"\"       "
   ]
  },
  {
   "cell_type": "code",
   "execution_count": null,
   "id": "094b0ad3",
   "metadata": {},
   "outputs": [],
   "source": [
    "#task2  (lesson9)\n",
    "#oracle: https://www.hackerrank.com/challenges/occupations/problem\n",
    "request = \"\"\"\n",
    "select Doctor.name as Doctor, Professor.name as Professor, Singer.name as Singer, Actor.name as Actor\n",
    "from (select (row_number() over (order by name)) as id from OCCUPATIONS) ids\n",
    "full join (\n",
    "    select row_number() over (partition by occupation order by name) as id, name \n",
    "    from OCCUPATIONS\n",
    "    where Occupation = 'Doctor') Doctor\n",
    "on ids.id = Doctor.id\n",
    "full join (\n",
    "    select row_number() over (partition by occupation order by name) as id, name \n",
    "    from OCCUPATIONS\n",
    "    where Occupation = 'Professor' \n",
    ") Professor\n",
    "on ids.id = Professor.id\n",
    "full join (\n",
    "    select row_number() over (partition by occupation order by name) as id, name \n",
    "    from OCCUPATIONS\n",
    "    where Occupation = 'Singer' \n",
    ") Singer\n",
    "on  ids.id = Singer.id\n",
    "full join (\n",
    "    select row_number() over (partition by occupation order by name) as id, name \n",
    "    from OCCUPATIONS\n",
    "    where Occupation = 'Actor' \n",
    ") Actor\n",
    "on  ids.id = Actor.id\n",
    "where \n",
    "Doctor.name is not Null or \n",
    "Professor.name is not Null or \n",
    "Singer.name is not Null or \n",
    "Actor.name is not Null;\n",
    "\"\"\" \n",
    "#var2\n",
    "request = \"\"\"\n",
    "select \n",
    "\"'Doctor'_NAME\" as Doctor, \n",
    "\"'Professor'_NAME\" as Professor,\n",
    "\"'Singer'_NAME\" as Singer,\n",
    "\"'Actor'_NAME\" as Actor from\n",
    "(\n",
    "    SELECT ROW_NUMBER() OVER (PARTITION BY OCCUPATION ORDER BY NAME) as RowNumber, \n",
    "    name, occupation FROM OCCUPATIONS\n",
    ") tempTable\n",
    "PIVOT\n",
    "(\n",
    "    MAX(NAME) as name\n",
    "    FOR occupation IN ('Doctor', 'Professor', 'Singer', 'Actor')\n",
    ") pivotTable\n",
    "order by RowNumber;\n",
    "\"\"\""
   ]
  },
  {
   "cell_type": "code",
   "execution_count": null,
   "id": "e60d89bb",
   "metadata": {},
   "outputs": [],
   "source": [
    "#task3  (lesson9)\n",
    "#oracle: https://www.hackerrank.com/challenges/weather-observation-station-9/problem\n",
    "request = \"\"\"\n",
    "select distinct city\n",
    "from station \n",
    "WHERE not REGEXP_LIKE(City, '^[AEIOU].*');\n",
    "\"\"\" "
   ]
  },
  {
   "cell_type": "code",
   "execution_count": null,
   "id": "c7470e61",
   "metadata": {},
   "outputs": [],
   "source": [
    "#task4  (lesson9)\n",
    "#oracle: https://www.hackerrank.com/challenges/weather-observation-station-10/problem\n",
    "request = \"\"\"\n",
    "select distinct city\n",
    "from station \n",
    "WHERE not REGEXP_LIKE(City, '.*[aeiou]$');\n",
    "\"\"\" "
   ]
  },
  {
   "cell_type": "code",
   "execution_count": null,
   "id": "7483b741",
   "metadata": {},
   "outputs": [],
   "source": [
    "#task5  (lesson9)\n",
    "#oracle: https://www.hackerrank.com/challenges/weather-observation-station-11/problem\n",
    "request = \"\"\"\n",
    "SELECT DISTINCT CITY \n",
    "FROM STATION \n",
    "WHERE not REGEXP_LIKE (City,'^[AEIOU].*' || '.*[aeiou]$');\n",
    "\"\"\" "
   ]
  },
  {
   "cell_type": "code",
   "execution_count": null,
   "id": "46781a64",
   "metadata": {},
   "outputs": [],
   "source": [
    "#task6  (lesson9)\n",
    "#oracle: https://www.hackerrank.com/challenges/weather-observation-station-12/problem\n",
    "request = \"\"\"\n",
    "SELECT DISTINCT CITY \n",
    "FROM STATION \n",
    "WHERE not REGEXP_LIKE(City, '^[AEIOU].*') and not REGEXP_LIKE(City, '.*[aeiou]$');\n",
    "--variant2\n",
    "SELECT DISTINCT CITY \n",
    "FROM STATION \n",
    "WHERE REGEXP_LIKE(City, '^[^AEIOU].*[^aeiou]$');\n",
    "\"\"\" "
   ]
  },
  {
   "cell_type": "code",
   "execution_count": null,
   "id": "2531ad0a",
   "metadata": {},
   "outputs": [],
   "source": [
    "#task7  (lesson9)\n",
    "#oracle: https://www.hackerrank.com/challenges/salary-of-employees/problem\n",
    "request = \"\"\"\n",
    "select name\n",
    "from Employee \n",
    "where salary > '2000'\n",
    "and months < '10'\n",
    "order by employee_id;\n",
    "\"\"\" "
   ]
  },
  {
   "cell_type": "code",
   "execution_count": null,
   "id": "664920af",
   "metadata": {},
   "outputs": [],
   "source": [
    "#task8  (lesson9)\n",
    "#oracle: https://www.hackerrank.com/challenges/the-report/problem\n",
    "request = \"\"\"\n",
    "SELECT \n",
    "    CASE\n",
    "        WHEN Grades.Grade >= 8\n",
    "        THEN Students.Name\n",
    "        WHEN Grades.Grade < 8\n",
    "        THEN NULL\n",
    "    END, \n",
    "    Grades.Grade, Students.Marks\n",
    "    FROM Students\n",
    "    INNER JOIN Grades \n",
    "    ON Students.Marks \n",
    "    BETWEEN Grades.Min_Mark AND Max_Mark \n",
    "    ORDER BY Grades.Grade DESC, Students.Name ASC, Students.Marks ASC;\n",
    "\"\"\" "
   ]
  }
 ],
 "metadata": {
  "kernelspec": {
   "display_name": "Python 3",
   "language": "python",
   "name": "python3"
  },
  "language_info": {
   "codemirror_mode": {
    "name": "ipython",
    "version": 3
   },
   "file_extension": ".py",
   "mimetype": "text/x-python",
   "name": "python",
   "nbconvert_exporter": "python",
   "pygments_lexer": "ipython3",
   "version": "3.8.5"
  }
 },
 "nbformat": 4,
 "nbformat_minor": 5
}
