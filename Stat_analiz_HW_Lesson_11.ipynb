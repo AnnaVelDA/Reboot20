{
 "cells": [
  {
   "cell_type": "markdown",
   "metadata": {
    "id": "pDrecLU-4QjS"
   },
   "source": [
    "# Практика"
   ]
  },
  {
   "cell_type": "markdown",
   "metadata": {
    "id": "gUvTNDlMaV-a"
   },
   "source": [
    "## Определение вероятности. События\n",
    "\n",
    "Требуется сгенерировать необходимые выборки и произвести по ним расчеты"
   ]
  },
  {
   "cell_type": "markdown",
   "metadata": {
    "id": "5V70InEBTgup"
   },
   "source": [
    "### Задача 1\n",
    "Брошено две монеты. Найти вероятность того, что монеты выпали разными сторонами"
   ]
  },
  {
   "cell_type": "code",
   "execution_count": 1,
   "metadata": {
    "id": "88Iw-SL3jYQV"
   },
   "outputs": [
    {
     "data": {
      "text/plain": [
       "0.500307"
      ]
     },
     "execution_count": 1,
     "metadata": {},
     "output_type": "execute_result"
    }
   ],
   "source": [
    "import numpy as np\n",
    "import pandas as pd\n",
    "from random import seed, randint\n",
    "# 1 - герб, 0 - решка\n",
    "N=1000000 # число событий\n",
    "t1 = np.random.randint(0, 2, size=N)\n",
    "t2 = np.random.randint(0, 2, size=N)\n",
    "cases = pd.DataFrame(zip(t1,t2), columns = ['Coin1', 'Coin2'])\n",
    "p = cases[cases['Coin1'] != cases['Coin2']].shape[0]/N\n",
    "p"
   ]
  },
  {
   "cell_type": "markdown",
   "metadata": {
    "id": "t0XOMos2Tl0e"
   },
   "source": [
    "### Задача 2\n",
    "Брошено три монеты. Описать множество всех элементарных событий. Найти вероятности следующих событий:\n",
    "\n",
    "\n",
    "1.   A = {не выпало ни одного герба}\n",
    "2.   B = {выпало четное число гербов}\n",
    "3.   C = {на третьей монете выпал герб}\n"
   ]
  },
  {
   "cell_type": "code",
   "execution_count": 2,
   "metadata": {
    "id": "o7NjAE9uUo-L"
   },
   "outputs": [
    {
     "name": "stdout",
     "output_type": "stream",
     "text": [
      "A=0.125163;\n",
      "B=0.375303;\n",
      "C=0.499884;\n"
     ]
    }
   ],
   "source": [
    "# 1 - герб, 0 - решка\n",
    "N=1000000 # число событий\n",
    "t1 = np.random.randint(0, 2, size=N)\n",
    "t2 = np.random.randint(0, 2, size=N)\n",
    "t3 = np.random.randint(0, 2, size=N)\n",
    "cases = pd.DataFrame(zip(t1,t2,t3), columns = ['Coin1', 'Coin2', 'Coin3'])\n",
    "\n",
    "A = cases[(cases['Coin1'] + cases['Coin2'] + cases['Coin3']) == 0].shape[0]/N\n",
    "B = cases[(cases['Coin1'] + cases['Coin2'] + cases['Coin3']) == 2].shape[0]/N\n",
    "C = cases[(cases['Coin3']) == 1].shape[0]/N\n",
    "print(f\"A={A};\\nB={B};\\nC={C};\")"
   ]
  },
  {
   "cell_type": "markdown",
   "metadata": {},
   "source": [
    "Предлагается также решить задачи: \n",
    "\n",
    "### Задача 3\n",
    "Из двух претендентов E и L на ответственную должность три члена комиссии должны отобрать одного. Каждый член комиссии должен указать либо одного достойного, либо забраковать обоих. Претендент считается выбранным, если он был признана достойным хотя бы двумя членами комиссии.\n",
    "Найти вероятность событий:\n",
    "\n",
    "A = {рекомендован L}, B = {рекомендован E}\n"
   ]
  },
  {
   "cell_type": "code",
   "execution_count": 3,
   "metadata": {},
   "outputs": [
    {
     "name": "stdout",
     "output_type": "stream",
     "text": [
      "A=0.25774;\n",
      "B=0.25912;\n"
     ]
    }
   ],
   "source": [
    "# NoOne - 0, E - 1, L - 2\n",
    "N = 100000 # число событий\n",
    "\n",
    "g1 = np.random.randint(0, 3, size=N)\n",
    "g2 = np.random.randint(0, 3, size=N)\n",
    "g3 = np.random.randint(0, 3, size=N)\n",
    "\n",
    "cases = pd.DataFrame(zip(g1, g2, g3), columns = ['g1', 'g2', 'g3'])\n",
    "\n",
    "def conditionA(g1, g2, g3):\n",
    "    result = g1.copy() * 0\n",
    "    \n",
    "    for key, val in pd.Series(g1).items():\n",
    "        result[key] = (1 if g1[key] == 2 else 0) + (1 if g2[key] == 2 else 0) + (1 if g3[key] == 2 else 0)\n",
    "    \n",
    "    return pd.Series(result) >= 2 \n",
    "\n",
    "def conditionB(g1, g2, g3):\n",
    "    result = g1.copy() * 0\n",
    "    \n",
    "    for key, val in pd.Series(g1).items():\n",
    "        result[key] = (1 if g1[key] == 1 else 0) + (1 if g2[key] == 1 else 0) + (1 if g3[key] == 1 else 0)\n",
    "    \n",
    "    return pd.Series(result) >= 2\n",
    "\n",
    "\n",
    "A = cases[conditionA(g1, g2, g3)].shape[0]/N\n",
    "B = cases[conditionB(g1, g2, g3)].shape[0]/N\n",
    "\n",
    "print(f\"A={A};\\nB={B};\")"
   ]
  },
  {
   "cell_type": "markdown",
   "metadata": {
    "id": "peM38mVfYa5B"
   },
   "source": [
    "### Задача 4\n",
    "Брошено две игральных кости. Описать множество элементарных событий. Найти вероятности событий:\n",
    "\n",
    "A = {вышло две \"шестерки\"}\n",
    "\n",
    "B = {сумма выпавших очков не меньше 11}\n",
    "\n",
    "C = {не выпала ни одна \"шестерка\"}"
   ]
  },
  {
   "cell_type": "code",
   "execution_count": 4,
   "metadata": {},
   "outputs": [
    {
     "name": "stdout",
     "output_type": "stream",
     "text": [
      "A=0.02739;\n",
      "B=0.08232;\n",
      "C=0.69757\n"
     ]
    }
   ],
   "source": [
    "N = 100000 # число событий\n",
    "\n",
    "k1 = np.random.randint(1, 7, size=N)\n",
    "k2 = np.random.randint(1, 7, size=N)\n",
    "cases = pd.DataFrame(zip(k1, k2), columns = ['k1', 'k2'])\n",
    "A = cases[(cases['k1'] + cases['k2']) == 12].shape[0]/N\n",
    "B = cases[(cases['k1'] + cases['k2']) >= 11].shape[0]/N\n",
    "\n",
    "def conditionC(k1, k2):\n",
    "    result = k1.copy() * 0\n",
    "    for key, val in pd.Series(k1).items():\n",
    "             result[key] = (0 if k1[key] == 6 else 1) + (0 if k2[key] == 6 else 1) \n",
    "    return pd.Series(result)>=2\n",
    "C = cases[conditionC(k1, k2)].shape[0]/N\n",
    "\n",
    "print(f\"A={A};\\nB={B};\\nC={C}\")"
   ]
  },
  {
   "cell_type": "markdown",
   "metadata": {
    "id": "f-Bi0p8haclB"
   },
   "source": [
    "## Вероятность суммы событий"
   ]
  },
  {
   "cell_type": "markdown",
   "metadata": {
    "id": "g7A7QlvGTnwZ"
   },
   "source": [
    "### Задача 5\n",
    "Брошены две игральные кости. Найти вероятность события D = {выпала хотя бы одна шестёрка}\n"
   ]
  },
  {
   "cell_type": "code",
   "execution_count": 5,
   "metadata": {
    "id": "vjtTJN-kUp9D"
   },
   "outputs": [
    {
     "name": "stdout",
     "output_type": "stream",
     "text": [
      "D=0.3067\n"
     ]
    }
   ],
   "source": [
    "N = 100000 # число событий\n",
    "\n",
    "k1 = np.random.randint(1, 7, size=N)\n",
    "k2 = np.random.randint(1, 7, size=N)\n",
    "cases = pd.DataFrame(zip(k1, k2), columns = ['k1', 'k2'])\n",
    "def conditionD(k1, k2):\n",
    "    result = k1.copy() * 0\n",
    "    for key, val in pd.Series(k1).items():\n",
    "             result[key] = (1 if k1[key] == 6 else 0) + (1 if k2[key] == 6 else 0) \n",
    "    return pd.Series(result)>=1\n",
    "D = cases[conditionD(k1, k2)].shape[0]/N\n",
    "\n",
    "print(f\"D={D}\")"
   ]
  },
  {
   "cell_type": "markdown",
   "metadata": {
    "id": "R1bYSzQQbC6I"
   },
   "source": [
    "Предлагается также решить задачи: \n",
    "\n",
    "### Задача 6\n",
    "В телефонном номере три последние цифры стерлись. Считая, что все возможные значения стершихся цифр равновероятны, найти вероятность событий:\n",
    "\n",
    "A = {Стерлись различные цифры},\n",
    "\n",
    "B = {Стерлись одинаковые цифры},\n",
    "\n",
    "C = {Среди стершихся цифр хотя бы две совпадают},\n",
    "\n",
    "D = {Среди стершихся цифр хотя бы две различны}\n"
   ]
  },
  {
   "cell_type": "code",
   "execution_count": 6,
   "metadata": {},
   "outputs": [
    {
     "name": "stdout",
     "output_type": "stream",
     "text": [
      "A=0.72022;\n",
      "B=0.00989;\n",
      "C=0.27978;\n",
      "D=0.99011\n"
     ]
    }
   ],
   "source": [
    "N = 100000 # число событий\n",
    "\n",
    "num1 = np.random.randint(0, 10, size=N)\n",
    "num2 = np.random.randint(0, 10, size=N)\n",
    "num3 = np.random.randint(0, 10, size=N)\n",
    "cases = pd.DataFrame(zip(num1, num2, num3), columns = ['num1', 'num2', 'num3'])\n",
    "\n",
    "def conditionA(num1, num2, num3):\n",
    "    result = num1.copy() * 0\n",
    "    for key, val in pd.Series(num1).items():\n",
    "             result[key] = (1 if num1[key] != num2[key] and num2[key] != num3[key] and num3[key] != num1[key] else 0)\n",
    "    return pd.Series(result)>=1\n",
    "\n",
    "A = cases[conditionA(num1, num2, num3)].shape[0]/N\n",
    "\n",
    "def conditionB(num1, num2, num3):\n",
    "    result = num1.copy() * 0\n",
    "    for key, val in pd.Series(num1).items():\n",
    "             result[key] = (1 if num1[key] == num2[key] and num2[key] == num3[key] else 0)\n",
    "    return pd.Series(result)>=1\n",
    "\n",
    "B = cases[conditionB(num1, num2, num3)].shape[0]/N\n",
    "\n",
    "def conditionC(num1, num2, num3):\n",
    "    result = num1.copy() * 0\n",
    "    for key, val in pd.Series(num1).items():\n",
    "             result[key] = (1 if num1[key] == num2[key] or num2[key] == num3[key] or num3[key] == num1[key] else 0)\n",
    "    return pd.Series(result)>=1\n",
    "\n",
    "C = cases[conditionC(num1, num2, num3)].shape[0]/N\n",
    "\n",
    "def conditionD(num1, num2, num3):\n",
    "    result = num1.copy() * 0\n",
    "    for key, val in pd.Series(num1).items():\n",
    "             result[key] = (1 if num1[key] != num2[key] or num2[key] != num3[key] or num3[key] != num1[key] else 0)\n",
    "    return pd.Series(result)>=1\n",
    "\n",
    "D = cases[conditionD(num1, num2, num3)].shape[0]/N\n",
    "\n",
    "print(f\"A={A};\\nB={B};\\nC={C};\\nD={D}\")"
   ]
  },
  {
   "cell_type": "markdown",
   "metadata": {
    "id": "RnugkR8BalK_"
   },
   "source": [
    "## Случайные величины"
   ]
  },
  {
   "cell_type": "markdown",
   "metadata": {
    "id": "yLoZDZ17UVsp"
   },
   "source": [
    "### Задача 7\n",
    "В лотерее имеется 10 билетов, из которых один выигрышный. Размер выигрыша 10 ден. ед.; стоимость билета 1 ден ед. Найти закон распределения случайной величины X, равной чистому выигрышу участника лотереи, который вытаскивает билет первым."
   ]
  },
  {
   "cell_type": "code",
   "execution_count": 7,
   "metadata": {
    "id": "oNk432sKUqzT"
   },
   "outputs": [
    {
     "name": "stdout",
     "output_type": "stream",
     "text": [
      "p=0.1;\n",
      "q=0.9\n"
     ]
    }
   ],
   "source": [
    "# Используем Распределение Бернулли \n",
    "N = 10\n",
    "p = 1/N\n",
    "q = 1-p\n",
    "\n",
    "print(f\"p={p};\\nq={q}\")"
   ]
  },
  {
   "cell_type": "markdown",
   "metadata": {
    "id": "U-NK9liSbpvb"
   },
   "source": [
    "Предлагается также решить задачу: \n",
    "\n",
    "### Задача 8\n",
    "Брошены две игральные кости. Найти закон распределения случайной величины $X$, равной сумме выпавших очков. Найти вероятности событий ${X <= 4}$, ${X > 4}$"
   ]
  },
  {
   "cell_type": "code",
   "execution_count": 8,
   "metadata": {
    "scrolled": true
   },
   "outputs": [
    {
     "data": {
      "image/png": "[encoded data removed]",
      "text/plain": [
       "<Figure size 432x288 with 1 Axes>"
      ]
     },
     "metadata": {
      "needs_background": "light"
     },
     "output_type": "display_data"
    },
    {
     "name": "stdout",
     "output_type": "stream",
     "text": [
      "P(X<=4) ~ 0.1635;\n",
      "P(X>4)  ~ 0.8365;\n"
     ]
    }
   ],
   "source": [
    "import matplotlib.pyplot as plt\n",
    "\n",
    "N = 10000\n",
    "\n",
    "b1 = np.random.randint(1, 7, size=N)\n",
    "b2 = np.random.randint(1, 7, size=N)\n",
    "max_X = 12\n",
    "\n",
    "cases = pd.DataFrame(b1 + b2, columns = ['r'])\n",
    "\n",
    "P = np.zeros(max_X + 1)\n",
    "\n",
    "for i in range(max_X + 1):\n",
    "    P[i] = cases[cases['r'] == i].shape[0]/N\n",
    "    \n",
    "plt.plot(P, 'bo', ms=8)\n",
    "plt.show()\n",
    "\n",
    "pl4 = sum([p for x, p in enumerate(P) if x <=4])\n",
    "pg4 = sum([p for x, p in enumerate(P) if x > 4])\n",
    "\n",
    "print(f\"P(X<=4) ~ {pl4:1.4f};\\nP(X>4)  ~ {pg4:1.4f};\")"
   ]
  },
  {
   "cell_type": "markdown",
   "metadata": {
    "id": "shgW4D83awjK"
   },
   "source": [
    "## Условные вероятности"
   ]
  },
  {
   "cell_type": "markdown",
   "metadata": {
    "id": "Fbu1RFZwWZrk"
   },
   "source": [
    "### Задача 9\n",
    "Из колоды (36 карт) вынимают последовательно без возвращения две карты. Найти вероятность того, что первой картой была шестерка, а второй — семерка. Найти условную вероятность того же события при условии, что обе карты бубновой масти.\n"
   ]
  },
  {
   "cell_type": "code",
   "execution_count": 9,
   "metadata": {
    "id": "037o56awW9-E"
   },
   "outputs": [
    {
     "name": "stdout",
     "output_type": "stream",
     "text": [
      "p=0.012345679012345678;\n",
      "p=0.0007936507936507935\n"
     ]
    }
   ],
   "source": [
    "# Используем формулу Байеса\n",
    "#variant1 - Найти вероятность того, что первой картой была шестерка, а второй — семерка.\n",
    "\n",
    "p6=4/36\n",
    "p7=4/36\n",
    "p=p6*p7\n",
    "\n",
    "\n",
    "#variant2 - Найти условную вероятность того же события при условии, что обе карты бубновой масти.\n",
    "p1=1/36\n",
    "p2=1/35\n",
    "pb=p1*p2\n",
    "\n",
    "print(f\"p={p};\\np={pb}\")"
   ]
  },
  {
   "cell_type": "markdown",
   "metadata": {
    "id": "hNVxtaz5c57b"
   },
   "source": [
    "Предлагается также решить задачу: \n",
    "\n",
    "### Задача 10\n",
    "Из урны, содержащей два белых и три черных шара, последовательно извлекают два шара; вынутые шары не возвращаются. Если первый шар оказался черным, то перед вторым извлечением в урну добавляют белый шар. В противном случае состав оставшихся шаров не меняют. Найти вероятности событий:\n",
    "\n",
    "$A$ = {извлечены два белых шара},\n",
    "\n",
    "$B$ = {извлечены два черных шара}\n",
    "\n",
    "Указание. Пусть событие $C_1$ = {первый шар белый}, событие $C_2$ = {второй шар белый}. Тогда $A = C_1C_2$, $B = \\overline C_1 \\overline C_2$ "
   ]
  },
  {
   "cell_type": "code",
   "execution_count": 10,
   "metadata": {
    "id": "WSLnhk2sdBt_"
   },
   "outputs": [
    {
     "name": "stdout",
     "output_type": "stream",
     "text": [
      "P(A) = 0.1;\n",
      "P(B) = 0.24\n"
     ]
    }
   ],
   "source": [
    "# P(A) - извлечены два белых шара\n",
    "C1 = 2/5  # вероятность вытянуть первый белый шар\n",
    "C2 = 1/4  # вероятность вынуть второй белый шар\n",
    "P_A = C1 * C2 \n",
    "\n",
    "not_C1 = 3/5  # вероятность вытянуть первый черный шар\n",
    "not_C2 = 2/5  # вероятность вытянуть второй черный шар\n",
    "P_B = not_C1 * not_C2\n",
    "\n",
    "print(f\"P(A) = {P_A};\\nP(B) = {P_B}\")"
   ]
  }
 ],
 "metadata": {
  "colab": {
   "collapsed_sections": [],
   "name": "Практика к занятию 11.ipynb",
   "provenance": []
  },
  "kernelspec": {
   "display_name": "Python 3",
   "language": "python",
   "name": "python3"
  },
  "language_info": {
   "codemirror_mode": {
    "name": "ipython",
    "version": 3
   },
   "file_extension": ".py",
   "mimetype": "text/x-python",
   "name": "python",
   "nbconvert_exporter": "python",
   "pygments_lexer": "ipython3",
   "version": "3.8.5"
  }
 },
 "nbformat": 4,
 "nbformat_minor": 1
}
