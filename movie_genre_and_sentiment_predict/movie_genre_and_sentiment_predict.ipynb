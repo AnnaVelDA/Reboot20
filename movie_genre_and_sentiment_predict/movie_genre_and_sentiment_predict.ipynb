{
 "cells": [
  {
   "cell_type": "markdown",
   "id": "913f264e",
   "metadata": {},
   "source": [
    "# Фильмы с данными из википедии\n",
    "\n",
    "https://www.kaggle.com/jrobischon/wikipedia-movie-plots\n",
    "\n",
    "1. Подготовьте гистограммы по самым популярным жанрам, режиссерам, нац. принадлежностям фильмов, годам\n",
    "2. Подготовьте sentiment analysis по отзывам (используя  nltk.classify) и оцените, как распределяется sentiment по актерам, режиссерам и жанрам"
   ]
  },
  {
   "cell_type": "code",
   "execution_count": 471,
   "id": "e0502ad0",
   "metadata": {},
   "outputs": [],
   "source": [
    "# Эта команда позволяет вывыводить результаты друг за другом без вызова print\n",
    "from IPython.core.interactiveshell import InteractiveShell\n",
    "InteractiveShell.ast_node_interactivity = \"all\""
   ]
  },
  {
   "cell_type": "code",
   "execution_count": 472,
   "id": "279edc3b",
   "metadata": {},
   "outputs": [],
   "source": [
    "import pandas as pd\n",
    "import matplotlib.pyplot as plt\n",
    "import seaborn as sns\n",
    "import numpy as np\n",
    "import pickle \n",
    "from scipy import stats\n",
    "%matplotlib inline"
   ]
  },
  {
   "cell_type": "code",
   "execution_count": 473,
   "id": "9e121c4e",
   "metadata": {},
   "outputs": [],
   "source": [
    "df = pd.read_csv('data/wiki_movie_plots_deduped.csv')"
   ]
  },
  {
   "cell_type": "markdown",
   "id": "09460479",
   "metadata": {},
   "source": [
    "## 1.  Анализ исходных данных (датасет \"Фильмы\" с данными из википедии)"
   ]
  },
  {
   "cell_type": "code",
   "execution_count": 474,
   "id": "1a60d924",
   "metadata": {},
   "outputs": [
    {
     "data": {
      "text/html": [
       "<div>\n",
       "<style scoped>\n",
       "    .dataframe tbody tr th:only-of-type {\n",
       "        vertical-align: middle;\n",
       "    }\n",
       "\n",
       "    .dataframe tbody tr th {\n",
       "        vertical-align: top;\n",
       "    }\n",
       "\n",
       "    .dataframe thead th {\n",
       "        text-align: right;\n",
       "    }\n",
       "</style>\n",
       "<table border=\"1\" class=\"dataframe\">\n",
       "  <thead>\n",
       "    <tr style=\"text-align: right;\">\n",
       "      <th></th>\n",
       "      <th>Release Year</th>\n",
       "      <th>Title</th>\n",
       "      <th>Origin/Ethnicity</th>\n",
       "      <th>Director</th>\n",
       "      <th>Cast</th>\n",
       "      <th>Genre</th>\n",
       "      <th>Wiki Page</th>\n",
       "      <th>Plot</th>\n",
       "    </tr>\n",
       "  </thead>\n",
       "  <tbody>\n",
       "    <tr>\n",
       "      <th>0</th>\n",
       "      <td>1901</td>\n",
       "      <td>Kansas Saloon Smashers</td>\n",
       "      <td>American</td>\n",
       "      <td>Unknown</td>\n",
       "      <td>NaN</td>\n",
       "      <td>unknown</td>\n",
       "      <td>https://en.wikipedia.org/wiki/Kansas_Saloon_Sm...</td>\n",
       "      <td>A bartender is working at a saloon, serving dr...</td>\n",
       "    </tr>\n",
       "    <tr>\n",
       "      <th>1</th>\n",
       "      <td>1901</td>\n",
       "      <td>Love by the Light of the Moon</td>\n",
       "      <td>American</td>\n",
       "      <td>Unknown</td>\n",
       "      <td>NaN</td>\n",
       "      <td>unknown</td>\n",
       "      <td>https://en.wikipedia.org/wiki/Love_by_the_Ligh...</td>\n",
       "      <td>The moon, painted with a smiling face hangs ov...</td>\n",
       "    </tr>\n",
       "    <tr>\n",
       "      <th>2</th>\n",
       "      <td>1901</td>\n",
       "      <td>The Martyred Presidents</td>\n",
       "      <td>American</td>\n",
       "      <td>Unknown</td>\n",
       "      <td>NaN</td>\n",
       "      <td>unknown</td>\n",
       "      <td>https://en.wikipedia.org/wiki/The_Martyred_Pre...</td>\n",
       "      <td>The film, just over a minute long, is composed...</td>\n",
       "    </tr>\n",
       "    <tr>\n",
       "      <th>3</th>\n",
       "      <td>1901</td>\n",
       "      <td>Terrible Teddy, the Grizzly King</td>\n",
       "      <td>American</td>\n",
       "      <td>Unknown</td>\n",
       "      <td>NaN</td>\n",
       "      <td>unknown</td>\n",
       "      <td>https://en.wikipedia.org/wiki/Terrible_Teddy,_...</td>\n",
       "      <td>Lasting just 61 seconds and consisting of two ...</td>\n",
       "    </tr>\n",
       "    <tr>\n",
       "      <th>4</th>\n",
       "      <td>1902</td>\n",
       "      <td>Jack and the Beanstalk</td>\n",
       "      <td>American</td>\n",
       "      <td>George S. Fleming, Edwin S. Porter</td>\n",
       "      <td>NaN</td>\n",
       "      <td>unknown</td>\n",
       "      <td>https://en.wikipedia.org/wiki/Jack_and_the_Bea...</td>\n",
       "      <td>The earliest known adaptation of the classic f...</td>\n",
       "    </tr>\n",
       "  </tbody>\n",
       "</table>\n",
       "</div>"
      ],
      "text/plain": [
       "   Release Year                             Title Origin/Ethnicity  \\\n",
       "0          1901            Kansas Saloon Smashers         American   \n",
       "1          1901     Love by the Light of the Moon         American   \n",
       "2          1901           The Martyred Presidents         American   \n",
       "3          1901  Terrible Teddy, the Grizzly King         American   \n",
       "4          1902            Jack and the Beanstalk         American   \n",
       "\n",
       "                             Director Cast    Genre  \\\n",
       "0                             Unknown  NaN  unknown   \n",
       "1                             Unknown  NaN  unknown   \n",
       "2                             Unknown  NaN  unknown   \n",
       "3                             Unknown  NaN  unknown   \n",
       "4  George S. Fleming, Edwin S. Porter  NaN  unknown   \n",
       "\n",
       "                                           Wiki Page  \\\n",
       "0  https://en.wikipedia.org/wiki/Kansas_Saloon_Sm...   \n",
       "1  https://en.wikipedia.org/wiki/Love_by_the_Ligh...   \n",
       "2  https://en.wikipedia.org/wiki/The_Martyred_Pre...   \n",
       "3  https://en.wikipedia.org/wiki/Terrible_Teddy,_...   \n",
       "4  https://en.wikipedia.org/wiki/Jack_and_the_Bea...   \n",
       "\n",
       "                                                Plot  \n",
       "0  A bartender is working at a saloon, serving dr...  \n",
       "1  The moon, painted with a smiling face hangs ov...  \n",
       "2  The film, just over a minute long, is composed...  \n",
       "3  Lasting just 61 seconds and consisting of two ...  \n",
       "4  The earliest known adaptation of the classic f...  "
      ]
     },
     "execution_count": 474,
     "metadata": {},
     "output_type": "execute_result"
    }
   ],
   "source": [
    "df.head()"
   ]
  },
  {
   "cell_type": "code",
   "execution_count": 475,
   "id": "c5d2fb1a",
   "metadata": {},
   "outputs": [
    {
     "name": "stdout",
     "output_type": "stream",
     "text": [
      "<class 'pandas.core.frame.DataFrame'>\n",
      "RangeIndex: 34886 entries, 0 to 34885\n",
      "Data columns (total 8 columns):\n",
      " #   Column            Non-Null Count  Dtype \n",
      "---  ------            --------------  ----- \n",
      " 0   Release Year      34886 non-null  int64 \n",
      " 1   Title             34886 non-null  object\n",
      " 2   Origin/Ethnicity  34886 non-null  object\n",
      " 3   Director          34886 non-null  object\n",
      " 4   Cast              33464 non-null  object\n",
      " 5   Genre             34886 non-null  object\n",
      " 6   Wiki Page         34886 non-null  object\n",
      " 7   Plot              34886 non-null  object\n",
      "dtypes: int64(1), object(7)\n",
      "memory usage: 2.1+ MB\n"
     ]
    }
   ],
   "source": [
    "df.info()"
   ]
  },
  {
   "cell_type": "code",
   "execution_count": 476,
   "id": "f6ef7af8",
   "metadata": {},
   "outputs": [
    {
     "data": {
      "text/plain": [
       "count       34886\n",
       "unique       2265\n",
       "top       unknown\n",
       "freq         6083\n",
       "Name: Genre, dtype: object"
      ]
     },
     "execution_count": 476,
     "metadata": {},
     "output_type": "execute_result"
    }
   ],
   "source": [
    "df['Genre'].describe()"
   ]
  },
  {
   "cell_type": "code",
   "execution_count": 477,
   "id": "a3baa094",
   "metadata": {},
   "outputs": [
    {
     "data": {
      "text/plain": [
       "'Кол-во NaN: 0'"
      ]
     },
     "execution_count": 477,
     "metadata": {},
     "output_type": "execute_result"
    }
   ],
   "source": [
    "f\"Кол-во NaN: {df['Genre'].isna().sum()}\""
   ]
  },
  {
   "cell_type": "code",
   "execution_count": 478,
   "id": "6d71d218",
   "metadata": {
    "scrolled": false
   },
   "outputs": [
    {
     "data": {
      "text/plain": [
       "Genre\n",
       "unknown            6083\n",
       "drama              5964\n",
       "comedy             4379\n",
       "horror             1167\n",
       "action             1098\n",
       "thriller            966\n",
       "romance             923\n",
       "western             865\n",
       "crime               568\n",
       "adventure           526\n",
       "musical             467\n",
       "crime drama         464\n",
       "romantic comedy     461\n",
       "science fiction     418\n",
       "film noir           345\n",
       "mystery             310\n",
       "war                 273\n",
       "animation           264\n",
       "comedy, drama       236\n",
       "sci-fi              221\n",
       "family              217\n",
       "Name: g_cnt, dtype: int64"
      ]
     },
     "execution_count": 478,
     "metadata": {},
     "output_type": "execute_result"
    }
   ],
   "source": [
    "# Определим TOP-20 жанров (75% от всей выборки)\n",
    "df['g_cnt'] = df['Genre']\n",
    "top_ganres = df.groupby(['Genre'])['g_cnt'].count().sort_values(ascending=False).head(21)\n",
    "top_ganres"
   ]
  },
  {
   "cell_type": "code",
   "execution_count": 479,
   "id": "7117ca2b",
   "metadata": {},
   "outputs": [
    {
     "data": {
      "text/plain": [
       "'Доля top_ganres: 0.75'"
      ]
     },
     "execution_count": 479,
     "metadata": {},
     "output_type": "execute_result"
    },
    {
     "data": {
      "text/plain": [
       "'Доля unknown: 0.17'"
      ]
     },
     "execution_count": 479,
     "metadata": {},
     "output_type": "execute_result"
    }
   ],
   "source": [
    "f\"Доля top_ganres: {top_ganres.sum()/df['Genre'].count():2.2f}\"\n",
    "f\"Доля unknown: {top_ganres['unknown']/df['Genre'].count():2.2f}\""
   ]
  },
  {
   "cell_type": "code",
   "execution_count": 480,
   "id": "b70dc28f",
   "metadata": {
    "scrolled": true
   },
   "outputs": [
    {
     "data": {
      "text/plain": [
       "<AxesSubplot:ylabel='Genre'>"
      ]
     },
     "execution_count": 480,
     "metadata": {},
     "output_type": "execute_result"
    },
    {
     "data": {
      "image/png": "[encoded data removed]",
      "text/plain": [
       "<Figure size 432x288 with 1 Axes>"
      ]
     },
     "metadata": {
      "needs_background": "light"
     },
     "output_type": "display_data"
    }
   ],
   "source": [
    "# Построим гистограмму популярных жанров\n",
    "top_ganres.plot.barh()"
   ]
  },
  {
   "cell_type": "markdown",
   "id": "8a505082",
   "metadata": {},
   "source": [
    "##### Видим, что в TOP-5 популярных жанров входят 'Drama', 'Comedy', 'Horror' ,'Action', 'Thriller'. При этом значительное количество записей 'Unknown' (17% от всей выборки). Попробуем обучить модель по полю 'Plot' для предсказания жанра."
   ]
  },
  {
   "cell_type": "markdown",
   "id": "8b1aa3ee",
   "metadata": {},
   "source": [
    "### Поле \"Director\" (Режиссер)"
   ]
  },
  {
   "cell_type": "code",
   "execution_count": 481,
   "id": "c4f165d1",
   "metadata": {},
   "outputs": [
    {
     "data": {
      "text/plain": [
       "count       34886\n",
       "unique      12593\n",
       "top       Unknown\n",
       "freq         1124\n",
       "Name: Director, dtype: object"
      ]
     },
     "execution_count": 481,
     "metadata": {},
     "output_type": "execute_result"
    }
   ],
   "source": [
    "df['Director'].describe()"
   ]
  },
  {
   "cell_type": "code",
   "execution_count": 482,
   "id": "eb61324a",
   "metadata": {},
   "outputs": [
    {
     "data": {
      "text/plain": [
       "Director\n",
       "Richard Thorpe         55\n",
       "Norman Taurog          56\n",
       "William A. Seiter      56\n",
       "Allan Dwan             58\n",
       "John Ford              59\n",
       "Jules White            63\n",
       "Lloyd Bacon            66\n",
       "Hanna-Barbera          77\n",
       "Michael Curtiz         79\n",
       "Unknown              1124\n",
       "Name: d_cnt, dtype: int64"
      ]
     },
     "execution_count": 482,
     "metadata": {},
     "output_type": "execute_result"
    }
   ],
   "source": [
    "df['d_cnt'] = df['Director']\n",
    "top_dir = df.groupby(['Director'])['d_cnt'].count().sort_values(ascending=True).tail(10)\n",
    "top_dir"
   ]
  },
  {
   "cell_type": "code",
   "execution_count": 483,
   "id": "7b8786fe",
   "metadata": {},
   "outputs": [
    {
     "data": {
      "text/plain": [
       "<AxesSubplot:ylabel='Director'>"
      ]
     },
     "execution_count": 483,
     "metadata": {},
     "output_type": "execute_result"
    },
    {
     "data": {
      "image/png": "[encoded data removed]",
      "text/plain": [
       "<Figure size 432x288 with 1 Axes>"
      ]
     },
     "metadata": {
      "needs_background": "light"
     },
     "output_type": "display_data"
    }
   ],
   "source": [
    "top_dir.plot.barh()"
   ]
  },
  {
   "cell_type": "code",
   "execution_count": 484,
   "id": "b3483354",
   "metadata": {},
   "outputs": [
    {
     "data": {
      "text/plain": [
       "'Доля top_directors: 0.05'"
      ]
     },
     "execution_count": 484,
     "metadata": {},
     "output_type": "execute_result"
    },
    {
     "data": {
      "text/plain": [
       "'Доля unknown: 0.03'"
      ]
     },
     "execution_count": 484,
     "metadata": {},
     "output_type": "execute_result"
    }
   ],
   "source": [
    "f\"Доля top_directors: {top_dir.sum()/df['Director'].count():2.2f}\"\n",
    "f\"Доля unknown: {top_dir['Unknown']/df['Director'].count():2.2f}\""
   ]
  },
  {
   "cell_type": "markdown",
   "id": "f63f6e7b",
   "metadata": {},
   "source": [
    "### Поле \"Origin/Ethnicity\" (Нац.принадлежность)"
   ]
  },
  {
   "cell_type": "code",
   "execution_count": 485,
   "id": "f238138e",
   "metadata": {},
   "outputs": [
    {
     "data": {
      "text/plain": [
       "count        34886\n",
       "unique          24\n",
       "top       American\n",
       "freq         17377\n",
       "Name: Origin/Ethnicity, dtype: object"
      ]
     },
     "execution_count": 485,
     "metadata": {},
     "output_type": "execute_result"
    }
   ],
   "source": [
    "df['Origin/Ethnicity'].describe()"
   ]
  },
  {
   "cell_type": "code",
   "execution_count": 486,
   "id": "2148cb19",
   "metadata": {},
   "outputs": [
    {
     "data": {
      "text/plain": [
       "Origin/Ethnicity\n",
       "Maldivian           2\n",
       "Assamese            9\n",
       "Egyptian           67\n",
       "Turkish            70\n",
       "Malaysian          70\n",
       "Punjabi            84\n",
       "Bangladeshi        87\n",
       "Filipino          128\n",
       "Marathi           141\n",
       "Russian           232\n",
       "Bengali           306\n",
       "Kannada           444\n",
       "Chinese           463\n",
       "South_Korean      522\n",
       "Australian        576\n",
       "Canadian          723\n",
       "Hong Kong         791\n",
       "Malayalam        1095\n",
       "Japanese         1188\n",
       "Telugu           1311\n",
       "Tamil            2599\n",
       "Bollywood        2931\n",
       "British          3670\n",
       "American        17377\n",
       "Name: d_cnt, dtype: int64"
      ]
     },
     "execution_count": 486,
     "metadata": {},
     "output_type": "execute_result"
    }
   ],
   "source": [
    "df['d_cnt'] = df['Origin/Ethnicity']\n",
    "ethnic = df.groupby(['Origin/Ethnicity'])['d_cnt'].count().sort_values(ascending=True)\n",
    "ethnic"
   ]
  },
  {
   "cell_type": "code",
   "execution_count": 487,
   "id": "e3d9ec6e",
   "metadata": {},
   "outputs": [
    {
     "data": {
      "text/plain": [
       "<AxesSubplot:ylabel='Origin/Ethnicity'>"
      ]
     },
     "execution_count": 487,
     "metadata": {},
     "output_type": "execute_result"
    },
    {
     "data": {
      "image/png": "[encoded data removed]",
      "text/plain": [
       "<Figure size 432x288 with 1 Axes>"
      ]
     },
     "metadata": {
      "needs_background": "light"
     },
     "output_type": "display_data"
    }
   ],
   "source": [
    "ethnic.plot.barh()"
   ]
  },
  {
   "cell_type": "code",
   "execution_count": 488,
   "id": "3c49bb40",
   "metadata": {},
   "outputs": [
    {
     "data": {
      "text/plain": [
       "'Доля American: 0.50'"
      ]
     },
     "execution_count": 488,
     "metadata": {},
     "output_type": "execute_result"
    }
   ],
   "source": [
    "f\"Доля American: {ethnic['American']/df['Origin/Ethnicity'].count():2.2f}\""
   ]
  },
  {
   "cell_type": "markdown",
   "id": "844ad16a",
   "metadata": {},
   "source": [
    "Видим, что половина всех фильмов из нашей выборки создана в USA."
   ]
  },
  {
   "cell_type": "markdown",
   "id": "f8cf7514",
   "metadata": {},
   "source": [
    "### Поле \"Release Year\" (Год релиза)"
   ]
  },
  {
   "cell_type": "code",
   "execution_count": 489,
   "id": "d1e2f5ed",
   "metadata": {},
   "outputs": [
    {
     "data": {
      "text/plain": [
       "count     34886\n",
       "unique      117\n",
       "top        2013\n",
       "freq       1021\n",
       "Name: Release Year, dtype: object"
      ]
     },
     "execution_count": 489,
     "metadata": {},
     "output_type": "execute_result"
    }
   ],
   "source": [
    "df['Release Year'].astype(str).describe()"
   ]
  },
  {
   "cell_type": "code",
   "execution_count": 490,
   "id": "1424edab",
   "metadata": {},
   "outputs": [
    {
     "data": {
      "text/plain": [
       "Release Year\n",
       "1994     471\n",
       "1996     475\n",
       "1995     488\n",
       "2002     492\n",
       "1997     494\n",
       "2003     514\n",
       "2004     565\n",
       "2005     575\n",
       "2008     650\n",
       "2015     661\n",
       "2007     665\n",
       "2016     721\n",
       "2006     723\n",
       "2009     745\n",
       "2017     805\n",
       "2010     825\n",
       "2011     858\n",
       "2012     874\n",
       "2014     929\n",
       "2013    1021\n",
       "Name: d_cnt, dtype: int64"
      ]
     },
     "execution_count": 490,
     "metadata": {},
     "output_type": "execute_result"
    }
   ],
   "source": [
    "df['d_cnt'] = df['Release Year']\n",
    "top_years = df.groupby(['Release Year'])['d_cnt'].count().sort_values(ascending=True).tail(20)\n",
    "all_years = df.groupby(['Release Year'])['d_cnt'].count().sort_index(ascending=True)\n",
    "top_years"
   ]
  },
  {
   "cell_type": "code",
   "execution_count": 491,
   "id": "45ef5418",
   "metadata": {
    "scrolled": true
   },
   "outputs": [
    {
     "data": {
      "text/plain": [
       "<AxesSubplot:xlabel='Release Year'>"
      ]
     },
     "execution_count": 491,
     "metadata": {},
     "output_type": "execute_result"
    },
    {
     "data": {
      "image/png": "[encoded data removed]",
      "text/plain": [
       "<Figure size 432x288 with 1 Axes>"
      ]
     },
     "metadata": {
      "needs_background": "light"
     },
     "output_type": "display_data"
    }
   ],
   "source": [
    "top_years.plot.bar()"
   ]
  },
  {
   "cell_type": "code",
   "execution_count": 492,
   "id": "f6be04d1",
   "metadata": {},
   "outputs": [
    {
     "data": {
      "text/plain": [
       "'Доля top_20_years: 0.39'"
      ]
     },
     "execution_count": 492,
     "metadata": {},
     "output_type": "execute_result"
    }
   ],
   "source": [
    "f\"Доля top_20_years: {top_years.sum()/all_years.sum():2.2f}\""
   ]
  },
  {
   "cell_type": "code",
   "execution_count": 493,
   "id": "63015c8a",
   "metadata": {
    "scrolled": false
   },
   "outputs": [
    {
     "data": {
      "text/plain": [
       "<AxesSubplot:xlabel='Release Year'>"
      ]
     },
     "execution_count": 493,
     "metadata": {},
     "output_type": "execute_result"
    },
    {
     "data": {
      "image/png": "[encoded data removed]",
      "text/plain": [
       "<Figure size 1440x576 with 1 Axes>"
      ]
     },
     "metadata": {
      "needs_background": "light"
     },
     "output_type": "display_data"
    }
   ],
   "source": [
    "# Построим линейный график выпускаемых фильмов по годам\n",
    "all_years.plot(figsize=(20,8))"
   ]
  },
  {
   "cell_type": "markdown",
   "id": "878b4961",
   "metadata": {},
   "source": [
    "## 2. Предсказание жанра фильма на основе его описания"
   ]
  },
  {
   "cell_type": "markdown",
   "id": "9992f278",
   "metadata": {},
   "source": [
    "### Предобработка данных"
   ]
  },
  {
   "cell_type": "code",
   "execution_count": 494,
   "id": "35cd432f",
   "metadata": {},
   "outputs": [],
   "source": [
    "import nltk\n",
    "from nltk.tokenize import word_tokenize  \n",
    "from nltk.corpus import stopwords\n",
    "from nltk.stem import WordNetLemmatizer\n",
    "from nltk.stem.snowball import SnowballStemmer\n",
    "from nltk.stem.porter import *\n",
    "\n",
    "from sklearn.feature_extraction.text import TfidfVectorizer\n",
    "from sklearn.model_selection import train_test_split\n",
    "from sklearn.naive_bayes import MultinomialNB\n",
    "from sklearn.metrics import accuracy_score, precision_score, f1_score, recall_score, confusion_matrix, classification_report\n",
    "from sklearn import tree\n",
    "from sklearn.linear_model import LogisticRegression\n",
    "\n",
    "import matplotlib.pyplot as plt\n",
    "import seaborn as sns"
   ]
  },
  {
   "cell_type": "code",
   "execution_count": 495,
   "id": "f3a919c5",
   "metadata": {},
   "outputs": [
    {
     "name": "stderr",
     "output_type": "stream",
     "text": [
      "[nltk_data] Downloading package wordnet to\n",
      "[nltk_data]     /Users/annavelikobratova/nltk_data...\n",
      "[nltk_data]   Package wordnet is already up-to-date!\n"
     ]
    },
    {
     "data": {
      "text/plain": [
       "True"
      ]
     },
     "execution_count": 495,
     "metadata": {},
     "output_type": "execute_result"
    },
    {
     "name": "stderr",
     "output_type": "stream",
     "text": [
      "[nltk_data] Downloading package stopwords to\n",
      "[nltk_data]     /Users/annavelikobratova/nltk_data...\n",
      "[nltk_data]   Package stopwords is already up-to-date!\n"
     ]
    },
    {
     "data": {
      "text/plain": [
       "True"
      ]
     },
     "execution_count": 495,
     "metadata": {},
     "output_type": "execute_result"
    }
   ],
   "source": [
    "nltk.download('wordnet')\n",
    "nltk.download('stopwords')"
   ]
  },
  {
   "cell_type": "code",
   "execution_count": 496,
   "id": "8a07461a",
   "metadata": {},
   "outputs": [],
   "source": [
    "### Функция предобработки данных\n",
    "p_stemmer = PorterStemmer()\n",
    "\n",
    "def nltk_process(text):\n",
    "    #Tokenization\n",
    "    nltk_tokenList = word_tokenize(text)\n",
    "    \n",
    "    #Lemmatization\n",
    "    wordnet_lemmatizer = WordNetLemmatizer()\n",
    "    nltk_lemmaList = []\n",
    "    for word in nltk_tokenList:\n",
    "        nltk_lemmaList.append(wordnet_lemmatizer.lemmatize(word.lower()))\n",
    "    \n",
    "    #Filter stopword\n",
    "    filtered_sentence = []  \n",
    "    nltk_stop_words = set(stopwords.words(\"english\"))\n",
    "    nltk_stop_words.add(\"'s\")\n",
    "    nltk_stop_words.add(\"br\")\n",
    "    #nltk_stop_words.add(\"<br\")\n",
    "    \n",
    "    for w in nltk_lemmaList:\n",
    "        if w not in nltk_stop_words:  \n",
    "            filtered_sentence.append(w)\n",
    "    \n",
    "    #Removing Punctuation\n",
    "    punctuations=\"?:!,;[]/<>``''()*....\"\n",
    "    new_snts = filtered_sentence.copy()\n",
    "    for word in filtered_sentence:\n",
    "        if word in punctuations:\n",
    "            new_snts.remove(word)\n",
    "    filtered_sentence = new_snts\n",
    "            \n",
    "    #Remove numbers\n",
    "    pattern = '[0-9\\[\\]]*'\n",
    "    try:\n",
    "        _str = re.sub(pattern, '', \" \".join(filtered_sentence))\n",
    "    except Exception as e:\n",
    "        print(e)\n",
    "    \n",
    "    return _str"
   ]
  },
  {
   "cell_type": "code",
   "execution_count": 497,
   "id": "70856a81",
   "metadata": {},
   "outputs": [
    {
     "data": {
      "text/plain": [
       "0    bartender working saloon serving drink custome...\n",
       "1    moon painted smiling face hang park night youn...\n",
       "2    film minute long composed two shot first girl ...\n",
       "3    lasting  second consisting two shot first shot...\n",
       "4    earliest known adaptation classic fairytale fi...\n",
       "Name: text_clean_normal, dtype: object"
      ]
     },
     "execution_count": 497,
     "metadata": {},
     "output_type": "execute_result"
    }
   ],
   "source": [
    "# Обработаем данные\n",
    "import os.path\n",
    "\n",
    "if not os.path.exists('data/text_clean_normal.pkl'):\n",
    "    df['text_clean_normal'] = df['Plot'].apply(nltk_process) \n",
    "    with open('data/text_clean_normal.pkl', 'wb') as f:\n",
    "        pickle.dump(df['text_clean_normal'],f)\n",
    "\n",
    "with open('data/text_clean_normal.pkl', 'rb') as f:\n",
    "    df['text_clean_normal'] = pickle.load(f)\n",
    "\n",
    "df['text_clean_normal'].head(5)"
   ]
  },
  {
   "cell_type": "code",
   "execution_count": 498,
   "id": "b1461a45",
   "metadata": {},
   "outputs": [],
   "source": [
    "train_test_data = df[df['Genre'] != 'unknown'].copy()\n",
    "to_predict = df[df['Genre'] == 'unknown'].copy()"
   ]
  },
  {
   "cell_type": "code",
   "execution_count": 499,
   "id": "9bfca056",
   "metadata": {},
   "outputs": [],
   "source": [
    "top_genres = ['family', 'sci-fi', 'comedy, drama', \n",
    "              'animation', 'war', 'mystery', 'film noir',\n",
    "              'science fiction', 'romantic comedy', 'crime drama', \n",
    "              'musical', 'adventure', 'crime', 'western', 'romance',\n",
    "              'thriller', 'action', 'horror', 'comedy', 'drama']\n",
    "train_test_data = train_test_data[train_test_data['Genre'].apply(lambda x: x in top_ganres)].copy()"
   ]
  },
  {
   "cell_type": "markdown",
   "id": "5c3b40ab",
   "metadata": {},
   "source": [
    "### Обьединим похожие жанры: \n",
    "1. \"sci-fi\" в \"science fiction\";\n",
    "2. \"film noir\" в \"horror\";\n",
    "3. \"romance\" в \"romantic comedy\"\n",
    "4. \"crime drama\" в \"crime\"\n",
    "5. \"comedy, drama\" в \"comedy\""
   ]
  },
  {
   "cell_type": "code",
   "execution_count": 500,
   "id": "ae98fe1a",
   "metadata": {},
   "outputs": [
    {
     "data": {
      "text/plain": [
       "<AxesSubplot:ylabel='Genre'>"
      ]
     },
     "execution_count": 500,
     "metadata": {},
     "output_type": "execute_result"
    },
    {
     "data": {
      "image/png": "[encoded data removed]",
      "text/plain": [
       "<Figure size 432x288 with 1 Axes>"
      ]
     },
     "metadata": {
      "needs_background": "light"
     },
     "output_type": "display_data"
    }
   ],
   "source": [
    "train_test_data['Genre'] = train_test_data['Genre'].apply(lambda x: \"science fiction\" if x == \"sci-fi\" else x)\n",
    "train_test_data['Genre'] = train_test_data['Genre'].apply(lambda x: \"horror\" if x == \"film noir\" else x)\n",
    "train_test_data['Genre'] = train_test_data['Genre'].apply(lambda x: \"romantic comedy\" if x == \"romance\" else x)\n",
    "train_test_data['Genre'] = train_test_data['Genre'].apply(lambda x: \"crime\" if x == \"crime drama\" else x)\n",
    "train_test_data['Genre'] = train_test_data['Genre'].apply(lambda x: \"comedy\" if x == \"comedy, drama\" else x)\n",
    "train_test_data.groupby(['Genre'])['g_cnt'].count().sort_values(ascending=True).plot.barh()"
   ]
  },
  {
   "cell_type": "markdown",
   "id": "3647eed3",
   "metadata": {},
   "source": [
    "### Обучим модель предсказывающую жанр по `Plot`"
   ]
  },
  {
   "cell_type": "code",
   "execution_count": 501,
   "id": "db5446b8",
   "metadata": {},
   "outputs": [],
   "source": [
    "def metrics(_test, _pred):\n",
    "    cm = confusion_matrix(_test, _pred)\n",
    "    plt.figure(figsize=(11, 4))\n",
    "    sns.heatmap(cm, annot=True, fmt='d')\n",
    "    plt.show()\n",
    "    print(classification_report(_test, _pred))"
   ]
  },
  {
   "cell_type": "code",
   "execution_count": 502,
   "id": "3b13dfc8",
   "metadata": {},
   "outputs": [],
   "source": [
    "X_train, X_test, y_train, y_test = train_test_split(train_test_data['text_clean_normal'], train_test_data['Genre'], test_size=0.25, stratify=train_test_data['Genre'])\n",
    "\n",
    "v = TfidfVectorizer(ngram_range=(1, 2), lowercase=True, max_features=15000)\n",
    "\n",
    "X_train_v = v.fit_transform(X_train)\n",
    "X_test_v = v.transform(X_test)"
   ]
  },
  {
   "cell_type": "markdown",
   "id": "5def40a9",
   "metadata": {},
   "source": [
    "#### Naives Bayes Classifier"
   ]
  },
  {
   "cell_type": "code",
   "execution_count": 503,
   "id": "40d9c8d7",
   "metadata": {},
   "outputs": [
    {
     "data": {
      "image/png": "[encoded data removed]",
      "text/plain": [
       "<Figure size 792x288 with 2 Axes>"
      ]
     },
     "metadata": {
      "needs_background": "light"
     },
     "output_type": "display_data"
    },
    {
     "name": "stdout",
     "output_type": "stream",
     "text": [
      "                 precision    recall  f1-score   support\n",
      "\n",
      "         action       0.67      0.01      0.03       275\n",
      "      adventure       0.00      0.00      0.00       131\n",
      "      animation       0.00      0.00      0.00        66\n",
      "         comedy       0.49      0.56      0.52      1154\n",
      "          crime       1.00      0.00      0.01       258\n",
      "          drama       0.37      0.88      0.52      1491\n",
      "         family       0.00      0.00      0.00        54\n",
      "         horror       0.85      0.15      0.25       378\n",
      "        musical       0.00      0.00      0.00       117\n",
      "        mystery       0.00      0.00      0.00        77\n",
      "romantic comedy       0.56      0.01      0.03       346\n",
      "science fiction       0.92      0.14      0.24       160\n",
      "       thriller       0.00      0.00      0.00       242\n",
      "            war       0.00      0.00      0.00        68\n",
      "        western       1.00      0.12      0.21       216\n",
      "\n",
      "       accuracy                           0.41      5033\n",
      "      macro avg       0.39      0.13      0.12      5033\n",
      "   weighted avg       0.48      0.41      0.31      5033\n",
      "\n"
     ]
    },
    {
     "name": "stderr",
     "output_type": "stream",
     "text": [
      "/Users/annavelikobratova/miniconda3/lib/python3.8/site-packages/sklearn/metrics/_classification.py:1248: UndefinedMetricWarning: Precision and F-score are ill-defined and being set to 0.0 in labels with no predicted samples. Use `zero_division` parameter to control this behavior.\n",
      "  _warn_prf(average, modifier, msg_start, len(result))\n",
      "/Users/annavelikobratova/miniconda3/lib/python3.8/site-packages/sklearn/metrics/_classification.py:1248: UndefinedMetricWarning: Precision and F-score are ill-defined and being set to 0.0 in labels with no predicted samples. Use `zero_division` parameter to control this behavior.\n",
      "  _warn_prf(average, modifier, msg_start, len(result))\n",
      "/Users/annavelikobratova/miniconda3/lib/python3.8/site-packages/sklearn/metrics/_classification.py:1248: UndefinedMetricWarning: Precision and F-score are ill-defined and being set to 0.0 in labels with no predicted samples. Use `zero_division` parameter to control this behavior.\n",
      "  _warn_prf(average, modifier, msg_start, len(result))\n"
     ]
    }
   ],
   "source": [
    "clf = MultinomialNB()\n",
    "res = clf.fit(X_train_v, y_train)\n",
    "pred = clf.predict(X_test_v)\n",
    "metrics(y_test, pred)"
   ]
  },
  {
   "cell_type": "markdown",
   "id": "2fab58c2",
   "metadata": {},
   "source": [
    "#### Decision Tree Classifier"
   ]
  },
  {
   "cell_type": "code",
   "execution_count": 504,
   "id": "2c240b8c",
   "metadata": {},
   "outputs": [
    {
     "data": {
      "image/png": "[encoded data removed]",
      "text/plain": [
       "<Figure size 792x288 with 2 Axes>"
      ]
     },
     "metadata": {
      "needs_background": "light"
     },
     "output_type": "display_data"
    },
    {
     "name": "stdout",
     "output_type": "stream",
     "text": [
      "                 precision    recall  f1-score   support\n",
      "\n",
      "         action       0.22      0.20      0.21       275\n",
      "      adventure       0.09      0.08      0.09       131\n",
      "      animation       0.20      0.14      0.16        66\n",
      "         comedy       0.36      0.38      0.37      1154\n",
      "          crime       0.14      0.13      0.13       258\n",
      "          drama       0.40      0.44      0.42      1491\n",
      "         family       0.02      0.02      0.02        54\n",
      "         horror       0.26      0.27      0.27       378\n",
      "        musical       0.12      0.09      0.11       117\n",
      "        mystery       0.00      0.00      0.00        77\n",
      "romantic comedy       0.22      0.20      0.21       346\n",
      "science fiction       0.32      0.28      0.30       160\n",
      "       thriller       0.08      0.07      0.07       242\n",
      "            war       0.25      0.12      0.16        68\n",
      "        western       0.46      0.40      0.43       216\n",
      "\n",
      "       accuracy                           0.31      5033\n",
      "      macro avg       0.21      0.19      0.20      5033\n",
      "   weighted avg       0.30      0.31      0.30      5033\n",
      "\n"
     ]
    }
   ],
   "source": [
    "clf = tree.DecisionTreeClassifier(max_depth=140)\n",
    "res = clf.fit(X_train_v, y_train)\n",
    "pred = clf.predict(X_test_v)\n",
    "metrics(y_test, pred)"
   ]
  },
  {
   "cell_type": "markdown",
   "id": "b815f87f",
   "metadata": {},
   "source": [
    "#### Logistic Regression Classifier"
   ]
  },
  {
   "cell_type": "code",
   "execution_count": 505,
   "id": "8ad95a54",
   "metadata": {},
   "outputs": [
    {
     "data": {
      "image/png": "[encoded data removed]",
      "text/plain": [
       "<Figure size 792x288 with 2 Axes>"
      ]
     },
     "metadata": {
      "needs_background": "light"
     },
     "output_type": "display_data"
    },
    {
     "name": "stdout",
     "output_type": "stream",
     "text": [
      "                 precision    recall  f1-score   support\n",
      "\n",
      "         action       0.44      0.53      0.48       275\n",
      "      adventure       0.39      0.70      0.50       131\n",
      "      animation       0.51      0.50      0.50        66\n",
      "         comedy       0.63      0.46      0.53      1154\n",
      "          crime       0.30      0.55      0.39       258\n",
      "          drama       0.68      0.37      0.48      1491\n",
      "         family       0.16      0.24      0.19        54\n",
      "         horror       0.52      0.55      0.54       378\n",
      "        musical       0.26      0.56      0.35       117\n",
      "        mystery       0.31      0.44      0.37        77\n",
      "romantic comedy       0.32      0.54      0.41       346\n",
      "science fiction       0.59      0.70      0.64       160\n",
      "       thriller       0.30      0.34      0.32       242\n",
      "            war       0.38      0.75      0.51        68\n",
      "        western       0.78      0.94      0.85       216\n",
      "\n",
      "       accuracy                           0.49      5033\n",
      "      macro avg       0.44      0.54      0.47      5033\n",
      "   weighted avg       0.55      0.49      0.49      5033\n",
      "\n"
     ]
    }
   ],
   "source": [
    "# LogisticRegression\n",
    "clf = LogisticRegression(penalty='l2', class_weight= 'balanced')\n",
    "res = clf.fit(X_train_v, y_train)\n",
    "\n",
    "pred = clf.predict(X_test_v)\n",
    "metrics(y_test, pred)"
   ]
  },
  {
   "cell_type": "markdown",
   "id": "fa801ed0",
   "metadata": {},
   "source": [
    "Применяя разные модели обучение модель получается не достаточно точной. Проведем анализ причин."
   ]
  },
  {
   "cell_type": "markdown",
   "id": "8ff010a8",
   "metadata": {},
   "source": [
    "Из-за того, что в тренировочной выборке сильный перекос в количестве примеров для классов \"comedy\" и \"drama\" видно, что модель на них переобучилась и пытается присваивать эти жанры почти ко всем фильмам (примерно к 76% фильмов). Cделаем более сбалансированную по жанрам выборку."
   ]
  },
  {
   "cell_type": "code",
   "execution_count": 506,
   "id": "4f489686",
   "metadata": {},
   "outputs": [
    {
     "data": {
      "text/plain": [
       "science fiction    217\n",
       "comedy             217\n",
       "horror             217\n",
       "thriller           217\n",
       "crime              217\n",
       "animation          217\n",
       "family             217\n",
       "war                217\n",
       "western            217\n",
       "romantic comedy    217\n",
       "adventure          217\n",
       "musical            217\n",
       "action             217\n",
       "mystery            217\n",
       "drama              217\n",
       "Name: Genre, dtype: int64"
      ]
     },
     "execution_count": 506,
     "metadata": {},
     "output_type": "execute_result"
    }
   ],
   "source": [
    "# случайно отберем фильмы каждого жанра в объеме не превышающем минимальное кол-во сэмплов для жанра.\n",
    "\n",
    "shaffle_ttd = train_test_data.sample(frac=1)\n",
    "\n",
    "min_cnt = shaffle_ttd['Genre'].value_counts().min()\n",
    "genres = shaffle_ttd['Genre'].unique()\n",
    "ttd = shaffle_ttd.copy()\n",
    "ttd.drop(ttd.index, inplace=True)\n",
    "\n",
    "for genre in genres:\n",
    "    ttd = ttd.append(shaffle_ttd[shaffle_ttd['Genre'] == genre][0:min_cnt])\n",
    "\n",
    "ttd['Genre'].value_counts()"
   ]
  },
  {
   "cell_type": "code",
   "execution_count": 507,
   "id": "6464b770",
   "metadata": {},
   "outputs": [],
   "source": [
    "X_train, X_test, y_train, y_test = train_test_split(ttd['text_clean_normal'], ttd['Genre'], test_size=0.15, stratify=ttd['Genre'])\n",
    "\n",
    "v = TfidfVectorizer(ngram_range=(1, 2), lowercase=True, max_features=15000)\n",
    "\n",
    "X_train_v = v.fit_transform(X_train)\n",
    "X_test_v = v.transform(X_test)\n"
   ]
  },
  {
   "cell_type": "markdown",
   "id": "aba96f51",
   "metadata": {},
   "source": [
    "#### LogisticRegression"
   ]
  },
  {
   "cell_type": "code",
   "execution_count": 508,
   "id": "491f3a83",
   "metadata": {},
   "outputs": [
    {
     "data": {
      "image/png": "[encoded data removed]",
      "text/plain": [
       "<Figure size 792x288 with 2 Axes>"
      ]
     },
     "metadata": {
      "needs_background": "light"
     },
     "output_type": "display_data"
    },
    {
     "name": "stdout",
     "output_type": "stream",
     "text": [
      "                 precision    recall  f1-score   support\n",
      "\n",
      "         action       0.43      0.50      0.46        32\n",
      "      adventure       0.55      0.53      0.54        32\n",
      "      animation       0.69      0.67      0.68        33\n",
      "         comedy       0.33      0.24      0.28        33\n",
      "          crime       0.33      0.41      0.36        32\n",
      "          drama       0.65      0.33      0.44        33\n",
      "         family       0.47      0.52      0.49        33\n",
      "         horror       0.45      0.47      0.46        32\n",
      "        musical       0.58      0.55      0.56        33\n",
      "        mystery       0.59      0.52      0.55        33\n",
      "romantic comedy       0.51      0.58      0.54        33\n",
      "science fiction       0.58      0.64      0.61        33\n",
      "       thriller       0.09      0.06      0.07        33\n",
      "            war       0.62      0.94      0.75        32\n",
      "        western       0.86      0.94      0.90        32\n",
      "\n",
      "       accuracy                           0.52       489\n",
      "      macro avg       0.52      0.52      0.51       489\n",
      "   weighted avg       0.52      0.52      0.51       489\n",
      "\n"
     ]
    }
   ],
   "source": [
    "clf = LogisticRegression(penalty='l2', class_weight= 'balanced')\n",
    "res = clf.fit(X_train_v, y_train)\n",
    "\n",
    "pred = clf.predict(X_test_v)\n",
    "metrics(y_test, pred)"
   ]
  },
  {
   "cell_type": "markdown",
   "id": "88e710f4",
   "metadata": {},
   "source": [
    "Видим на heatmap, что LR-классификатор повысил точность прогноза, но точность все еще не высокая. Есть предположение, что выборка мала и для более точного предсказания нужно увеличить размер обучающей выборки.\n",
    "Проверим эту гипотезу следующим образом, у нас есть 6 жанров, количество примеров по которым более 1000 (в 5 и более раз больше чем использованая текущая выборка)."
   ]
  },
  {
   "cell_type": "code",
   "execution_count": 509,
   "id": "4b43ece7",
   "metadata": {},
   "outputs": [
    {
     "data": {
      "text/plain": [
       "['drama', 'comedy', 'horror', 'romantic comedy', 'action', 'crime']"
      ]
     },
     "execution_count": 509,
     "metadata": {},
     "output_type": "execute_result"
    }
   ],
   "source": [
    "top_genres_1000 = list(train_test_data['Genre'].value_counts()[train_test_data['Genre'].value_counts() > 1000].index)\n",
    "top_genres_1000"
   ]
  },
  {
   "cell_type": "code",
   "execution_count": 510,
   "id": "36ae11a1",
   "metadata": {},
   "outputs": [
    {
     "data": {
      "text/plain": [
       "comedy             1032\n",
       "crime              1032\n",
       "romantic comedy    1032\n",
       "drama              1032\n",
       "horror             1032\n",
       "action             1032\n",
       "Name: Genre, dtype: int64"
      ]
     },
     "execution_count": 510,
     "metadata": {},
     "output_type": "execute_result"
    }
   ],
   "source": [
    "train_test_data = train_test_data[train_test_data['Genre'].apply(lambda x: x in top_genres_1000)].copy()\n",
    "\n",
    "#Перемешаем \n",
    "shaffle_ttd = train_test_data.sample(frac=1)\n",
    "\n",
    "min_cnt = shaffle_ttd['Genre'].value_counts().min()\n",
    "genres = shaffle_ttd['Genre'].unique()\n",
    "ttd = shaffle_ttd.copy()\n",
    "ttd.drop(ttd.index, inplace=True)\n",
    "\n",
    "for genre in genres:\n",
    "    ttd = ttd.append(shaffle_ttd[shaffle_ttd['Genre'] == genre][0:min_cnt])\n",
    "\n",
    "ttd['Genre'].value_counts()"
   ]
  },
  {
   "cell_type": "code",
   "execution_count": 511,
   "id": "f8fee241",
   "metadata": {},
   "outputs": [
    {
     "data": {
      "image/png": "[encoded data removed]",
      "text/plain": [
       "<Figure size 792x288 with 2 Axes>"
      ]
     },
     "metadata": {
      "needs_background": "light"
     },
     "output_type": "display_data"
    },
    {
     "name": "stdout",
     "output_type": "stream",
     "text": [
      "                 precision    recall  f1-score   support\n",
      "\n",
      "         action       0.67      0.59      0.63       155\n",
      "         comedy       0.57      0.50      0.53       155\n",
      "          crime       0.57      0.69      0.63       154\n",
      "          drama       0.49      0.43      0.46       155\n",
      "         horror       0.70      0.75      0.72       155\n",
      "romantic comedy       0.58      0.63      0.60       155\n",
      "\n",
      "       accuracy                           0.60       929\n",
      "      macro avg       0.60      0.60      0.60       929\n",
      "   weighted avg       0.60      0.60      0.60       929\n",
      "\n"
     ]
    }
   ],
   "source": [
    "X_train, X_test, y_train, y_test = train_test_split(ttd['text_clean_normal'], ttd['Genre'], test_size=0.15, stratify=ttd['Genre'])\n",
    "\n",
    "v = TfidfVectorizer(ngram_range=(1, 2), lowercase=True, max_features=15000)\n",
    "\n",
    "X_train_v = v.fit_transform(X_train)\n",
    "X_test_v = v.transform(X_test)\n",
    "\n",
    "# LogisticRegression\n",
    "clf = LogisticRegression(penalty='l2')\n",
    "res = clf.fit(X_train_v, y_train)\n",
    "\n",
    "pred = clf.predict(X_test_v)\n",
    "\n",
    "metrics(y_test, pred)\n",
    "\n"
   ]
  },
  {
   "cell_type": "markdown",
   "id": "2b3bfc91",
   "metadata": {},
   "source": [
    "#### Gradient Boosting"
   ]
  },
  {
   "cell_type": "code",
   "execution_count": 512,
   "id": "b8ac23e0",
   "metadata": {},
   "outputs": [
    {
     "name": "stdout",
     "output_type": "stream",
     "text": [
      "Learning rate set to 0.5\n",
      "0:\tlearn: 1.4589860\ttotal: 1.01s\tremaining: 19.2s\n",
      "1:\tlearn: 1.3757815\ttotal: 1.76s\tremaining: 15.9s\n",
      "2:\tlearn: 1.3078102\ttotal: 2.49s\tremaining: 14.1s\n",
      "3:\tlearn: 1.2752245\ttotal: 3.19s\tremaining: 12.8s\n",
      "4:\tlearn: 1.2434143\ttotal: 3.9s\tremaining: 11.7s\n",
      "5:\tlearn: 1.2277768\ttotal: 4.59s\tremaining: 10.7s\n",
      "6:\tlearn: 1.2225393\ttotal: 5.28s\tremaining: 9.81s\n",
      "7:\tlearn: 1.2112577\ttotal: 5.98s\tremaining: 8.97s\n",
      "8:\tlearn: 1.2006181\ttotal: 6.68s\tremaining: 8.17s\n",
      "9:\tlearn: 1.1863855\ttotal: 7.41s\tremaining: 7.41s\n",
      "10:\tlearn: 1.1761560\ttotal: 8.09s\tremaining: 6.62s\n",
      "11:\tlearn: 1.1718585\ttotal: 8.78s\tremaining: 5.85s\n",
      "12:\tlearn: 1.1635564\ttotal: 9.47s\tremaining: 5.1s\n",
      "13:\tlearn: 1.1565790\ttotal: 10.2s\tremaining: 4.35s\n",
      "14:\tlearn: 1.1434678\ttotal: 10.9s\tremaining: 3.62s\n",
      "15:\tlearn: 1.1320970\ttotal: 11.5s\tremaining: 2.88s\n",
      "16:\tlearn: 1.1247498\ttotal: 12.2s\tremaining: 2.16s\n",
      "17:\tlearn: 1.1152673\ttotal: 12.9s\tremaining: 1.43s\n",
      "18:\tlearn: 1.1069908\ttotal: 13.6s\tremaining: 714ms\n",
      "19:\tlearn: 1.1008012\ttotal: 14.3s\tremaining: 0us\n"
     ]
    },
    {
     "data": {
      "text/plain": [
       "<catboost.core.CatBoostClassifier at 0x7ffc42017130>"
      ]
     },
     "execution_count": 512,
     "metadata": {},
     "output_type": "execute_result"
    }
   ],
   "source": [
    "from catboost import CatBoostClassifier\n",
    "\n",
    "model = CatBoostClassifier(iterations=20, text_features=['t1', 't2'])\n",
    "x= pd.DataFrame({'t1':X_train, 't2':X_train})\n",
    "x_test = pd.DataFrame({'t1':X_test, 't2':X_test})\n",
    "model.fit(x, y=y_train)\n",
    "predictions = model.predict(x_test)"
   ]
  },
  {
   "cell_type": "code",
   "execution_count": 513,
   "id": "9c231866",
   "metadata": {},
   "outputs": [
    {
     "data": {
      "image/png": "[encoded data removed]",
      "text/plain": [
       "<Figure size 792x288 with 2 Axes>"
      ]
     },
     "metadata": {
      "needs_background": "light"
     },
     "output_type": "display_data"
    },
    {
     "name": "stdout",
     "output_type": "stream",
     "text": [
      "                 precision    recall  f1-score   support\n",
      "\n",
      "         action       0.70      0.61      0.66       155\n",
      "         comedy       0.53      0.53      0.53       155\n",
      "          crime       0.57      0.83      0.68       154\n",
      "          drama       0.46      0.40      0.43       155\n",
      "         horror       0.76      0.67      0.71       155\n",
      "romantic comedy       0.62      0.56      0.59       155\n",
      "\n",
      "       accuracy                           0.60       929\n",
      "      macro avg       0.61      0.60      0.60       929\n",
      "   weighted avg       0.61      0.60      0.60       929\n",
      "\n"
     ]
    }
   ],
   "source": [
    "metrics(y_test, predictions)"
   ]
  },
  {
   "cell_type": "markdown",
   "id": "5b120965",
   "metadata": {},
   "source": [
    "Видим, что при увеличении выборки, точность повысилась примерно на 8%. При этом заметим, что классы 0, 2 и 4 предсказывается хорошо, а 1, 3 и 5 хуже. Попробуем разобраться в чем причина."
   ]
  },
  {
   "cell_type": "code",
   "execution_count": 514,
   "id": "72b57a97",
   "metadata": {
    "scrolled": true
   },
   "outputs": [
    {
     "data": {
      "text/plain": [
       "['action', 'comedy', 'crime', 'drama', 'horror', 'romantic comedy']"
      ]
     },
     "execution_count": 514,
     "metadata": {},
     "output_type": "execute_result"
    }
   ],
   "source": [
    "[res.classes_[x] for x in range(6)] "
   ]
  },
  {
   "cell_type": "markdown",
   "id": "f969ffa4",
   "metadata": {},
   "source": [
    "Жанры с плохим качеством предсказания, это жанры к которым подмешивали жанры с похожими названиями (\"comedy, drama\" => \"comedy\") и жанр \"romantic comedy\" судя по названию и предсказанию имеет схожесть с жанром \"comedy\". Проверим гипотезу влияния на отмене подмешивания \"comedy, drama\" в \"comedy\"."
   ]
  },
  {
   "cell_type": "code",
   "execution_count": 515,
   "id": "30e15cff",
   "metadata": {},
   "outputs": [],
   "source": [
    "train_test_data = df[df['Genre'] != 'unknown'].copy()\n",
    "to_predict = df[df['Genre'] == 'unknown'].copy()"
   ]
  },
  {
   "cell_type": "code",
   "execution_count": 516,
   "id": "6aae8031",
   "metadata": {},
   "outputs": [],
   "source": [
    "top_genres = ['family', 'sci-fi', 'comedy, drama', \n",
    "              'animation', 'war', 'mystery', 'film noir',\n",
    "              'science fiction', 'romantic comedy', 'crime drama', \n",
    "              'musical', 'adventure', 'crime', 'western', 'romance',\n",
    "              'thriller', 'action', 'horror', 'comedy', 'drama']\n",
    "train_test_data = train_test_data[train_test_data['Genre'].apply(lambda x: x in top_ganres)].copy()"
   ]
  },
  {
   "cell_type": "code",
   "execution_count": 517,
   "id": "e120532d",
   "metadata": {},
   "outputs": [
    {
     "data": {
      "text/plain": [
       "<AxesSubplot:ylabel='Genre'>"
      ]
     },
     "execution_count": 517,
     "metadata": {},
     "output_type": "execute_result"
    },
    {
     "data": {
      "image/png": "[encoded data removed]",
      "text/plain": [
       "<Figure size 432x288 with 1 Axes>"
      ]
     },
     "metadata": {
      "needs_background": "light"
     },
     "output_type": "display_data"
    }
   ],
   "source": [
    "#train_test_data['Genre'] = train_test_data['Genre'].apply(lambda x: \"science fiction\" if x == \"sci-fi\" else x)\n",
    "#train_test_data['Genre'] = train_test_data['Genre'].apply(lambda x: \"horror\" if x == \"film noir\" else x)\n",
    "#train_test_data['Genre'] = train_test_data['Genre'].apply(lambda x: \"romantic comedy\" if x == \"romance\" else x)\n",
    "#train_test_data['Genre'] = train_test_data['Genre'].apply(lambda x: \"crime\" if x == \"crime drama\" else x)\n",
    "# train_test_data['Genre'] = train_test_data['Genre'].apply(lambda x: \"comedy\" if x == \"comedy, drama\" else x)\n",
    "train_test_data.groupby(['Genre'])['g_cnt'].count().sort_values(ascending=True).plot.barh()"
   ]
  },
  {
   "cell_type": "code",
   "execution_count": 518,
   "id": "75aeb409",
   "metadata": {},
   "outputs": [
    {
     "data": {
      "text/plain": [
       "['drama', 'comedy', 'horror', 'action', 'thriller', 'romance']"
      ]
     },
     "execution_count": 518,
     "metadata": {},
     "output_type": "execute_result"
    }
   ],
   "source": [
    "top_genres_1000 = list(train_test_data['Genre'].value_counts()[train_test_data['Genre'].value_counts() > 900].index)\n",
    "top_genres_1000"
   ]
  },
  {
   "cell_type": "code",
   "execution_count": 519,
   "id": "3129261a",
   "metadata": {},
   "outputs": [
    {
     "data": {
      "text/plain": [
       "romance     923\n",
       "comedy      923\n",
       "drama       923\n",
       "horror      923\n",
       "thriller    923\n",
       "action      923\n",
       "Name: Genre, dtype: int64"
      ]
     },
     "execution_count": 519,
     "metadata": {},
     "output_type": "execute_result"
    }
   ],
   "source": [
    "train_test_data = train_test_data[train_test_data['Genre'].apply(lambda x: x in top_genres_1000)].copy()\n",
    "\n",
    "#Перемешаем \n",
    "shaffle_ttd = train_test_data.sample(frac=1)\n",
    "\n",
    "min_cnt = shaffle_ttd['Genre'].value_counts().min()\n",
    "genres = shaffle_ttd['Genre'].unique()\n",
    "ttd = shaffle_ttd.copy()\n",
    "ttd.drop(ttd.index, inplace=True)\n",
    "\n",
    "for genre in genres:\n",
    "    ttd = ttd.append(shaffle_ttd[shaffle_ttd['Genre'] == genre][0:min_cnt])\n",
    "\n",
    "ttd['Genre'].value_counts()"
   ]
  },
  {
   "cell_type": "code",
   "execution_count": 520,
   "id": "8cd5caa6",
   "metadata": {},
   "outputs": [
    {
     "data": {
      "image/png": "[encoded data removed]",
      "text/plain": [
       "<Figure size 792x288 with 2 Axes>"
      ]
     },
     "metadata": {
      "needs_background": "light"
     },
     "output_type": "display_data"
    },
    {
     "name": "stdout",
     "output_type": "stream",
     "text": [
      "              precision    recall  f1-score   support\n",
      "\n",
      "      action       0.71      0.70      0.71       138\n",
      "      comedy       0.61      0.60      0.61       139\n",
      "       drama       0.56      0.45      0.50       138\n",
      "      horror       0.74      0.91      0.81       139\n",
      "     romance       0.57      0.65      0.61       138\n",
      "    thriller       0.54      0.46      0.50       139\n",
      "\n",
      "    accuracy                           0.63       831\n",
      "   macro avg       0.62      0.63      0.62       831\n",
      "weighted avg       0.62      0.63      0.62       831\n",
      "\n"
     ]
    }
   ],
   "source": [
    "X_train, X_test, y_train, y_test = train_test_split(ttd['text_clean_normal'], ttd['Genre'], test_size=0.15, stratify=ttd['Genre'])\n",
    "\n",
    "v = TfidfVectorizer(ngram_range=(1, 2), lowercase=True, max_features=15000)\n",
    "\n",
    "X_train_v = v.fit_transform(X_train)\n",
    "X_test_v = v.transform(X_test)\n",
    "\n",
    "# LogisticRegression\n",
    "clf_exp = LogisticRegression(penalty='l2')\n",
    "res = clf_exp.fit(X_train_v, y_train)\n",
    "\n",
    "pred = clf_exp.predict(X_test_v)\n",
    "\n",
    "metrics(y_test, pred)"
   ]
  },
  {
   "cell_type": "code",
   "execution_count": 521,
   "id": "94e131e7",
   "metadata": {},
   "outputs": [
    {
     "data": {
      "text/plain": [
       "['action', 'comedy', 'drama', 'horror', 'romance', 'thriller']"
      ]
     },
     "execution_count": 521,
     "metadata": {},
     "output_type": "execute_result"
    }
   ],
   "source": [
    "[res.classes_[x] for x in range(6) ]"
   ]
  },
  {
   "cell_type": "markdown",
   "id": "156fcb4a",
   "metadata": {},
   "source": [
    "**Вывод**: _Отмена смешивания похожих классов помогла повысить качество предсказания жара comedy (recall +7%), но на общую картину сильно не повлияла, что говорит о том, что на самом деле эти жанры достаточно похожи по описаниям (`plot`). При этом точность достаточно хорошо растет при увеличении обучающей выборки._"
   ]
  },
  {
   "cell_type": "markdown",
   "id": "2b7fa67f",
   "metadata": {},
   "source": [
    "**Глобальный вывод**: _Основываясь на иссследорваниях и тестировании  метода токенизации CountVectorizer проведенных в https://www.kaggle.com/salikhussaini49/movie-plots-analysis-prediction можно сделать вывод о том, что точность модели не улучшается. Увеличить точность можно с помощью приведения мультиклассовой классификации в бинарную (например предсказать комедия это или нет), повысить качество предсказания можно примерно до 85%._"
   ]
  },
  {
   "cell_type": "markdown",
   "id": "eb243a0f",
   "metadata": {},
   "source": [
    "### Предсказание для df.Genre == 'unknown'"
   ]
  },
  {
   "cell_type": "markdown",
   "id": "29430b19",
   "metadata": {},
   "source": [
    "Применим обученную модель для набора `df.Genre == 'unknown'`"
   ]
  },
  {
   "cell_type": "code",
   "execution_count": 524,
   "id": "9a8beaa6",
   "metadata": {},
   "outputs": [
    {
     "name": "stdout",
     "output_type": "stream",
     "text": [
      "https://en.wikipedia.org/wiki/Love_by_the_Light_of_the_Moon\n",
      "https://en.wikipedia.org/wiki/A_Christmas_Carol_(1910_film)\n",
      "https://en.wikipedia.org/wiki/What_the_Daisy_Said\n",
      "https://en.wikipedia.org/wiki/The_Land_Beyond_the_Sunset\n",
      "https://en.wikipedia.org/wiki/The_New_York_Hat\n",
      "https://en.wikipedia.org/wiki/Atlantis_(1913_film)\n",
      "https://en.wikipedia.org/wiki/His_Majesty,_the_Scarecrow_of_Oz\n",
      "https://en.wikipedia.org/wiki/My_Boy_(1921_film)\n",
      "https://en.wikipedia.org/wiki/The_Midnight_Girl\n",
      "https://en.wikipedia.org/wiki/Sparrows_(1926_film)\n"
     ]
    }
   ],
   "source": [
    "X_pred_v = v.transform(to_predict['text_clean_normal'])\n",
    "to_predict['p_genre'] = clf.predict(X_pred_v)\n",
    "\n",
    "for lnk in to_predict[to_predict['p_genre'] == 'comedy']['Wiki Page'].head(10):\n",
    "    print(lnk)"
   ]
  },
  {
   "cell_type": "markdown",
   "id": "bea5fd1e",
   "metadata": {},
   "source": [
    "## Подготовим sentiment analysis для поля Plot"
   ]
  },
  {
   "cell_type": "markdown",
   "id": "2da566ff",
   "metadata": {},
   "source": [
    "### Обучим классификатор на выборке imdb\n",
    "\n",
    "https://www.kaggle.com/lakshmi25npathi/imdb-dataset-of-50k-movie-reviews"
   ]
  },
  {
   "cell_type": "code",
   "execution_count": 541,
   "id": "bff10b19",
   "metadata": {},
   "outputs": [
    {
     "data": {
      "text/html": [
       "<div>\n",
       "<style scoped>\n",
       "    .dataframe tbody tr th:only-of-type {\n",
       "        vertical-align: middle;\n",
       "    }\n",
       "\n",
       "    .dataframe tbody tr th {\n",
       "        vertical-align: top;\n",
       "    }\n",
       "\n",
       "    .dataframe thead th {\n",
       "        text-align: right;\n",
       "    }\n",
       "</style>\n",
       "<table border=\"1\" class=\"dataframe\">\n",
       "  <thead>\n",
       "    <tr style=\"text-align: right;\">\n",
       "      <th></th>\n",
       "      <th>review</th>\n",
       "      <th>sentiment</th>\n",
       "    </tr>\n",
       "  </thead>\n",
       "  <tbody>\n",
       "    <tr>\n",
       "      <th>0</th>\n",
       "      <td>One of the other reviewers has mentioned that ...</td>\n",
       "      <td>positive</td>\n",
       "    </tr>\n",
       "    <tr>\n",
       "      <th>1</th>\n",
       "      <td>A wonderful little production. &lt;br /&gt;&lt;br /&gt;The...</td>\n",
       "      <td>positive</td>\n",
       "    </tr>\n",
       "    <tr>\n",
       "      <th>2</th>\n",
       "      <td>I thought this was a wonderful way to spend ti...</td>\n",
       "      <td>positive</td>\n",
       "    </tr>\n",
       "    <tr>\n",
       "      <th>3</th>\n",
       "      <td>Basically there's a family where a little boy ...</td>\n",
       "      <td>negative</td>\n",
       "    </tr>\n",
       "    <tr>\n",
       "      <th>4</th>\n",
       "      <td>Petter Mattei's \"Love in the Time of Money\" is...</td>\n",
       "      <td>positive</td>\n",
       "    </tr>\n",
       "  </tbody>\n",
       "</table>\n",
       "</div>"
      ],
      "text/plain": [
       "                                              review sentiment\n",
       "0  One of the other reviewers has mentioned that ...  positive\n",
       "1  A wonderful little production. <br /><br />The...  positive\n",
       "2  I thought this was a wonderful way to spend ti...  positive\n",
       "3  Basically there's a family where a little boy ...  negative\n",
       "4  Petter Mattei's \"Love in the Time of Money\" is...  positive"
      ]
     },
     "execution_count": 541,
     "metadata": {},
     "output_type": "execute_result"
    }
   ],
   "source": [
    "df_imdb = pd.read_csv('data/IMDB Dataset.csv')\n",
    "df_imdb.head(5)"
   ]
  },
  {
   "cell_type": "code",
   "execution_count": 526,
   "id": "a83f4564",
   "metadata": {},
   "outputs": [
    {
     "data": {
      "text/html": [
       "<div>\n",
       "<style scoped>\n",
       "    .dataframe tbody tr th:only-of-type {\n",
       "        vertical-align: middle;\n",
       "    }\n",
       "\n",
       "    .dataframe tbody tr th {\n",
       "        vertical-align: top;\n",
       "    }\n",
       "\n",
       "    .dataframe thead th {\n",
       "        text-align: right;\n",
       "    }\n",
       "</style>\n",
       "<table border=\"1\" class=\"dataframe\">\n",
       "  <thead>\n",
       "    <tr style=\"text-align: right;\">\n",
       "      <th></th>\n",
       "      <th>review</th>\n",
       "      <th>sentiment</th>\n",
       "    </tr>\n",
       "  </thead>\n",
       "  <tbody>\n",
       "    <tr>\n",
       "      <th>count</th>\n",
       "      <td>50000</td>\n",
       "      <td>50000</td>\n",
       "    </tr>\n",
       "    <tr>\n",
       "      <th>unique</th>\n",
       "      <td>49582</td>\n",
       "      <td>2</td>\n",
       "    </tr>\n",
       "    <tr>\n",
       "      <th>top</th>\n",
       "      <td>Loved today's show!!! It was a variety and not...</td>\n",
       "      <td>negative</td>\n",
       "    </tr>\n",
       "    <tr>\n",
       "      <th>freq</th>\n",
       "      <td>5</td>\n",
       "      <td>25000</td>\n",
       "    </tr>\n",
       "  </tbody>\n",
       "</table>\n",
       "</div>"
      ],
      "text/plain": [
       "                                                   review sentiment\n",
       "count                                               50000     50000\n",
       "unique                                              49582         2\n",
       "top     Loved today's show!!! It was a variety and not...  negative\n",
       "freq                                                    5     25000"
      ]
     },
     "execution_count": 526,
     "metadata": {},
     "output_type": "execute_result"
    }
   ],
   "source": [
    "df_imdb.describe()"
   ]
  },
  {
   "cell_type": "code",
   "execution_count": 531,
   "id": "d297b567",
   "metadata": {},
   "outputs": [
    {
     "data": {
      "text/plain": [
       "0    one reviewer ha mentioned watching  oz episode...\n",
       "1    wonderful little production filming technique ...\n",
       "2    thought wa wonderful way spend time hot summer...\n",
       "3    basically family little boy jake think zombie ...\n",
       "4    petter mattei love time money visually stunnin...\n",
       "Name: text_clean_normal, dtype: object"
      ]
     },
     "execution_count": 531,
     "metadata": {},
     "output_type": "execute_result"
    }
   ],
   "source": [
    "# Предобработка review (Токенизация, лематизация, удаление стоп-слов, удаление пунктуации и цифр)\n",
    "\n",
    "# Обработаем данные\n",
    "import os.path\n",
    "\n",
    "if not os.path.exists('data/sentiment_cleaned_txt.pkl'):\n",
    "    df_imdb['text_clean_normal'] = df_imdb['review'].apply(nltk_process) \n",
    "    with open('data/sentiment_cleaned_txt.pkl', 'wb') as f:\n",
    "        pickle.dump(df_imdb['text_clean_normal'],f)\n",
    "\n",
    "with open('data/sentiment_cleaned_txt.pkl', 'rb') as f:\n",
    "    df_imdb['text_clean_normal'] = pickle.load(f)\n",
    "\n",
    "df_imdb['text_clean_normal'].head(5)"
   ]
  },
  {
   "cell_type": "code",
   "execution_count": 532,
   "id": "10b55048",
   "metadata": {},
   "outputs": [
    {
     "data": {
      "image/png": "[encoded data removed]",
      "text/plain": [
       "<Figure size 792x288 with 2 Axes>"
      ]
     },
     "metadata": {
      "needs_background": "light"
     },
     "output_type": "display_data"
    },
    {
     "name": "stdout",
     "output_type": "stream",
     "text": [
      "              precision    recall  f1-score   support\n",
      "\n",
      "    negative       0.91      0.89      0.90      6331\n",
      "    positive       0.89      0.90      0.90      6169\n",
      "\n",
      "    accuracy                           0.90     12500\n",
      "   macro avg       0.90      0.90      0.90     12500\n",
      "weighted avg       0.90      0.90      0.90     12500\n",
      "\n"
     ]
    }
   ],
   "source": [
    "# разобъем данные на обучающую и тестовые выборки\n",
    "X_train, X_test, y_train, y_test = train_test_split(df_imdb['text_clean_normal'], df_imdb['sentiment'], test_size=0.25)\n",
    "\n",
    "# векторизуем данные\n",
    "v = TfidfVectorizer(ngram_range=(1, 2), lowercase=True, max_features=15000)\n",
    "X_train_v = v.fit_transform(X_train)\n",
    "X_test_v = v.transform(X_test)\n",
    "\n",
    "# Построим классификатор с помощю Логистической регрессии\n",
    "clf = LogisticRegression(penalty='l2')\n",
    "res = clf.fit(X_train_v, y_train)\n",
    "\n",
    "# Проверим качество модели\n",
    "pred = clf.predict(X_test_v)\n",
    "metrics(y_test, pred)"
   ]
  },
  {
   "cell_type": "markdown",
   "id": "fc57b64c",
   "metadata": {},
   "source": [
    "**Вывод**: _Точность LR-классификатора сентемента составила 89%._"
   ]
  },
  {
   "cell_type": "markdown",
   "id": "b9e49ef4",
   "metadata": {},
   "source": [
    "### Применим полученный классификатор к нормализованному полю Plot"
   ]
  },
  {
   "cell_type": "code",
   "execution_count": 533,
   "id": "9d64a02d",
   "metadata": {},
   "outputs": [],
   "source": [
    "X = v.transform(df['text_clean_normal'])\n",
    "df['sentiment'] = clf.predict(X)"
   ]
  },
  {
   "cell_type": "code",
   "execution_count": 534,
   "id": "bb46c1eb",
   "metadata": {},
   "outputs": [
    {
     "data": {
      "text/html": [
       "<div>\n",
       "<style scoped>\n",
       "    .dataframe tbody tr th:only-of-type {\n",
       "        vertical-align: middle;\n",
       "    }\n",
       "\n",
       "    .dataframe tbody tr th {\n",
       "        vertical-align: top;\n",
       "    }\n",
       "\n",
       "    .dataframe thead th {\n",
       "        text-align: right;\n",
       "    }\n",
       "</style>\n",
       "<table border=\"1\" class=\"dataframe\">\n",
       "  <thead>\n",
       "    <tr style=\"text-align: right;\">\n",
       "      <th></th>\n",
       "      <th>Title</th>\n",
       "      <th>sentiment</th>\n",
       "    </tr>\n",
       "  </thead>\n",
       "  <tbody>\n",
       "    <tr>\n",
       "      <th>0</th>\n",
       "      <td>Kansas Saloon Smashers</td>\n",
       "      <td>negative</td>\n",
       "    </tr>\n",
       "    <tr>\n",
       "      <th>1</th>\n",
       "      <td>Love by the Light of the Moon</td>\n",
       "      <td>positive</td>\n",
       "    </tr>\n",
       "    <tr>\n",
       "      <th>2</th>\n",
       "      <td>The Martyred Presidents</td>\n",
       "      <td>negative</td>\n",
       "    </tr>\n",
       "    <tr>\n",
       "      <th>3</th>\n",
       "      <td>Terrible Teddy, the Grizzly King</td>\n",
       "      <td>negative</td>\n",
       "    </tr>\n",
       "    <tr>\n",
       "      <th>4</th>\n",
       "      <td>Jack and the Beanstalk</td>\n",
       "      <td>positive</td>\n",
       "    </tr>\n",
       "  </tbody>\n",
       "</table>\n",
       "</div>"
      ],
      "text/plain": [
       "                              Title sentiment\n",
       "0            Kansas Saloon Smashers  negative\n",
       "1     Love by the Light of the Moon  positive\n",
       "2           The Martyred Presidents  negative\n",
       "3  Terrible Teddy, the Grizzly King  negative\n",
       "4            Jack and the Beanstalk  positive"
      ]
     },
     "execution_count": 534,
     "metadata": {},
     "output_type": "execute_result"
    }
   ],
   "source": [
    "df[['Title', 'sentiment']].head(5)"
   ]
  },
  {
   "cell_type": "markdown",
   "id": "bc65ef75",
   "metadata": {},
   "source": [
    "### Оценим, как распределяется sentiment по актерам, режиссерам и жанрам"
   ]
  },
  {
   "cell_type": "code",
   "execution_count": 535,
   "id": "1f4dba93",
   "metadata": {},
   "outputs": [
    {
     "data": {
      "text/html": [
       "<div>\n",
       "<style scoped>\n",
       "    .dataframe tbody tr th:only-of-type {\n",
       "        vertical-align: middle;\n",
       "    }\n",
       "\n",
       "    .dataframe tbody tr th {\n",
       "        vertical-align: top;\n",
       "    }\n",
       "\n",
       "    .dataframe thead th {\n",
       "        text-align: right;\n",
       "    }\n",
       "</style>\n",
       "<table border=\"1\" class=\"dataframe\">\n",
       "  <thead>\n",
       "    <tr style=\"text-align: right;\">\n",
       "      <th>sentiment</th>\n",
       "      <th>negative</th>\n",
       "      <th>positive</th>\n",
       "      <th>total</th>\n",
       "    </tr>\n",
       "    <tr>\n",
       "      <th>Director</th>\n",
       "      <th></th>\n",
       "      <th></th>\n",
       "      <th></th>\n",
       "    </tr>\n",
       "  </thead>\n",
       "  <tbody>\n",
       "    <tr>\n",
       "      <th>Michael Curtiz</th>\n",
       "      <td>8</td>\n",
       "      <td>26</td>\n",
       "      <td>34</td>\n",
       "    </tr>\n",
       "    <tr>\n",
       "      <th>Lloyd Bacon</th>\n",
       "      <td>10</td>\n",
       "      <td>21</td>\n",
       "      <td>31</td>\n",
       "    </tr>\n",
       "    <tr>\n",
       "      <th>Gordon Douglas</th>\n",
       "      <td>8</td>\n",
       "      <td>19</td>\n",
       "      <td>27</td>\n",
       "    </tr>\n",
       "    <tr>\n",
       "      <th>Mervyn LeRoy</th>\n",
       "      <td>7</td>\n",
       "      <td>20</td>\n",
       "      <td>27</td>\n",
       "    </tr>\n",
       "    <tr>\n",
       "      <th>Richard Fleischer</th>\n",
       "      <td>6</td>\n",
       "      <td>18</td>\n",
       "      <td>24</td>\n",
       "    </tr>\n",
       "    <tr>\n",
       "      <th>Phil Karlson</th>\n",
       "      <td>6</td>\n",
       "      <td>17</td>\n",
       "      <td>23</td>\n",
       "    </tr>\n",
       "    <tr>\n",
       "      <th>Henry Hathaway</th>\n",
       "      <td>7</td>\n",
       "      <td>16</td>\n",
       "      <td>23</td>\n",
       "    </tr>\n",
       "    <tr>\n",
       "      <th>Arthur Lubin</th>\n",
       "      <td>7</td>\n",
       "      <td>15</td>\n",
       "      <td>22</td>\n",
       "    </tr>\n",
       "    <tr>\n",
       "      <th>William Beaudine</th>\n",
       "      <td>8</td>\n",
       "      <td>14</td>\n",
       "      <td>22</td>\n",
       "    </tr>\n",
       "    <tr>\n",
       "      <th>Alfred E. Green</th>\n",
       "      <td>5</td>\n",
       "      <td>17</td>\n",
       "      <td>22</td>\n",
       "    </tr>\n",
       "    <tr>\n",
       "      <th>Raoul Walsh</th>\n",
       "      <td>5</td>\n",
       "      <td>16</td>\n",
       "      <td>21</td>\n",
       "    </tr>\n",
       "    <tr>\n",
       "      <th>Roy Del Ruth</th>\n",
       "      <td>6</td>\n",
       "      <td>15</td>\n",
       "      <td>21</td>\n",
       "    </tr>\n",
       "    <tr>\n",
       "      <th>Richard Thorpe</th>\n",
       "      <td>5</td>\n",
       "      <td>16</td>\n",
       "      <td>21</td>\n",
       "    </tr>\n",
       "    <tr>\n",
       "      <th>W. S. Van Dyke</th>\n",
       "      <td>5</td>\n",
       "      <td>16</td>\n",
       "      <td>21</td>\n",
       "    </tr>\n",
       "    <tr>\n",
       "      <th>William A. Wellman</th>\n",
       "      <td>6</td>\n",
       "      <td>15</td>\n",
       "      <td>21</td>\n",
       "    </tr>\n",
       "    <tr>\n",
       "      <th>Jack Conway</th>\n",
       "      <td>5</td>\n",
       "      <td>16</td>\n",
       "      <td>21</td>\n",
       "    </tr>\n",
       "    <tr>\n",
       "      <th>John Sturges</th>\n",
       "      <td>7</td>\n",
       "      <td>13</td>\n",
       "      <td>20</td>\n",
       "    </tr>\n",
       "    <tr>\n",
       "      <th>Allan Dwan</th>\n",
       "      <td>4</td>\n",
       "      <td>16</td>\n",
       "      <td>20</td>\n",
       "    </tr>\n",
       "    <tr>\n",
       "      <th>Howard Hawks</th>\n",
       "      <td>5</td>\n",
       "      <td>15</td>\n",
       "      <td>20</td>\n",
       "    </tr>\n",
       "    <tr>\n",
       "      <th>William Castle</th>\n",
       "      <td>7</td>\n",
       "      <td>13</td>\n",
       "      <td>20</td>\n",
       "    </tr>\n",
       "    <tr>\n",
       "      <th>Ray Enright</th>\n",
       "      <td>7</td>\n",
       "      <td>13</td>\n",
       "      <td>20</td>\n",
       "    </tr>\n",
       "  </tbody>\n",
       "</table>\n",
       "</div>"
      ],
      "text/plain": [
       "sentiment           negative  positive  total\n",
       "Director                                     \n",
       "Michael Curtiz             8        26     34\n",
       "Lloyd Bacon               10        21     31\n",
       "Gordon Douglas             8        19     27\n",
       "Mervyn LeRoy               7        20     27\n",
       "Richard Fleischer          6        18     24\n",
       "Phil Karlson               6        17     23\n",
       "Henry Hathaway             7        16     23\n",
       "Arthur Lubin               7        15     22\n",
       "William Beaudine           8        14     22\n",
       "Alfred E. Green            5        17     22\n",
       "Raoul Walsh                5        16     21\n",
       "Roy Del Ruth               6        15     21\n",
       "Richard Thorpe             5        16     21\n",
       "W. S. Van Dyke             5        16     21\n",
       "William A. Wellman         6        15     21\n",
       "Jack Conway                5        16     21\n",
       "John Sturges               7        13     20\n",
       "Allan Dwan                 4        16     20\n",
       "Howard Hawks               5        15     20\n",
       "William Castle             7        13     20\n",
       "Ray Enright                7        13     20"
      ]
     },
     "execution_count": 535,
     "metadata": {},
     "output_type": "execute_result"
    }
   ],
   "source": [
    "dir_sent = df[['Director', 'sentiment', 'Genre']].copy()\n",
    "dir_sent = dir_sent[dir_sent['Director'] != 'Unknown'].copy()\n",
    "table = pd.pivot_table(dir_sent, values='Genre', index=['Director'],\n",
    "                    columns=['sentiment'], aggfunc=lambda x: len(x.unique()), fill_value=0)\n",
    "\n",
    "table['total'] = table['positive'] +  table['negative']\n",
    "table.sort_values(by='total', ascending=False).head(21)"
   ]
  },
  {
   "cell_type": "markdown",
   "id": "199d823d",
   "metadata": {},
   "source": [
    "**Вывод**: _Режиссеры снявщие наибольшое количество фильмов имеют описание фильма с позитивным сентиментом._"
   ]
  },
  {
   "cell_type": "code",
   "execution_count": 536,
   "id": "3e1cd995",
   "metadata": {},
   "outputs": [
    {
     "data": {
      "text/html": [
       "<div>\n",
       "<style scoped>\n",
       "    .dataframe tbody tr th:only-of-type {\n",
       "        vertical-align: middle;\n",
       "    }\n",
       "\n",
       "    .dataframe tbody tr th {\n",
       "        vertical-align: top;\n",
       "    }\n",
       "\n",
       "    .dataframe thead th {\n",
       "        text-align: right;\n",
       "    }\n",
       "</style>\n",
       "<table border=\"1\" class=\"dataframe\">\n",
       "  <thead>\n",
       "    <tr style=\"text-align: right;\">\n",
       "      <th></th>\n",
       "      <th>Cast</th>\n",
       "      <th>sentiment</th>\n",
       "      <th>Cast_list</th>\n",
       "    </tr>\n",
       "  </thead>\n",
       "  <tbody>\n",
       "    <tr>\n",
       "      <th>5</th>\n",
       "      <td>May Clark</td>\n",
       "      <td>negative</td>\n",
       "      <td>[May Clark]</td>\n",
       "    </tr>\n",
       "    <tr>\n",
       "      <th>13</th>\n",
       "      <td>William Craven, Florence Lawrence</td>\n",
       "      <td>positive</td>\n",
       "      <td>[William Craven, Florence Lawrence]</td>\n",
       "    </tr>\n",
       "    <tr>\n",
       "      <th>15</th>\n",
       "      <td>Bertha Regustus, Edward Boulden</td>\n",
       "      <td>positive</td>\n",
       "      <td>[Bertha Regustus, Edward Boulden]</td>\n",
       "    </tr>\n",
       "    <tr>\n",
       "      <th>16</th>\n",
       "      <td>Arthur V. Johnson, Linda Arvidson</td>\n",
       "      <td>positive</td>\n",
       "      <td>[Arthur V. Johnson, Linda Arvidson]</td>\n",
       "    </tr>\n",
       "    <tr>\n",
       "      <th>17</th>\n",
       "      <td>D. W. Griffith</td>\n",
       "      <td>positive</td>\n",
       "      <td>[D. W. Griffith]</td>\n",
       "    </tr>\n",
       "    <tr>\n",
       "      <th>...</th>\n",
       "      <td>...</td>\n",
       "      <td>...</td>\n",
       "      <td>...</td>\n",
       "    </tr>\n",
       "    <tr>\n",
       "      <th>34881</th>\n",
       "      <td>Director: Russell Crowe, Cast: Russell Crowe, ...</td>\n",
       "      <td>positive</td>\n",
       "      <td>[Director: Russell Crowe, Cast: Russell Crowe,...</td>\n",
       "    </tr>\n",
       "    <tr>\n",
       "      <th>34882</th>\n",
       "      <td>Ahmet Kural, Murat Cemcir</td>\n",
       "      <td>positive</td>\n",
       "      <td>[Ahmet Kural, Murat Cemcir]</td>\n",
       "    </tr>\n",
       "    <tr>\n",
       "      <th>34883</th>\n",
       "      <td>Ata Demirer, Tuvana Türkay, Ülkü Duru</td>\n",
       "      <td>positive</td>\n",
       "      <td>[Ata Demirer, Tuvana Türkay, Ülkü Duru]</td>\n",
       "    </tr>\n",
       "    <tr>\n",
       "      <th>34884</th>\n",
       "      <td>YouTubers Shanna Malcolm, Shira Lazar, Sara Fl...</td>\n",
       "      <td>negative</td>\n",
       "      <td>[YouTubers Shanna Malcolm, Shira Lazar, Sara F...</td>\n",
       "    </tr>\n",
       "    <tr>\n",
       "      <th>34885</th>\n",
       "      <td>Halit Ergenç, Tuba Büyüküstün, Mehmet Günsür, ...</td>\n",
       "      <td>positive</td>\n",
       "      <td>[Halit Ergenç, Tuba Büyüküstün, Mehmet Günsür,...</td>\n",
       "    </tr>\n",
       "  </tbody>\n",
       "</table>\n",
       "<p>33463 rows × 3 columns</p>\n",
       "</div>"
      ],
      "text/plain": [
       "                                                    Cast sentiment  \\\n",
       "5                                              May Clark  negative   \n",
       "13                     William Craven, Florence Lawrence  positive   \n",
       "15                       Bertha Regustus, Edward Boulden  positive   \n",
       "16                     Arthur V. Johnson, Linda Arvidson  positive   \n",
       "17                                        D. W. Griffith  positive   \n",
       "...                                                  ...       ...   \n",
       "34881  Director: Russell Crowe, Cast: Russell Crowe, ...  positive   \n",
       "34882                          Ahmet Kural, Murat Cemcir  positive   \n",
       "34883              Ata Demirer, Tuvana Türkay, Ülkü Duru  positive   \n",
       "34884  YouTubers Shanna Malcolm, Shira Lazar, Sara Fl...  negative   \n",
       "34885  Halit Ergenç, Tuba Büyüküstün, Mehmet Günsür, ...  positive   \n",
       "\n",
       "                                               Cast_list  \n",
       "5                                            [May Clark]  \n",
       "13                   [William Craven, Florence Lawrence]  \n",
       "15                     [Bertha Regustus, Edward Boulden]  \n",
       "16                   [Arthur V. Johnson, Linda Arvidson]  \n",
       "17                                      [D. W. Griffith]  \n",
       "...                                                  ...  \n",
       "34881  [Director: Russell Crowe, Cast: Russell Crowe,...  \n",
       "34882                        [Ahmet Kural, Murat Cemcir]  \n",
       "34883            [Ata Demirer, Tuvana Türkay, Ülkü Duru]  \n",
       "34884  [YouTubers Shanna Malcolm, Shira Lazar, Sara F...  \n",
       "34885  [Halit Ergenç, Tuba Büyüküstün, Mehmet Günsür,...  \n",
       "\n",
       "[33463 rows x 3 columns]"
      ]
     },
     "execution_count": 536,
     "metadata": {},
     "output_type": "execute_result"
    }
   ],
   "source": [
    "# Актеры\n",
    "cast_sent = df[['Cast', 'sentiment']].copy()\n",
    "cast_sent = cast_sent.dropna()\n",
    "cast_sent = cast_sent[cast_sent['Cast'] != 'unknown'].copy()\n",
    "cast_sent = cast_sent[cast_sent['Cast'] != 'Unknown'].copy()\n",
    "cast_sent['Cast'] = cast_sent['Cast'].apply(lambda x: x.replace(', Jr.', ' Jr.'))\n",
    "cast_sent['Cast'] = cast_sent['Cast'].apply(lambda x: x.replace('\\r\\n', ', '))\n",
    "cast_sent['Cast_list'] = cast_sent['Cast'].apply(lambda x: re.split(r' ?, ?| ?\\/ ?| ?& ?', x))\n",
    "cast_sent"
   ]
  },
  {
   "cell_type": "code",
   "execution_count": 537,
   "id": "2a4887c1",
   "metadata": {},
   "outputs": [],
   "source": [
    "_tmp = set()\n",
    "for cast in cast_sent['Cast_list']:\n",
    "    for actor in cast:\n",
    "        _tmp.add(actor)\n",
    "\n",
    "cast_dict = {'actor': [], 'sent': []}\n",
    "for actor in _tmp:\n",
    "    sents = cast_sent[cast_sent['Cast_list'].apply(lambda x: actor in x)]['sentiment'].to_list()\n",
    "    cast_dict['actor'] += [actor]*len(sents)\n",
    "    cast_dict['sent'] += sents\n",
    "actor_sent_df = pd.DataFrame(cast_dict)"
   ]
  },
  {
   "cell_type": "code",
   "execution_count": 538,
   "id": "0b79c915",
   "metadata": {},
   "outputs": [
    {
     "data": {
      "text/html": [
       "<div>\n",
       "<style scoped>\n",
       "    .dataframe tbody tr th:only-of-type {\n",
       "        vertical-align: middle;\n",
       "    }\n",
       "\n",
       "    .dataframe tbody tr th {\n",
       "        vertical-align: top;\n",
       "    }\n",
       "\n",
       "    .dataframe thead th {\n",
       "        text-align: right;\n",
       "    }\n",
       "</style>\n",
       "<table border=\"1\" class=\"dataframe\">\n",
       "  <thead>\n",
       "    <tr style=\"text-align: right;\">\n",
       "      <th>sent</th>\n",
       "      <th>negative</th>\n",
       "      <th>positive</th>\n",
       "      <th>total</th>\n",
       "      <th>pos %</th>\n",
       "    </tr>\n",
       "    <tr>\n",
       "      <th>actor</th>\n",
       "      <th></th>\n",
       "      <th></th>\n",
       "      <th></th>\n",
       "      <th></th>\n",
       "    </tr>\n",
       "  </thead>\n",
       "  <tbody>\n",
       "    <tr>\n",
       "      <th>Tyrone Power</th>\n",
       "      <td>0</td>\n",
       "      <td>40</td>\n",
       "      <td>40</td>\n",
       "      <td>1.0</td>\n",
       "    </tr>\n",
       "    <tr>\n",
       "      <th>Geetha</th>\n",
       "      <td>0</td>\n",
       "      <td>33</td>\n",
       "      <td>33</td>\n",
       "      <td>1.0</td>\n",
       "    </tr>\n",
       "    <tr>\n",
       "      <th>Chandra Mohan</th>\n",
       "      <td>0</td>\n",
       "      <td>27</td>\n",
       "      <td>27</td>\n",
       "      <td>1.0</td>\n",
       "    </tr>\n",
       "    <tr>\n",
       "      <th>Dhanush</th>\n",
       "      <td>0</td>\n",
       "      <td>27</td>\n",
       "      <td>27</td>\n",
       "      <td>1.0</td>\n",
       "    </tr>\n",
       "    <tr>\n",
       "      <th>Ian McKellen</th>\n",
       "      <td>0</td>\n",
       "      <td>27</td>\n",
       "      <td>27</td>\n",
       "      <td>1.0</td>\n",
       "    </tr>\n",
       "    <tr>\n",
       "      <th>Max von Sydow</th>\n",
       "      <td>0</td>\n",
       "      <td>27</td>\n",
       "      <td>27</td>\n",
       "      <td>1.0</td>\n",
       "    </tr>\n",
       "    <tr>\n",
       "      <th>Soumitra Chatterjee</th>\n",
       "      <td>0</td>\n",
       "      <td>26</td>\n",
       "      <td>26</td>\n",
       "      <td>1.0</td>\n",
       "    </tr>\n",
       "    <tr>\n",
       "      <th>Keith Carradine</th>\n",
       "      <td>0</td>\n",
       "      <td>24</td>\n",
       "      <td>24</td>\n",
       "      <td>1.0</td>\n",
       "    </tr>\n",
       "    <tr>\n",
       "      <th>Forrest Tucker</th>\n",
       "      <td>0</td>\n",
       "      <td>23</td>\n",
       "      <td>23</td>\n",
       "      <td>1.0</td>\n",
       "    </tr>\n",
       "    <tr>\n",
       "      <th>Laurence Harvey</th>\n",
       "      <td>0</td>\n",
       "      <td>23</td>\n",
       "      <td>23</td>\n",
       "      <td>1.0</td>\n",
       "    </tr>\n",
       "  </tbody>\n",
       "</table>\n",
       "</div>"
      ],
      "text/plain": [
       "sent                 negative  positive  total  pos %\n",
       "actor                                                \n",
       "Tyrone Power                0        40     40    1.0\n",
       "Geetha                      0        33     33    1.0\n",
       "Chandra Mohan               0        27     27    1.0\n",
       "Dhanush                     0        27     27    1.0\n",
       "Ian McKellen                0        27     27    1.0\n",
       "Max von Sydow               0        27     27    1.0\n",
       "Soumitra Chatterjee         0        26     26    1.0\n",
       "Keith Carradine             0        24     24    1.0\n",
       "Forrest Tucker              0        23     23    1.0\n",
       "Laurence Harvey             0        23     23    1.0"
      ]
     },
     "execution_count": 538,
     "metadata": {},
     "output_type": "execute_result"
    },
    {
     "data": {
      "text/html": [
       "<div>\n",
       "<style scoped>\n",
       "    .dataframe tbody tr th:only-of-type {\n",
       "        vertical-align: middle;\n",
       "    }\n",
       "\n",
       "    .dataframe tbody tr th {\n",
       "        vertical-align: top;\n",
       "    }\n",
       "\n",
       "    .dataframe thead th {\n",
       "        text-align: right;\n",
       "    }\n",
       "</style>\n",
       "<table border=\"1\" class=\"dataframe\">\n",
       "  <thead>\n",
       "    <tr style=\"text-align: right;\">\n",
       "      <th>sent</th>\n",
       "      <th>negative</th>\n",
       "      <th>positive</th>\n",
       "      <th>total</th>\n",
       "      <th>pos %</th>\n",
       "    </tr>\n",
       "    <tr>\n",
       "      <th>actor</th>\n",
       "      <th></th>\n",
       "      <th></th>\n",
       "      <th></th>\n",
       "      <th></th>\n",
       "    </tr>\n",
       "  </thead>\n",
       "  <tbody>\n",
       "    <tr>\n",
       "      <th></th>\n",
       "      <td>62</td>\n",
       "      <td>292</td>\n",
       "      <td>354</td>\n",
       "      <td>0.824859</td>\n",
       "    </tr>\n",
       "    <tr>\n",
       "      <th>Mithun Chakraborty</th>\n",
       "      <td>15</td>\n",
       "      <td>139</td>\n",
       "      <td>154</td>\n",
       "      <td>0.902597</td>\n",
       "    </tr>\n",
       "    <tr>\n",
       "      <th>Jeetendra</th>\n",
       "      <td>15</td>\n",
       "      <td>136</td>\n",
       "      <td>151</td>\n",
       "      <td>0.900662</td>\n",
       "    </tr>\n",
       "    <tr>\n",
       "      <th>Sivaji Ganesan</th>\n",
       "      <td>19</td>\n",
       "      <td>112</td>\n",
       "      <td>131</td>\n",
       "      <td>0.854962</td>\n",
       "    </tr>\n",
       "    <tr>\n",
       "      <th>Prakash Raj</th>\n",
       "      <td>16</td>\n",
       "      <td>109</td>\n",
       "      <td>125</td>\n",
       "      <td>0.872000</td>\n",
       "    </tr>\n",
       "    <tr>\n",
       "      <th>Pran</th>\n",
       "      <td>19</td>\n",
       "      <td>102</td>\n",
       "      <td>121</td>\n",
       "      <td>0.842975</td>\n",
       "    </tr>\n",
       "    <tr>\n",
       "      <th>Dharmendra</th>\n",
       "      <td>17</td>\n",
       "      <td>100</td>\n",
       "      <td>117</td>\n",
       "      <td>0.854701</td>\n",
       "    </tr>\n",
       "    <tr>\n",
       "      <th>M. G. Ramachandran</th>\n",
       "      <td>22</td>\n",
       "      <td>93</td>\n",
       "      <td>115</td>\n",
       "      <td>0.808696</td>\n",
       "    </tr>\n",
       "    <tr>\n",
       "      <th>Amitabh Bachchan</th>\n",
       "      <td>16</td>\n",
       "      <td>95</td>\n",
       "      <td>111</td>\n",
       "      <td>0.855856</td>\n",
       "    </tr>\n",
       "    <tr>\n",
       "      <th>N. T. Rama Rao</th>\n",
       "      <td>20</td>\n",
       "      <td>90</td>\n",
       "      <td>110</td>\n",
       "      <td>0.818182</td>\n",
       "    </tr>\n",
       "  </tbody>\n",
       "</table>\n",
       "</div>"
      ],
      "text/plain": [
       "sent                negative  positive  total     pos %\n",
       "actor                                                  \n",
       "                          62       292    354  0.824859\n",
       "Mithun Chakraborty        15       139    154  0.902597\n",
       "Jeetendra                 15       136    151  0.900662\n",
       "Sivaji Ganesan            19       112    131  0.854962\n",
       "Prakash Raj               16       109    125  0.872000\n",
       "Pran                      19       102    121  0.842975\n",
       "Dharmendra                17       100    117  0.854701\n",
       "M. G. Ramachandran        22        93    115  0.808696\n",
       "Amitabh Bachchan          16        95    111  0.855856\n",
       "N. T. Rama Rao            20        90    110  0.818182"
      ]
     },
     "execution_count": 538,
     "metadata": {},
     "output_type": "execute_result"
    }
   ],
   "source": [
    "table = pd.pivot_table(actor_sent_df, values='sent', index=['actor'],\n",
    "                       columns=['sent'], aggfunc=pd.DataFrame.count, fill_value=0)\n",
    "#table\n",
    "table['total'] = (table['positive'] +  table['negative'])\n",
    "table['pos %'] = table['positive']/table['total']\n",
    "table.sort_values(by=['pos %', 'total'], ascending=False).head(10)\n",
    "table.sort_values(by=['total'], ascending=False).head(10)"
   ]
  },
  {
   "cell_type": "markdown",
   "id": "2d3da29d",
   "metadata": {},
   "source": [
    "**Вывод**: _Популярные актеры (в большинстве американские, британские и индийские) снимаются в фильмах с позитивным сентиментом._"
   ]
  },
  {
   "cell_type": "markdown",
   "id": "db697475",
   "metadata": {},
   "source": [
    "#### Распределение по жанрам"
   ]
  },
  {
   "cell_type": "code",
   "execution_count": 539,
   "id": "1fb6f85c",
   "metadata": {},
   "outputs": [],
   "source": [
    "top_genres = ['family', 'sci-fi', 'comedy, drama', \n",
    "              'animation', 'war', 'mystery', 'film noir',\n",
    "              'science fiction', 'romantic comedy', 'crime drama', \n",
    "              'musical', 'adventure', 'crime', 'western', 'romance',\n",
    "              'thriller', 'action', 'horror', 'comedy', 'drama']\n",
    "\n",
    "df_gs = df.groupby(['Genre', 'sentiment']).count()\n",
    "g_cnt = df_gs.query('Genre.isin(@top_genres)')['g_cnt']\n",
    "\n",
    "results = {}\n",
    "for genre, sent in g_cnt.index:\n",
    "    s_cnt = results.get(genre, [0, 0])\n",
    "    if sent == 'negative':\n",
    "        s_cnt[0] = g_cnt[genre, sent]\n",
    "    else:\n",
    "        s_cnt[1] = g_cnt[genre, sent]\n",
    "    \n",
    "    results[genre] = s_cnt\n",
    "      \n",
    "\n",
    "for genre, s_cnt in results.items():\n",
    "    _all = sum(s_cnt)\n",
    "    results[genre] = [_cnt / _all for _cnt in s_cnt]\n",
    "\n",
    "\n",
    "results = {k: v for k, v in sorted(results.items(), key=lambda item: item[1][0], reverse=True)}"
   ]
  },
  {
   "cell_type": "code",
   "execution_count": 540,
   "id": "214ef49b",
   "metadata": {},
   "outputs": [
    {
     "data": {
      "text/plain": [
       "(<Figure size 662.4x720 with 1 Axes>, <AxesSubplot:>)"
      ]
     },
     "execution_count": 540,
     "metadata": {},
     "output_type": "execute_result"
    },
    {
     "data": {
      "image/png": "[encoded data removed]",
      "text/plain": [
       "<Figure size 662.4x720 with 1 Axes>"
      ]
     },
     "metadata": {
      "needs_background": "light"
     },
     "output_type": "display_data"
    }
   ],
   "source": [
    "category_names = ['Negative', 'Positiv']\n",
    "def survey(results, category_names):\n",
    "    \"\"\"\n",
    "    Parameters\n",
    "    ----------\n",
    "    results : dict\n",
    "        A mapping from question labels to a list of answers per category.\n",
    "        It is assumed all lists contain the same number of entries and that\n",
    "        it matches the length of *category_names*.\n",
    "    category_names : list of str\n",
    "        The category labels.\n",
    "    \"\"\"\n",
    "    labels = list(results.keys())\n",
    "    data = np.array(list(results.values()))\n",
    "    data_cum = data.cumsum(axis=1)\n",
    "    category_colors = plt.get_cmap('RdYlGn')(\n",
    "        np.linspace(0.15, 0.85, data.shape[1]))\n",
    "\n",
    "    fig, ax = plt.subplots(figsize=(9.2, 10))\n",
    "    ax.invert_yaxis()\n",
    "    ax.xaxis.set_visible(False)\n",
    "    ax.set_xlim(0, np.sum(data, axis=1).max())\n",
    "\n",
    "    for i, (colname, color) in enumerate(zip(category_names, category_colors)):\n",
    "        widths = data[:, i]\n",
    "        starts = data_cum[:, i] - widths\n",
    "        rects = ax.barh(labels, widths, left=starts, height=0.5,\n",
    "                        label=colname, color=color)\n",
    "\n",
    "        r, g, b, _ = color\n",
    "        text_color = 'white' if r * g * b < 0.5 else 'darkgrey'\n",
    "        ax.bar_label(rects, label_type='center', color=text_color)\n",
    "    ax.legend(ncol=len(category_names), bbox_to_anchor=(0, 1),\n",
    "              loc='lower left', fontsize='small')\n",
    "\n",
    "    return fig, ax\n",
    "\n",
    "\n",
    "survey(results, category_names)\n",
    "plt.show()"
   ]
  },
  {
   "cell_type": "markdown",
   "id": "4ae5d93b",
   "metadata": {},
   "source": [
    "**Вывод**: _Исходя из выше приведенного исследования по распределению sentiment по жанрам можно сделать вывод, о том что в фильмах ужасах,  научной фантастики, триллерах негативного сентимента больше, чем в комедиях и иных развлекательных и лирических жанрах._"
   ]
  }
 ],
 "metadata": {
  "kernelspec": {
   "display_name": "Python 3",
   "language": "python",
   "name": "python3"
  },
  "language_info": {
   "codemirror_mode": {
    "name": "ipython",
    "version": 3
   },
   "file_extension": ".py",
   "mimetype": "text/x-python",
   "name": "python",
   "nbconvert_exporter": "python",
   "pygments_lexer": "ipython3",
   "version": "3.8.2"
  }
 },
 "nbformat": 4,
 "nbformat_minor": 5
}
